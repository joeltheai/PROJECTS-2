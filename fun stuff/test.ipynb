{
 "cells": [
  {
   "cell_type": "code",
   "execution_count": 3,
   "metadata": {},
   "outputs": [],
   "source": [
    "s = 'anagramam,sa'"
   ]
  },
  {
   "cell_type": "code",
   "execution_count": 4,
   "metadata": {},
   "outputs": [
    {
     "name": "stdout",
     "output_type": "stream",
     "text": [
      "0 9.0\n",
      "1 6\n",
      "2 3\n",
      "3 5\n",
      "4 78\n",
      "5 9\n"
     ]
    }
   ],
   "source": [
    "l = [9.0,6,3,5,78,9]\n",
    "for i,v in enumerate(l):\n",
    "    print(i,v)\n"
   ]
  },
  {
   "cell_type": "code",
   "execution_count": 5,
   "metadata": {},
   "outputs": [
    {
     "name": "stdout",
     "output_type": "stream",
     "text": [
      "anagramam,sa\n"
     ]
    }
   ],
   "source": [
    "l =  [2,3,4,2]\n",
    "t = 4\n",
    "\n",
    "\n",
    "s = s.replace('z', '',1)\n",
    "\n",
    "print(s)\n"
   ]
  },
  {
   "cell_type": "code",
   "execution_count": 9,
   "metadata": {},
   "outputs": [
    {
     "name": "stdout",
     "output_type": "stream",
     "text": [
      "012345678"
     ]
    }
   ],
   "source": [
    "p = \"joel hehe\"\n",
    "\n",
    "\n",
    "for i in range(9):\n",
    "    print(i,end=\"\")"
   ]
  },
  {
   "cell_type": "code",
   "execution_count": 6,
   "metadata": {},
   "outputs": [
    {
     "ename": "TypeError",
     "evalue": "list indices must be integers or slices, not tuple",
     "output_type": "error",
     "traceback": [
      "\u001b[1;31m---------------------------------------------------------------------------\u001b[0m",
      "\u001b[1;31mTypeError\u001b[0m                                 Traceback (most recent call last)",
      "\u001b[1;32mc:\\Users\\joelv\\Desktop\\projects 2\\fun stuff\\test.ipynb Cell 4\u001b[0m in \u001b[0;36m<cell line: 1>\u001b[1;34m()\u001b[0m\n\u001b[1;32m----> <a href='vscode-notebook-cell:/c%3A/Users/joelv/Desktop/projects%202/fun%20stuff/test.ipynb#W2sZmlsZQ%3D%3D?line=0'>1</a>\u001b[0m l [\u001b[39m2\u001b[39;49m,\u001b[39m3\u001b[39;49m,\u001b[39m4\u001b[39;49m,\u001b[39m2\u001b[39;49m]\n\u001b[0;32m      <a href='vscode-notebook-cell:/c%3A/Users/joelv/Desktop/projects%202/fun%20stuff/test.ipynb#W2sZmlsZQ%3D%3D?line=1'>2</a>\u001b[0m t \u001b[39m=\u001b[39m \u001b[39m4\u001b[39m\n\u001b[0;32m      <a href='vscode-notebook-cell:/c%3A/Users/joelv/Desktop/projects%202/fun%20stuff/test.ipynb#W2sZmlsZQ%3D%3D?line=4'>5</a>\u001b[0m s \u001b[39m=\u001b[39m s\u001b[39m.\u001b[39mreplace(\u001b[39m'\u001b[39m\u001b[39mz\u001b[39m\u001b[39m'\u001b[39m, \u001b[39m'\u001b[39m\u001b[39m'\u001b[39m,\u001b[39m1\u001b[39m)\n",
      "\u001b[1;31mTypeError\u001b[0m: list indices must be integers or slices, not tuple"
     ]
    }
   ],
   "source": [
    "\n",
    "\n",
    "l [2,3,4,2]\n",
    "t = 4\n",
    "\n",
    "\n",
    "s = s.replace('z', '',1)\n",
    "\n",
    "print(s)\n"
   ]
  },
  {
   "cell_type": "code",
   "execution_count": 1,
   "metadata": {},
   "outputs": [],
   "source": [
    "\n",
    "\n",
    "\n",
    "\n",
    "def twoSum( nums, target):\n",
    "        # saving indices in a map for every corresponding number\n",
    "        positions_map = {}\n",
    "        for index, number in enumerate(nums):\n",
    "            positions_map[number] = index\n",
    "\n",
    "        for index, number in enumerate(nums):\n",
    "            required = target - number\n",
    "            if required in positions_map and positions_map[required] != index:\n",
    "                return [index, positions_map[required]]"
   ]
  },
  {
   "cell_type": "code",
   "execution_count": 23,
   "metadata": {},
   "outputs": [
    {
     "name": "stdout",
     "output_type": "stream",
     "text": [
      "h\n",
      "e\n",
      "l\n",
      "l\n",
      "o\n"
     ]
    }
   ],
   "source": [
    "g =  \"hello\"\n",
    "for i in g:\n",
    "    print(i)"
   ]
  },
  {
   "cell_type": "code",
   "execution_count": 43,
   "metadata": {},
   "outputs": [
    {
     "data": {
      "text/plain": [
       "True"
      ]
     },
     "execution_count": 43,
     "metadata": {},
     "output_type": "execute_result"
    }
   ],
   "source": [
    "# leetcode 242\n",
    "class Solution:\n",
    "    def isAnagram(self, s: str, t: str) -> bool:\n",
    "        for i in s:\n",
    "            if i in t:\n",
    "                s = s.replace(i,\"\",1)\n",
    "                t = t.replace(i,\"\",1)\n",
    "            \n",
    "        if s == t:\n",
    "            return True\n",
    "        else:\n",
    "            return False\n",
    "\n",
    "\n",
    "Solution.isAnagram(1,\"angaram\",\"nagaram\")\n",
    "        "
   ]
  },
  {
   "cell_type": "code",
   "execution_count": 3,
   "metadata": {},
   "outputs": [
    {
     "name": "stdout",
     "output_type": "stream",
     "text": [
      "True\n",
      "True\n",
      "True\n",
      "True\n",
      "False\n",
      "True\n",
      "True\n"
     ]
    }
   ],
   "source": [
    "q = \"poop po\"\n",
    "\n",
    "for i in q:\n",
    "    print(i.isalpha())"
   ]
  },
  {
   "cell_type": "code",
   "execution_count": 18,
   "metadata": {},
   "outputs": [
    {
     "data": {
      "text/plain": [
       "True"
      ]
     },
     "execution_count": 18,
     "metadata": {},
     "output_type": "execute_result"
    }
   ],
   "source": [
    "class Solution:\n",
    "    def isPalindrome(self, s: str) -> bool:\n",
    "\n",
    "        t = \"\"\n",
    "        for i in s:\n",
    "            if i.isalnum() == True:\n",
    "                t+=i\n",
    "        if t[::-1].title() == t.title():\n",
    "            return True\n",
    "        else:\n",
    "            return False\n",
    "\n",
    "Solution.isPalindrome(1,\"A man, a  plan, a canal: Panama\")\n",
    "        "
   ]
  },
  {
   "cell_type": "code",
   "execution_count": 3,
   "metadata": {},
   "outputs": [],
   "source": [
    "def countl(ss):\n",
    "        d = {}\n",
    "        for i in ss:\n",
    "            if i in d:\n",
    "                d[i]+=1\n",
    "            else:\n",
    "                d[i] = 1\n",
    "        return d"
   ]
  },
  {
   "cell_type": "code",
   "execution_count": 10,
   "metadata": {},
   "outputs": [],
   "source": [
    "\n",
    "def groupAnagrams( strs):\n",
    "        g = {}\n",
    "        for i in strs:\n",
    "            g[i] = countl(i)\n",
    "        l = []\n",
    "        c = 0\n",
    "        for i in strs:\n",
    "            l.append([i])\n",
    "            for j in g:\n",
    "                if g[i] == g[j] and j != i:\n",
    "                    l[c].append(j)\n",
    "            c+=1\n",
    "        return l\n"
   ]
  },
  {
   "cell_type": "code",
   "execution_count": 9,
   "metadata": {},
   "outputs": [],
   "source": [
    "def groupAnagrams( strs):\n",
    "        g = {}\n",
    "        for i in strs:\n",
    "            g[i] = countl(i)\n",
    "        l = []\n",
    "        p = []\n",
    "        c = 0\n",
    "        for i in strs:\n",
    "            l.append([i])\n",
    "            for j in g:\n",
    "                if g[i] == g[j] and j != i and j not in p:\n",
    "                    l[c].append(j)\n",
    "                    p.append(j)\n",
    "                    \n",
    "            c+=1\n",
    "        return l"
   ]
  },
  {
   "cell_type": "code",
   "execution_count": 7,
   "metadata": {},
   "outputs": [],
   "source": [
    "def groupAnagrams( strs):\n",
    "        g = {}\n",
    "        for i in strs:\n",
    "            g[i] = countl(i)\n",
    "        l = []\n",
    "        c = 0\n",
    "        for k,i in enumerate(strs):\n",
    "            f = []\n",
    "            f.append(i)\n",
    "            for y,j in enumerate(strs):\n",
    "                if (g[i] == g[j] and k!=y):\n",
    "                    f.append(j)\n",
    "            f.sort()\n",
    "            if f not in l and f != []:\n",
    "                l.append(f)\n",
    "            c+=1\n",
    "        return l"
   ]
  },
  {
   "cell_type": "code",
   "execution_count": 8,
   "metadata": {},
   "outputs": [
    {
     "name": "stdout",
     "output_type": "stream",
     "text": [
      "[['ate', 'eat', 'tea'], ['nat', 'tan'], ['bat']]\n",
      "[['', ''], ['b']]\n",
      "[['']]\n"
     ]
    }
   ],
   "source": [
    "print(groupAnagrams([\"eat\",\"tea\",\"tan\",\"ate\",\"nat\",\"bat\"]))\n",
    "\n",
    "print(groupAnagrams([\"\",\"\",\"b\"]))\n",
    "\n",
    "print(groupAnagrams([\"\"]))"
   ]
  },
  {
   "cell_type": "code",
   "execution_count": 5,
   "metadata": {},
   "outputs": [
    {
     "name": "stdout",
     "output_type": "stream",
     "text": [
      "['b', 'c', 'c', 'g', 'h', 'j', 'x', 'z']\n"
     ]
    },
    {
     "data": {
      "text/plain": [
       "'bccghjxz'"
      ]
     },
     "execution_count": 5,
     "metadata": {},
     "output_type": "execute_result"
    }
   ],
   "source": [
    "a = \"czxbgcjh\"\n",
    "print(sorted(a))\n",
    "''.join(sorted(a))"
   ]
  },
  {
   "cell_type": "code",
   "execution_count": 9,
   "metadata": {},
   "outputs": [
    {
     "data": {
      "text/plain": [
       "[[8]]"
      ]
     },
     "execution_count": 9,
     "metadata": {},
     "output_type": "execute_result"
    }
   ],
   "source": [
    "p = []\n",
    "\n",
    "p.append([8])\n",
    "\n",
    "p"
   ]
  },
  {
   "cell_type": "code",
   "execution_count": 7,
   "metadata": {},
   "outputs": [
    {
     "name": "stdout",
     "output_type": "stream",
     "text": [
      "[['ate', 'eat', 'tea'], ['nat', 'tan'], ['bat']]\n",
      "[['', ''], ['b']]\n",
      "[['']]\n"
     ]
    }
   ],
   "source": [
    "def countl(ss):\n",
    "        d = {}\n",
    "        for i in ss:\n",
    "            if i in d:\n",
    "                d[i]+=1\n",
    "            else:\n",
    "                d[i] = 1\n",
    "        return d\n",
    "\n",
    "from typing import List\n",
    "\n",
    "class Solution:\n",
    "    def groupAnagrams(self, strs: List[str]) -> List[List[str]]:\n",
    "        g = {}\n",
    "        for i in strs:\n",
    "            g[i] = countl(i)\n",
    "        l = []\n",
    "        c = 0\n",
    "        for k,i in enumerate(strs):\n",
    "            f = []\n",
    "            f.append(i)\n",
    "            for y,j in enumerate(strs):\n",
    "                if (g[i] == g[j] and k!=y):\n",
    "                    f.append(j)\n",
    "            f.sort()\n",
    "            if f not in l and f != []:\n",
    "                l.append(f)\n",
    "            c+=1\n",
    "        return l\n",
    "\n",
    "print(Solution.groupAnagrams(1,[\"eat\",\"tea\",\"tan\",\"ate\",\"nat\",\"bat\"]))\n",
    "\n",
    "print(Solution.groupAnagrams(1,[\"\",\"\",\"b\"]))\n",
    "\n",
    "print(Solution.groupAnagrams(1,[\"\"]))\n",
    "        "
   ]
  },
  {
   "cell_type": "code",
   "execution_count": 22,
   "metadata": {},
   "outputs": [
    {
     "name": "stdout",
     "output_type": "stream",
     "text": [
      "[['ate', 'eat', 'tea'], ['nat', 'tan'], ['bat']]\n",
      "[['', ''], ['b']]\n",
      "[['']]\n",
      "[['', '', '']]\n"
     ]
    }
   ],
   "source": [
    "def countl(ss):\n",
    "        d = {}\n",
    "        for i in ss:\n",
    "            if i in d:\n",
    "                d[i]+=1\n",
    "            else:\n",
    "                d[i] = 1\n",
    "        return d\n",
    "\n",
    "from typing import List\n",
    "\n",
    "class Solution:\n",
    "    def groupAnagrams(self, strs: List[str]) -> List[List[str]]:\n",
    "        g = {}\n",
    "        for i in strs:\n",
    "            \n",
    "            g[i] = countl(i)\n",
    "\n",
    "        l = []\n",
    "        p = strs\n",
    "        c = 0\n",
    "        for k,i in enumerate(strs):\n",
    "            f = []\n",
    "            f.append(i)\n",
    "            for y,j in enumerate(strs):\n",
    "                if (g[i] == g[j] and k!=y):\n",
    "                    f.append(j)\n",
    "            f.sort()\n",
    "            if f not in l and f != []:\n",
    "                l.append(f)\n",
    "            c+=1\n",
    "        return l\n",
    "\n",
    "\n",
    "print(Solution.groupAnagrams(1,[\"eat\",\"tea\",\"tan\",\"ate\",\"nat\",\"bat\"]))\n",
    "\n",
    "print(Solution.groupAnagrams(1,[\"\",\"b\",\"\"]))\n",
    "\n",
    "print(Solution.groupAnagrams(1,[\"\"]))  \n",
    "print(Solution.groupAnagrams(1,[\"\",\"\",\"\"]))  "
   ]
  },
  {
   "cell_type": "code",
   "execution_count": 2,
   "metadata": {},
   "outputs": [
    {
     "name": "stdout",
     "output_type": "stream",
     "text": [
      "hello\n",
      "hello\n",
      "[['ate', 'eat', 'tea'], ['nat', 'tan'], ['bat'], ['', '', '']]\n",
      "[['', '', ''], ['b']]\n",
      "[['']]\n",
      "[['', '', '']]\n"
     ]
    }
   ],
   "source": [
    "def countl(ss):\n",
    "        d = {}\n",
    "        for i in ss:\n",
    "            if i in d:\n",
    "                d[i]+=1\n",
    "            else:\n",
    "                d[i] = 1\n",
    "        return d\n",
    "\n",
    "print(\"hellokkk\")\n",
    "print(\"hellokkk\")\n",
    "from typing import List\n",
    "\n",
    "class Solution:\n",
    "    def groupAnagrams(self, strs: List[str]) -> List[List[str]]:\n",
    "        g = {}\n",
    "        for i in strs:\n",
    "            \n",
    "            g[i] = countl(i)\n",
    "\n",
    "        l = []\n",
    "        p = strs\n",
    "\n",
    "        for k,i in enumerate(strs):\n",
    "            f = []\n",
    "            f.append(i)\n",
    "            for y,j in enumerate(strs):\n",
    "                if (g[i] == g[j] and k!=y):\n",
    "                    f.append(j)\n",
    "            f.sort()\n",
    "            if f not in l and f != []:\n",
    "                l.append(f)\n",
    "        return l\n",
    "\n",
    "print(Solution.groupAnagrams(1,[\"eat\",\"tea\",\"tan\",\"ate\",\"nat\",\"bat\",\"\",\"\",\"\"]))\n",
    "\n",
    "print(Solution.groupAnagrams(1,[\"\",\"b\",\"\",\"\"]))\n",
    "\n",
    "print(Solution.groupAnagrams(1,[\"\"]))  \n",
    "print(Solution.groupAnagrams(1,[\"\",\"\",\"\"]))  "
   ]
  },
  {
   "cell_type": "code",
   "execution_count": 7,
   "metadata": {},
   "outputs": [
    {
     "name": "stdout",
     "output_type": "stream",
     "text": [
      "[0]\n",
      "[1]\n",
      "[1, 2]\n"
     ]
    }
   ],
   "source": [
    "from typing import List\n",
    "\n",
    "\n",
    "class Solution:\n",
    "        \n",
    "    def topKFrequent(self, nums: List[int], k: int) -> List[int]:\n",
    "        d = {}\n",
    "\n",
    "        for i in nums:\n",
    "            if i in d:\n",
    "                d[i] = d[i] + 1\n",
    "            else:\n",
    "                d[i] = 1\n",
    "\n",
    "        d = {k: v for k, v in sorted(d.items(), key=lambda item: item[1],reverse=True)}\n",
    "        l = []\n",
    "        j = k\n",
    "        for i in d:\n",
    "            j -=1\n",
    "            l.append(i)\n",
    "            if j == 0:\n",
    "                break\n",
    "\n",
    "            \n",
    "        return l\n",
    "    \n",
    "print(Solution.topKFrequent(1,[3,0,1,0],1))\n",
    "print(Solution.topKFrequent(1,[3,0,1,1,1,1,0],1))\n",
    "print(Solution.topKFrequent(1,[1,1,1,2,2,3],2))"
   ]
  },
  {
   "cell_type": "code",
   "execution_count": 3,
   "metadata": {},
   "outputs": [
    {
     "name": "stdout",
     "output_type": "stream",
     "text": [
      "[0, 27, 0, 0]\n"
     ]
    }
   ],
   "source": [
    "from typing import List\n",
    "class Solution:\n",
    "    def productExceptSelf(self, nums: List[int]) -> List[int]:\n",
    "        l = []\n",
    "\n",
    "        for i,v in enumerate(nums):\n",
    "            h = 1\n",
    "            for j,k in enumerate(nums):\n",
    "                if j!=i:\n",
    "                    h *= k\n",
    "            l.append(h)\n",
    "        return l\n",
    "\n",
    "print(Solution.productExceptSelf(1,[3,0,1,9]))"
   ]
  },
  {
   "cell_type": "code",
   "execution_count": 4,
   "metadata": {},
   "outputs": [
    {
     "name": "stdout",
     "output_type": "stream",
     "text": [
      "[0, 1, 2, 3]\n"
     ]
    }
   ],
   "source": [
    "from typing import List\n",
    "class Solution:\n",
    "    def productExceptSelf(self, nums: List[int]) -> List[int]:\n",
    "        l = [1 for i in nums]\n",
    "        d = {}\n",
    "\n",
    "        for i,v in enumerate(nums):\n",
    "            d[v] = i\n",
    "            \n",
    "        for i,v in enumerate(nums):\n",
    "            \n",
    "            \n",
    "\n",
    "\n",
    "        return list(d.values())\n",
    "\n",
    "print(Solution.productExceptSelf(1,[3,0,1,9]))"
   ]
  },
  {
   "cell_type": "code",
   "execution_count": 5,
   "metadata": {},
   "outputs": [
    {
     "data": {
      "text/plain": [
       "[1, 1, 1, 1]"
      ]
     },
     "execution_count": 5,
     "metadata": {},
     "output_type": "execute_result"
    }
   ],
   "source": [
    "nums = [34,6,88,1]\n",
    "\n",
    "l = [1 for i in nums]\n",
    "l"
   ]
  },
  {
   "cell_type": "code",
   "execution_count": 32,
   "metadata": {},
   "outputs": [
    {
     "data": {
      "text/plain": [
       "{1: 4, 0: 2, 3: 1}"
      ]
     },
     "execution_count": 32,
     "metadata": {},
     "output_type": "execute_result"
    }
   ],
   "source": [
    "d = {3: 1, 0: 2, 1: 4}\n",
    "\n",
    "{k: v for k, v in sorted(d.items(), key=lambda item: item[1],reverse=True)}"
   ]
  },
  {
   "cell_type": "code",
   "execution_count": 8,
   "metadata": {},
   "outputs": [
    {
     "name": "stdout",
     "output_type": "stream",
     "text": [
      "[1, 2]\n"
     ]
    }
   ],
   "source": [
    "from typing import List\n",
    "\n",
    "\n",
    "class Solution:\n",
    "    def twoSum(self, nums: List[int], target: int) -> List[int]:\n",
    "        l,r = 0, len(nums) - 1\n",
    "\n",
    "        while True:\n",
    "            c = nums[l] + nums[r]\n",
    "            if c < target:\n",
    "                l+=1\n",
    "            elif c > target:\n",
    "                r-=1\n",
    "            else:\n",
    "                return [l+1, r+1]\n",
    "\n",
    "\n",
    "print(Solution.twoSum(1,[2,7,11,15],9))"
   ]
  },
  {
   "cell_type": "code",
   "execution_count": 1,
   "metadata": {},
   "outputs": [
    {
     "name": "stdout",
     "output_type": "stream",
     "text": [
      "                                                        \n",
      "                                                        \n",
      "                                                        \n",
      "              *                           *             \n",
      "            *   *                       *   *           \n",
      "          *       *                   *       *         \n",
      "        *           *               *           *       \n",
      "      *               *           *               *     \n",
      "    *                   *       *                   *   \n",
      "  *                       *   *                       * \n",
      "*                           *                           \n",
      "*                                                     * \n",
      "*                         A N A                         \n",
      "  *                                                   * \n",
      "    *                                               *   \n",
      "      *                                           *     \n",
      "        *                                       *       \n",
      "          *                                   *         \n",
      "            *                               *           \n",
      "              *                           *             \n",
      "                *                       *               \n",
      "                  *                   *                 \n",
      "                    *               *                   \n",
      "                      *           *                     \n",
      "                        *       *                       \n",
      "                          *   *                         \n",
      "                            *                           \n"
     ]
    }
   ],
   "source": [
    "# define size n = even only\n",
    "n = 27\n",
    "\n",
    "# so this heart can be made n//2 part left,\n",
    "# n//2 part right, and one middle line\n",
    "# i.e; columns m = n + 1\n",
    "m = n+1\n",
    "\n",
    "# loops for upper part\n",
    "for i in range(n//2-1):\n",
    "\tfor j in range(m):\n",
    "\t\t\n",
    "\t\t# condition for printing stars to GFG upper line\n",
    "\t\tif i == n//2-2 and (j == 0 or j == m-1):\n",
    "\t\t\tprint(\"*\", end=\" \")\n",
    "\t\t\t\n",
    "\t\t# condition for printing stars to left upper\n",
    "\t\telif j <= m//2 and ((i+j == n//2-3 and j <= m//4) \\\n",
    "\t\t\t\t\t\t\tor (j-i == m//2-n//2+3 and j > m//4)):\n",
    "\t\t\tprint(\"*\", end=\" \")\n",
    "\t\t\t\n",
    "\t\t# condition for printing stars to right upper\n",
    "\t\telif j > m//2 and ((i+j == n//2-3+m//2 and j < 3*m//4) \\\n",
    "\t\t\t\t\t\tor (j-i == m//2-n//2+3+m//2 and j >= 3*m//4)):\n",
    "\t\t\tprint(\"*\", end=\" \")\n",
    "\t\t\t# define size n = even only\n",
    "n = 27\n",
    "\n",
    "# so this heart can be made n//2 part left,\n",
    "# n//2 part right, and one middle line\n",
    "# i.e; columns m = n + 1\n",
    "m = n+1\n",
    "\n",
    "# loops for upper part\n",
    "for i in range(n//2-1):\n",
    "\tfor j in range(m):\n",
    "\t\t\n",
    "\t\t# condition for printing stars to GFG upper line\n",
    "\t\tif i == n//2-2 and (j == 0 or j == m-1):\n",
    "\t\t\tprint(\"*\", end=\" \")\n",
    "\t\t\t\n",
    "\t\t# condition for printing stars to left upper\n",
    "\t\telif j <= m//2 and ((i+j == n//2-3 and j <= m//4) \\\n",
    "\t\t\t\t\t\t\tor (j-i == m//2-n//2+3 and j > m//4)):\n",
    "\t\t\tprint(\"*\", end=\" \")\n",
    "\t\t\t\n",
    "\t\t# condition for printing stars to right upper\n",
    "\t\telif j > m//2 and ((i+j == n//2-3+m//2 and j < 3*m//4) \\\n",
    "\t\t\t\t\t\tor (j-i == m//2-n//2+3+m//2 and j >= 3*m//4)):\n",
    "\t\t\tprint(\"*\", end=\" \")\n",
    "\t\t\t\n",
    "\t\t# condition for printing spaces\n",
    "\t\telse:\n",
    "\t\t\tprint(\" \", end=\" \")\n",
    "\tprint()\n",
    "\n",
    "# loops for lower part\n",
    "for i in range(n//2-1, n):\n",
    "\tfor j in range(m):\n",
    "\t\t\n",
    "\t\t# condition for printing stars\n",
    "\t\tif (i-j == n//2-1) or (i+j == n-1+m//2):\n",
    "\t\t\tprint('*', end=\" \")\n",
    "\t\t\t\n",
    "\t\t# condition for printing GFG\n",
    "\t\telif i == n//2-1:\n",
    "\t\t\t\n",
    "\t\t\tif j == m//2-1 or j == m//2+1:\n",
    "\t\t\t\tprint('A', end=\" \")\n",
    "\t\t\telif j == m//2:\n",
    "\t\t\t\tprint('N', end=\" \")\n",
    "\t\t\telse:\n",
    "\t\t\t\tprint(' ', end=\" \")\n",
    "\t\t\t\t\n",
    "\t\t# condition for printing spaces\n",
    "\t\telse:\n",
    "\t\t\tprint(' ', end=\" \")\n",
    "\t\t\t\n",
    "\tprint()\n",
    "\n",
    "\t\t# condition for printing spaces\n",
    "\t\telse:\n",
    "\t\t\tprint(\" \", end=\" \")\n",
    "\tprint()\n",
    "\n",
    "# loops for lower part\n",
    "for i in range(n//2-1, n):\n",
    "\tfor j in range(m):\n",
    "\t\t\n",
    "\t\t# condition for printing stars\n",
    "\t\tif (i-j == n//2-1) or (i+j == n-1+m//2):\n",
    "\t\t\tprint('*', end=\" \")\n",
    "\t\t\t\n",
    "\t\t# condition for printing GFG\n",
    "\t\telif i == n//2-1:\n",
    "\t\t\t\n",
    "\t\t\tif j == m//2-1 or j == m//2+1:\n",
    "\t\t\t\tprint('A', end=\" \")\n",
    "\t\t\telif j == m//2:\n",
    "\t\t\t\tprint('N', end=\" \")\n",
    "\t\t\telse:\n",
    "\t\t\t\tprint(' ', end=\" \")\n",
    "\t\t\t\t\n",
    "\t\t# condition for printing spaces\n",
    "\t\telse:\n",
    "\t\t\tprint(' ', end=\" \")\n",
    "\t\t\t\n",
    "\tprint()\n"
   ]
  },
  {
   "cell_type": "code",
   "execution_count": null,
   "metadata": {},
   "outputs": [],
   "source": []
  },
  {
   "cell_type": "code",
   "execution_count": null,
   "metadata": {},
   "outputs": [],
   "source": []
  },
  {
   "cell_type": "code",
   "execution_count": 3,
   "metadata": {},
   "outputs": [
    {
     "name": "stdout",
     "output_type": "stream",
     "text": [
      "None\n"
     ]
    }
   ],
   "source": [
    "from typing import List\n",
    "class Solution:\n",
    "    def threeSum(self, nums: List[int]) -> List[List[int]]:\n",
    "\n",
    "        pass\n",
    "\n",
    "\n",
    "\n",
    "\n",
    "\n",
    "\n",
    "\n",
    "\n",
    "\n",
    "print(Solution.threeSum(1,[2,7,11,15])) "
   ]
  }
 ],
 "metadata": {
  "kernelspec": {
   "display_name": "Python 3.10.5 64-bit",
   "language": "python",
   "name": "python3"
  },
  "language_info": {
   "codemirror_mode": {
    "name": "ipython",
    "version": 3
   },
   "file_extension": ".py",
   "mimetype": "text/x-python",
   "name": "python",
   "nbconvert_exporter": "python",
   "pygments_lexer": "ipython3",
   "version": "3.10.5"
  },
  "orig_nbformat": 4,
  "vscode": {
   "interpreter": {
    "hash": "546f13b69da2962342bc38bd9c14a62503869531149da76b165cebcf3f8efe14"
   }
  }
 },
 "nbformat": 4,
 "nbformat_minor": 2
}
