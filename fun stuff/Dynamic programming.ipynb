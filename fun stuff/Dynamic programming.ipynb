{
 "cells": [
  {
   "cell_type": "markdown",
   "id": "b1a580e8",
   "metadata": {},
   "source": [
    "https://www.youtube.com/watch?v=oBt53YbR9Kk"
   ]
  },
  {
   "cell_type": "markdown",
   "id": "d6abf275",
   "metadata": {},
   "source": [
    " ## memoization"
   ]
  },
  {
   "cell_type": "markdown",
   "id": "45c1bd81",
   "metadata": {},
   "source": [
    "#### write a function that takes the position n and returns the nth fib no"
   ]
  },
  {
   "cell_type": "markdown",
   "id": "a9c62f54",
   "metadata": {},
   "source": [
    "basic wrong/inneficient implementation\n",
    "\n",
    "the below program has a time complexity of O(2^n)\n",
    "\n",
    "the space complexity is O(n)\n",
    "\n",
    "because he function calls happen only one at a time in LNR\n"
   ]
  },
  {
   "cell_type": "code",
   "execution_count": 3,
   "id": "40f58d1d",
   "metadata": {},
   "outputs": [
    {
     "name": "stdout",
     "output_type": "stream",
     "text": [
      "8\n",
      "13\n",
      "21\n",
      "34\n"
     ]
    }
   ],
   "source": [
    "# basic wrong/inneficient implementation\n",
    "\n",
    "\n",
    "def fib(n):\n",
    "    if n <= 2:\n",
    "        return 1\n",
    "    return fib(n - 1) + fib(n - 2)\n",
    "                \n",
    "\n",
    "print(fib(6))\n",
    "print(fib(7))\n",
    "print(fib(8))\n",
    "print(fib(9))\n",
    "# fib(50)  \n",
    "# takes forever to compute dont even try\n",
    "# this takes 2^50 steps\n"
   ]
  },
  {
   "cell_type": "markdown",
   "id": "ed6a84eb",
   "metadata": {},
   "source": [
    "better implementaion using memoization\n",
    "\n",
    "time complexity O(2n) -> O(n)\n",
    "\n",
    "space complexity -> O(n)"
   ]
  },
  {
   "cell_type": "code",
   "execution_count": 4,
   "id": "d0f54a4f",
   "metadata": {},
   "outputs": [
    {
     "name": "stdout",
     "output_type": "stream",
     "text": [
      "321132499826815828452384720320970862074060782643692138282072697388735283721646581360160762436827841025561894548480898890020542623496809423664669723066980931624908775724739402394881483009611433054415348267177640331222672835631629564907858584307850508476151574891670117047739206178124320617556197699087423367414181105249300715385128794295920765953173508643733461099002087678765648760921612656571558458025510084617009128909\n",
      "12586269025\n",
      "{3: 2, 4: 3, 5: 5, 6: 8, 7: 13, 8: 21, 9: 34, 10: 55, 11: 89, 12: 144, 13: 233, 14: 377, 15: 610, 16: 987, 17: 1597, 18: 2584, 19: 4181, 20: 6765, 21: 10946, 22: 17711, 23: 28657, 24: 46368, 25: 75025, 26: 121393, 27: 196418, 28: 317811, 29: 514229, 30: 832040, 31: 1346269, 32: 2178309, 33: 3524578, 34: 5702887, 35: 9227465, 36: 14930352, 37: 24157817, 38: 39088169, 39: 63245986, 40: 102334155, 41: 165580141, 42: 267914296, 43: 433494437, 44: 701408733, 45: 1134903170, 46: 1836311903, 47: 2971215073, 48: 4807526976, 49: 7778742049, 50: 12586269025}\n"
     ]
    }
   ],
   "source": [
    "def fib(n, memo={}):\n",
    "    if n in memo:\n",
    "        return memo[n]\n",
    "    if n <= 2:\n",
    "        return 1\n",
    "    memo[n] = fib(n - 1, memo) + fib(n - 2, memo)\n",
    "    return memo[n]\n",
    "\n",
    "\n",
    "print(fib(2009))\n",
    "\n",
    "dict = {}\n",
    "print(fib(50,dict))\n",
    "\n",
    "print(dict)\n"
   ]
  },
  {
   "cell_type": "markdown",
   "id": "b6f97ca2",
   "metadata": {},
   "source": [
    "#### find the number of ways you can travel corner to corner in m*n grid provided you can only move right and down\n",
    "\n",
    "#### finction takes in m and n rows and columns"
   ]
  },
  {
   "cell_type": "markdown",
   "id": "275d9952",
   "metadata": {},
   "source": [
    "time complexity = O(2^n+m)\n",
    "space complexity = O(n+m)"
   ]
  },
  {
   "cell_type": "code",
   "execution_count": 5,
   "id": "54f375fc",
   "metadata": {},
   "outputs": [
    {
     "data": {
      "text/plain": [
       "184756"
      ]
     },
     "execution_count": 5,
     "metadata": {},
     "output_type": "execute_result"
    }
   ],
   "source": [
    "def gridtravel(m, n, memo={}):\n",
    "\n",
    "    if m == 1 and n == 1:\n",
    "        return 1\n",
    "    elif m == 0 or n == 0:\n",
    "        return 0\n",
    "\n",
    "    return gridtravel(m - 1, n) + gridtravel(m, n - 1)\n",
    "\n",
    "\n",
    "gridtravel(11, 11)\n"
   ]
  },
  {
   "cell_type": "markdown",
   "id": "677376af",
   "metadata": {},
   "source": [
    "time complexity m*n\n",
    "space complexity n+m"
   ]
  },
  {
   "cell_type": "code",
   "execution_count": 6,
   "id": "6c893885",
   "metadata": {},
   "outputs": [
    {
     "data": {
      "text/plain": [
       "2048151626989489714335162502980825044396424887981397033820382637671748186202083755828932994182610206201464766319998023692415481798004524792018047549769261578563012896634320647148511523952516512277685886115395462561479073786684641544445336176137700738556738145896300713065104559595144798887462063687185145518285511731662762536637730846829322553890497438594814317550307837964443708100851637248274627914170166198837648408435414308177859470377465651884755146807496946749238030331018187232980096685674585602525499101181135253534658887941966653674904511306110096311906270342502293155911108976733963991149120"
      ]
     },
     "execution_count": 6,
     "metadata": {},
     "output_type": "execute_result"
    }
   ],
   "source": [
    "dict = {}\n",
    "# joels better code\n",
    "def gridtravel(m, n, memo={}):\n",
    "    l = tuple(sorted((m, n)))\n",
    "    if l in memo:\n",
    "        return memo[l]\n",
    "    elif 1 in l:\n",
    "        return 1\n",
    "    else:\n",
    "        memo[l] = gridtravel(m - 1, n, memo) + gridtravel(m, n - 1, memo)\n",
    "        return memo[l]\n",
    "\n",
    "\n",
    "gridtravel(1001, 1001)\n"
   ]
  },
  {
   "cell_type": "markdown",
   "id": "52b6e2af",
   "metadata": {},
   "source": [
    "memoization recipe\n",
    "\n",
    "1. make it work (with recursion look for correctness)(this is harder than step 2)\n",
    "  visualize as trees\n",
    "  implement the tree using recursion\n",
    "  test it\n",
    "\n",
    "2. make it efficient\n",
    "  add a memo object (hash object/dict)\n",
    "  add a base case to return memo values\n",
    "  store the return values into the memo\n"
   ]
  },
  {
   "cell_type": "markdown",
   "id": "34059a38",
   "metadata": {},
   "source": [
    "### cansum()"
   ]
  },
  {
   "cell_type": "markdown",
   "id": "e8923b1b",
   "metadata": {},
   "source": [
    "cansum(targetsum, numbers)\n",
    "\n",
    "eg,\n",
    "cansum(7,[5,3,4,7]) -> true\n",
    "\n",
    "      3 + 4\n",
    "      \n",
    "      7\n",
    "\n",
    "cansum(7,[2,4]) -> false\n"
   ]
  },
  {
   "cell_type": "code",
   "execution_count": 3,
   "id": "15c6d4be",
   "metadata": {},
   "outputs": [
    {
     "data": {
      "text/plain": [
       "True"
      ]
     },
     "execution_count": 3,
     "metadata": {},
     "output_type": "execute_result"
    }
   ],
   "source": [
    "# joels noobie implementation\n",
    "\n",
    "\n",
    "def cansum(m, n, d={}):\n",
    "    j = False\n",
    "    if m in d:\n",
    "        return d[m]\n",
    "    if m == 0:\n",
    "        return True\n",
    "    if m < 0:\n",
    "        return False\n",
    "    for i in n:\n",
    "        j = j or cansum(m - i, n, d)\n",
    "        d[m] = j\n",
    "    return d[m]\n",
    "\n",
    "\n",
    "cansum(7, [5, 3, 4, 7])\n",
    "\n",
    "cansum(1071, [33, 4])"
   ]
  },
  {
   "cell_type": "markdown",
   "id": "366703fd",
   "metadata": {},
   "source": [
    "time =  n^m\n",
    "space = m\n",
    "\n",
    "where n is lenghth of array and m is target sum\n",
    "\n",
    "with memo time = n*m"
   ]
  },
  {
   "cell_type": "code",
   "execution_count": 87,
   "id": "36649659",
   "metadata": {},
   "outputs": [
    {
     "data": {
      "text/plain": [
       "True"
      ]
     },
     "execution_count": 87,
     "metadata": {},
     "output_type": "execute_result"
    }
   ],
   "source": [
    "def cansum(m, n, d={}):\n",
    "    if m in d:\n",
    "        return d[m]\n",
    "    if m == 0:\n",
    "        return True\n",
    "    if m < 0:\n",
    "        return False\n",
    "    for i in n:\n",
    "        if cansum(m - i, n, d) == True:\n",
    "            d[m] = True\n",
    "            return True\n",
    "    d[m] = False\n",
    "    return False\n",
    "\n",
    "\n",
    "cansum(1071, [33, 4])\n"
   ]
  },
  {
   "cell_type": "markdown",
   "id": "e255ff72",
   "metadata": {},
   "source": [
    "#### howsum()\n",
    "\n",
    "return array that add up to target sum with elements from the given array"
   ]
  },
  {
   "cell_type": "markdown",
   "id": "012b88e4",
   "metadata": {},
   "source": [
    "without memo\n",
    "time = n^m  *  m\n",
    "space = m"
   ]
  },
  {
   "cell_type": "code",
   "execution_count": 5,
   "id": "80245827",
   "metadata": {},
   "outputs": [
    {
     "data": {
      "text/plain": [
       "[9, 0]"
      ]
     },
     "execution_count": 5,
     "metadata": {},
     "output_type": "execute_result"
    }
   ],
   "source": [
    "[9] + [0]"
   ]
  },
  {
   "cell_type": "code",
   "execution_count": 1,
   "id": "bd0b0068",
   "metadata": {},
   "outputs": [
    {
     "name": "stdout",
     "output_type": "stream",
     "text": [
      "[2, 2, 2, 2, 2]\n"
     ]
    }
   ],
   "source": [
    "def howsum(m, n, d={}):\n",
    "    if m == 0:\n",
    "        return []\n",
    "    if m < 0:\n",
    "        return None\n",
    "\n",
    "    for i in n:\n",
    "        if howsum(m - i, n) != None:\n",
    "            return howsum(m - i, n) + [i]\n",
    "    return None\n",
    "\n",
    "\n",
    "print(howsum(10, [2, 4]))\n"
   ]
  },
  {
   "cell_type": "markdown",
   "id": "14c56fca",
   "metadata": {},
   "source": [
    "with a memo\n",
    "time = n*m^2\n",
    "space = m"
   ]
  },
  {
   "cell_type": "code",
   "execution_count": 9,
   "id": "9350ab13",
   "metadata": {},
   "outputs": [
    {
     "name": "stdout",
     "output_type": "stream",
     "text": [
      "[3, 2, 2, 2, 2, 2, 2, 2, 2, 2, 2, 2, 2, 2, 2, 2, 2, 2, 2, 2, 2, 2, 2, 2, 2, 2, 2, 2, 2, 2, 2, 2, 2, 2, 2, 2, 2, 2, 2, 2, 2, 2, 2, 2, 2, 2, 2, 2]\n"
     ]
    }
   ],
   "source": [
    "def howsum(m, n, d={}):\n",
    "    if m in d:\n",
    "        return d[m]\n",
    "    if m == 0:\n",
    "        return []\n",
    "    if m < 0:\n",
    "        return None\n",
    "\n",
    "    for i in n:\n",
    "        if howsum(m - i, n, d) != None:\n",
    "            d[m] = howsum(m - i, n, d) + [i]\n",
    "            return d[m]\n",
    "    d[m] = None\n",
    "    return None\n",
    "\n",
    "\n",
    "print(howsum(97, [2, 3, 30, 80, 99]))\n"
   ]
  },
  {
   "cell_type": "markdown",
   "id": "e3de2a64",
   "metadata": {},
   "source": [
    "#### bestsum()\n",
    "\n",
    "return array with shortest combination of numbers that adds up to target sum"
   ]
  },
  {
   "cell_type": "markdown",
   "id": "0818ac69",
   "metadata": {},
   "source": [
    "without memo\n",
    "\n",
    "timw  = n^m * m\n",
    "space = m * m = m^2\n"
   ]
  },
  {
   "cell_type": "markdown",
   "id": "b33b9028",
   "metadata": {},
   "source": [
    "with memo\n",
    "\n",
    "time = m* m *n\n",
    "space = m^2\n",
    "\n"
   ]
  },
  {
   "cell_type": "code",
   "execution_count": 4,
   "id": "d94597e4",
   "metadata": {},
   "outputs": [
    {
     "name": "stdout",
     "output_type": "stream",
     "text": [
      "[1, 33, 33, 33]\n"
     ]
    }
   ],
   "source": [
    "def bestsum(m, n, d={}):\n",
    "    if m in d:\n",
    "        return d[m]\n",
    "    if m == 0:\n",
    "        return []\n",
    "    if m < 0:\n",
    "        return None\n",
    "\n",
    "    shortest = None\n",
    "    for i in n:\n",
    "        if bestsum(m - i, n, d) != None:\n",
    "            c = bestsum(m - i, n, d) + [i]\n",
    "            if (shortest == None) or (len(c) < len(shortest)):\n",
    "                shortest = c\n",
    "\n",
    "    d[m] = shortest\n",
    "    return shortest\n",
    "\n",
    "\n",
    "print(bestsum(100, [2, 33, 70, 1]))\n"
   ]
  },
  {
   "cell_type": "markdown",
   "id": "9037753e",
   "metadata": {},
   "source": [
    "#### canconstruct(target,wordbank)\n",
    "\n",
    "accepts a target string and array of strings\n",
    "\n",
    "should return a boolean indicating whether or not the target can be constructed by concatenating the elements of the word bank\n",
    "\n",
    "you may reuse elements from the word bank\n"
   ]
  },
  {
   "cell_type": "markdown",
   "id": "fb44c9b8",
   "metadata": {},
   "source": [
    "without memoization\n",
    "time complexity = n^m *m (slicinf gives an extra *m)\n",
    "space complexity = m^2 \n",
    "\n",
    "where m = target length\n",
    "      n = wordbakn length"
   ]
  },
  {
   "cell_type": "code",
   "execution_count": null,
   "id": "c02da015",
   "metadata": {},
   "outputs": [],
   "source": [
    "def canconstruct(m, n):\n",
    "    if m == \"\":\n",
    "        return True\n",
    "\n",
    "    for i in n:\n",
    "        if i in m:\n",
    "            if m.index(i) == 0:\n",
    "                if canconstruct(m[len(i) :], n) == True:\n",
    "                    return True\n",
    "\n",
    "    return False\n",
    "\n",
    "\n",
    "print(canconstruct(\"abcdef\", [\"ab\", \"def\", \"cd\", \"cdef\"]))\n",
    "\n",
    "print(\n",
    "    canconstruct(\n",
    "        \"eeeeeeeeeeeeeeeeeeeeeeeeeeeeeeeeeeeeeeeeee\\\n",
    "  eeeeeeeeeeeef\",\n",
    "        [\"e\", \"ee\", \"eee\", \"eeee\", \"eeeee\", \"eeeeee\", \"eeeeeee\"],\n",
    "    )\n",
    ")\n"
   ]
  },
  {
   "cell_type": "markdown",
   "id": "d8cd30be",
   "metadata": {},
   "source": [
    "with memo \\\n",
    "m = target length\\\n",
    "n = wordbakn length\n"
   ]
  },
  {
   "cell_type": "code",
   "execution_count": 35,
   "id": "f318bc03",
   "metadata": {},
   "outputs": [
    {
     "name": "stdout",
     "output_type": "stream",
     "text": [
      "False\n",
      "False\n"
     ]
    }
   ],
   "source": [
    "def canconstruct(m, n, d={}):\n",
    "    if m in d:\n",
    "        return d[m]\n",
    "    if m == \"\":\n",
    "        return True\n",
    "\n",
    "    for i in n:\n",
    "        if i in m:\n",
    "            if m.index(i) == 0:\n",
    "                if canconstruct(m[len(i) :], n, d) == True:\n",
    "                    d[m] = True\n",
    "    d[m] = False\n",
    "    return False\n",
    "\n",
    "\n",
    "print(canconstruct(\"abcdef\", [\"ab\", \"def\", \"cd\", \"cdef\"]))\n",
    "\n",
    "print(\n",
    "    canconstruct(\n",
    "        \"eeeeeeeeeeeeeeeeeeeeeeeeeeeeeeeeeeeeeeeeee\\\n",
    "  eeeeeeeeeeeef\",\n",
    "        [\"e\", \"ee\", \"eee\", \"eeee\", \"eeeee\", \"eeeeee\", \"eeeeeee\"],\n",
    "    )\n",
    ")\n"
   ]
  },
  {
   "cell_type": "markdown",
   "id": "b836fa52",
   "metadata": {},
   "source": [
    "### countconstruct()"
   ]
  },
  {
   "cell_type": "markdown",
   "id": "d16e8a50",
   "metadata": {},
   "source": [
    "find the total nuber of ways the target string can be constructed"
   ]
  },
  {
   "cell_type": "code",
   "execution_count": 23,
   "id": "733c653a",
   "metadata": {},
   "outputs": [
    {
     "name": "stdout",
     "output_type": "stream",
     "text": [
      "1\n",
      "256\n"
     ]
    }
   ],
   "source": [
    "def countconstruct(m, n, d={}):\n",
    "    if m in d:\n",
    "        return d[m]\n",
    "    if m == \"\":\n",
    "        return 1\n",
    "\n",
    "    c = 0\n",
    "    for i in n:\n",
    "        if i in m:\n",
    "            if m.index(i) == 0:\n",
    "                c += countconstruct(m[len(i) :], n, d)\n",
    "\n",
    "    d[m] = c\n",
    "    return c\n",
    "\n",
    "\n",
    "print(countconstruct(\"abcdef\", [\"ab\", \"def\", \"cd\", \"cdef\"]))\n",
    "\n",
    "print(\n",
    "    countconstruct(\n",
    "        \"eeeefeeee\\\n",
    "eeef\",\n",
    "        [\"e\", \"ee\", \"eee\", \"eeee\", \"eeeee\", \"eeeeee\", \"eeeeeee\", \"f\"],\n",
    "    )\n",
    ")\n"
   ]
  },
  {
   "cell_type": "markdown",
   "id": "edadf4fa",
   "metadata": {},
   "source": [
    "### allconstruct()"
   ]
  },
  {
   "cell_type": "markdown",
   "id": "7c51c720",
   "metadata": {},
   "source": [
    "return a 2d array containing  all the possible ways the string cant be constructed"
   ]
  },
  {
   "cell_type": "markdown",
   "id": "4a821814",
   "metadata": {},
   "source": [
    "blah bla random test code snippets below"
   ]
  },
  {
   "cell_type": "code",
   "execution_count": 30,
   "id": "292dba4f",
   "metadata": {},
   "outputs": [
    {
     "name": "stdout",
     "output_type": "stream",
     "text": [
      "8\n"
     ]
    }
   ],
   "source": [
    "y = 3\n",
    "x = 5\n",
    "print(x + y)\n"
   ]
  },
  {
   "cell_type": "code",
   "execution_count": 11,
   "id": "2e9179e4",
   "metadata": {},
   "outputs": [
    {
     "data": {
      "text/plain": [
       "'YFAJYF'"
      ]
     },
     "execution_count": 11,
     "metadata": {},
     "output_type": "execute_result"
    }
   ],
   "source": [
    "s1 = \"AJYFAJYF\"\n",
    "s2 = \"JY\"\n",
    "import re\n",
    "\n",
    "if s1.startswith(s2):\n",
    "    s3 = re.sub(\"^\" + s2, \"\", s1)\n",
    "s3\n"
   ]
  },
  {
   "cell_type": "code",
   "execution_count": 17,
   "id": "7635097d",
   "metadata": {},
   "outputs": [
    {
     "data": {
      "text/plain": [
       "True"
      ]
     },
     "execution_count": 17,
     "metadata": {},
     "output_type": "execute_result"
    }
   ],
   "source": [
    "s1 = \"AJYFAJYF\"\n",
    "s2 = \"JY\"\n",
    "s1.index(s2)\n",
    "\n",
    "s2 in s1\n"
   ]
  },
  {
   "cell_type": "code",
   "execution_count": 1,
   "id": "c33c44b6",
   "metadata": {},
   "outputs": [
    {
     "name": "stdout",
     "output_type": "stream",
     "text": [
      "<class 'str'>\n",
      "koooooool\n",
      "<class '__main__.item'>\n",
      "<class 'method'>\n"
     ]
    }
   ],
   "source": [
    "# for i in range(9):\n",
    "#   print(i)\n",
    "\n",
    "item2 = \"hello\"\n",
    "\n",
    "print(type(item2))\n",
    "\n",
    "\n",
    "class item:\n",
    "    h = 0\n",
    "\n",
    "    def gun(self):\n",
    "        pass\n",
    "\n",
    "\n",
    "print(\"koooooool\")\n",
    "item1 = item()\n",
    "\n",
    "item1.name = \"joel\"\n",
    "\n",
    "\n",
    "print(type(item1))\n",
    "print(type(item1.gun))\n"
   ]
  },
  {
   "cell_type": "code",
   "execution_count": 4,
   "id": "6d4ab6d4",
   "metadata": {},
   "outputs": [
    {
     "name": "stdout",
     "output_type": "stream",
     "text": [
      "hello joel varghese\n"
     ]
    }
   ],
   "source": [
    "h = \"hello\"\n",
    "\n",
    "\n",
    "v = \"varghese\"\n",
    "print(h, \"joel \" + v)\n"
   ]
  },
  {
   "cell_type": "code",
   "execution_count": 6,
   "id": "cad12c95",
   "metadata": {},
   "outputs": [
    {
     "name": "stdout",
     "output_type": "stream",
     "text": [
      "hello joel varghese\n"
     ]
    }
   ],
   "source": [
    "h = \"hello\"\n",
    "\n",
    "\n",
    "v = \"varghese\"\n",
    "print(h, \"joel \" + v)\n"
   ]
  }
 ],
 "metadata": {
  "kernelspec": {
   "display_name": "Python 3 (ipykernel)",
   "language": "python",
   "name": "python3"
  },
  "language_info": {
   "codemirror_mode": {
    "name": "ipython",
    "version": 3
   },
   "file_extension": ".py",
   "mimetype": "text/x-python",
   "name": "python",
   "nbconvert_exporter": "python",
   "pygments_lexer": "ipython3",
   "version": "3.10.5"
  },
  "vscode": {
   "interpreter": {
    "hash": "546f13b69da2962342bc38bd9c14a62503869531149da76b165cebcf3f8efe14"
   }
  }
 },
 "nbformat": 4,
 "nbformat_minor": 5
}
