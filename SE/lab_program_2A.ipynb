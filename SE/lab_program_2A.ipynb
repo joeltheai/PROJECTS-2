{
 "cells": [
  {
   "cell_type": "markdown",
   "metadata": {},
   "source": [
    "\n",
    "### *Joel Varghese*\n",
    "\n",
    "#### *2140232*\n",
    "\n",
    "5-8-2022\n"
   ]
  },
  {
   "cell_type": "code",
   "execution_count": 12,
   "metadata": {},
   "outputs": [],
   "source": [
    "class client:\n",
    "    name_list = []\n",
    "    num_of_clients = 0\n",
    "\n",
    "    raise_amt = 1.04\n",
    "\n",
    "    def __init__(self, first, last, gender,savings):\n",
    "        self.first = first\n",
    "        self.last = last\n",
    "        self.gender = gender\n",
    "        self.savings = savings\n",
    "        self.regno = client.num_of_clients\n",
    "        client.num_of_clients += 1\n",
    "        client.name_list.append(self)\n",
    "\n",
    "    def fullname(self):\n",
    "        return \"{} {}\".format(self.first.title(), self.last.title())\n",
    "\n",
    "    def email(self):\n",
    "        return self.first +\".\"+ self.last + str(1000 + self.regno)+ \"@company.com\"\n",
    "\n",
    "    def apply_interest(self):\n",
    "        self.savings = int(self.savings * self.raise_amt)\n",
    "    \n",
    " \n",
    "\n",
    "\n",
    "class employee(client):\n",
    "    name_list = []\n",
    "    num_of_employees = 0\n",
    "    def __init__(self, first, last, gender , clients = None):\n",
    "        self.first = first\n",
    "        self.last = last\n",
    "        self.gender = gender\n",
    "        self.regno = employee.num_of_employees\n",
    "        employee.num_of_employees += 1\n",
    "        if clients is None:\n",
    "            self.clients = []\n",
    "        else:\n",
    "            self.clients = clients\n",
    "        employee.name_list.append(self)\n",
    "        \n",
    "    def add_client(self,i):\n",
    "        if i not in self.clients:\n",
    "            self.clients.append(i)\n",
    "    def remove_client(self,i):\n",
    "        if i  in self.clients:\n",
    "            self.clients.remove(i)\n",
    "    def print_client(self):\n",
    "        print(\"Clients under\",self.fullname(),\"with their emails\")\n",
    "        for i in self.clients:\n",
    "            print(\"->\", i.fullname(),\"-\",i.email())\n",
    "\n",
    "        return \"\"\n",
    "\n",
    "\n",
    "\n"
   ]
  },
  {
   "cell_type": "code",
   "execution_count": 2,
   "metadata": {},
   "outputs": [],
   "source": [
    "# creating instances\n",
    "\n",
    "n1 = client(\"joel\",\"varghese\",\"M\",9000)\n",
    "n2 = client(\"jo\",\"anna\",\"F\",9000)\n",
    "n3 = client(\"christopher\",\"columbus\",\"M\",9000)\n",
    "n4 = client(\"rem\",\"doe\",\"F\",10000)\n",
    "n5 = client(\"kevin\",\"spacey\",\"M\",8000)\n",
    "n6 = client(\"nila\",\"rajashekar\",\"F\",9900)\n"
   ]
  },
  {
   "cell_type": "code",
   "execution_count": 3,
   "metadata": {},
   "outputs": [
    {
     "name": "stdout",
     "output_type": "stream",
     "text": [
      "full name of first client :  Joel Varghese\n",
      "savings : \n",
      "9000\n",
      "savings after applying interest :\n",
      "9360\n"
     ]
    }
   ],
   "source": [
    "# displaying full name and applying interest to the savings\n",
    "\n",
    "print(\"full name of first client : \",n1.fullname())\n",
    "\n",
    "print(\"savings : \")\n",
    "print(n1.savings)\n",
    "\n",
    "print(\"savings after applying interest :\")\n",
    "n1.apply_interest()\n",
    "print(n1.savings)"
   ]
  },
  {
   "cell_type": "code",
   "execution_count": 4,
   "metadata": {},
   "outputs": [
    {
     "name": "stdout",
     "output_type": "stream",
     "text": [
      "Joel Varghese\n",
      "joel.varghese1000@company.com\n",
      "Jo Anna\n",
      "jo.anna1001@company.com\n",
      "Kevin Spacey\n",
      "kevin.spacey1004@company.com\n"
     ]
    }
   ],
   "source": [
    "# printing fullnames and emails\n",
    "print(n1.fullname())\n",
    "print(n1.email())\n",
    "\n",
    "print(n2.fullname())\n",
    "print(n2.email())\n",
    "\n",
    "print(n5.fullname())\n",
    "print(n5.email())\n",
    "\n",
    "\n"
   ]
  },
  {
   "cell_type": "code",
   "execution_count": 5,
   "metadata": {},
   "outputs": [
    {
     "name": "stdout",
     "output_type": "stream",
     "text": [
      "fred.luxemborg1001@company.com\n",
      "Fred Luxemborg\n",
      "Clients under Fred Luxemborg with their emails\n",
      "-> Joel Varghese - joel.varghese1000@company.com\n",
      "-> Christopher Columbus - christopher.columbus1002@company.com\n",
      "\n"
     ]
    }
   ],
   "source": [
    "# creating an employee instance and assigning clients to the employee\n",
    "\n",
    "e1 = employee(\"fred\",\"luxemborg\",\"M\",[n1,n3])\n",
    "print(e1.email())\n",
    "print(e1.fullname())\n",
    "print(e1.print_client())"
   ]
  },
  {
   "cell_type": "code",
   "execution_count": 6,
   "metadata": {},
   "outputs": [
    {
     "name": "stdout",
     "output_type": "stream",
     "text": [
      "Clients under Fred Luxemborg with their emails\n",
      "-> Joel Varghese - joel.varghese1000@company.com\n",
      "-> Christopher Columbus - christopher.columbus1002@company.com\n",
      "-> Kevin Spacey - kevin.spacey1004@company.com\n",
      "\n"
     ]
    }
   ],
   "source": [
    "# adding a client to employee\n",
    "\n",
    "e1.add_client(n5)\n",
    "print(e1.print_client())\n",
    "\n"
   ]
  },
  {
   "cell_type": "code",
   "execution_count": 7,
   "metadata": {},
   "outputs": [
    {
     "name": "stdout",
     "output_type": "stream",
     "text": [
      "Clients under Fred Luxemborg with their emails\n",
      "-> Christopher Columbus - christopher.columbus1002@company.com\n",
      "-> Kevin Spacey - kevin.spacey1004@company.com\n",
      "\n"
     ]
    }
   ],
   "source": [
    "# removing a client from employee\n",
    "\n",
    "e1.remove_client(n1)\n",
    "print(e1.print_client())"
   ]
  },
  {
   "cell_type": "code",
   "execution_count": 8,
   "metadata": {},
   "outputs": [
    {
     "name": "stdout",
     "output_type": "stream",
     "text": [
      "Joel Varghese\n",
      "Jo Anna\n",
      "Christopher Columbus\n",
      "Rem Doe\n",
      "Kevin Spacey\n",
      "Nila Rajashekar\n"
     ]
    }
   ],
   "source": [
    "# printing all the client names\n",
    "\n",
    "for i in client.name_list:\n",
    "    print(i.fullname())"
   ]
  },
  {
   "cell_type": "code",
   "execution_count": 9,
   "metadata": {},
   "outputs": [
    {
     "name": "stdout",
     "output_type": "stream",
     "text": [
      "Fred Luxemborg\n"
     ]
    }
   ],
   "source": [
    "# pritnig all the emploee name\n",
    "\n",
    "for i in employee.name_list:\n",
    "    print(i.fullname())"
   ]
  },
  {
   "cell_type": "code",
   "execution_count": 10,
   "metadata": {},
   "outputs": [
    {
     "name": "stdout",
     "output_type": "stream",
     "text": [
      "Joel Varghese\n",
      "Christopher Columbus\n",
      "Kevin Spacey\n"
     ]
    }
   ],
   "source": [
    "# printing client names who are male\n",
    "\n",
    "for i in client.name_list:\n",
    "    if i.gender == \"M\":\n",
    "        print(i.fullname())"
   ]
  },
  {
   "cell_type": "code",
   "execution_count": 11,
   "metadata": {},
   "outputs": [
    {
     "name": "stdout",
     "output_type": "stream",
     "text": [
      "2\n"
     ]
    }
   ],
   "source": [
    "print(employee.num_of_employees)"
   ]
  }
 ],
 "metadata": {
  "kernelspec": {
   "display_name": "Python 3 (ipykernel)",
   "language": "python",
   "name": "python3"
  },
  "language_info": {
   "codemirror_mode": {
    "name": "ipython",
    "version": 3
   },
   "file_extension": ".py",
   "mimetype": "text/x-python",
   "name": "python",
   "nbconvert_exporter": "python",
   "pygments_lexer": "ipython3",
   "version": "3.10.5"
  },
  "vscode": {
   "interpreter": {
    "hash": "546f13b69da2962342bc38bd9c14a62503869531149da76b165cebcf3f8efe14"
   }
  }
 },
 "nbformat": 4,
 "nbformat_minor": 2
}
