{
 "cells": [
  {
   "cell_type": "markdown",
   "metadata": {},
   "source": [
    "# Object Oriented Programming"
   ]
  },
  {
   "cell_type": "markdown",
   "metadata": {},
   "source": [
    "## why oops ?\n",
    "\n",
    "* resusability\n",
    "* dynamicity\n",
    "* protection / data security\n",
    "\n",
    "\n"
   ]
  },
  {
   "cell_type": "markdown",
   "metadata": {},
   "source": [
    "__encapsulation__\n",
    "\n",
    "binding programs"
   ]
  },
  {
   "cell_type": "code",
   "execution_count": 4,
   "metadata": {},
   "outputs": [
    {
     "name": "stdout",
     "output_type": "stream",
     "text": [
      "Inside the function local total :  50\n",
      "Outside the function global total :  0\n",
      "Outside the function global total :  350\n"
     ]
    }
   ],
   "source": [
    "total = 0; # This is global variable.\n",
    "# Function definition is here\n",
    "def sum( arg1, arg2 ):\n",
    "# Add both the parameters and return them.\"\n",
    "    total = 20\n",
    "    total += arg1 + arg2 # Here total is local variable.\n",
    "    print(\"Inside the function local total : \", total)\n",
    "    return total\n",
    "# Now you can call sum function\n",
    "sum( 10, 20 )\n",
    "print(\"Outside the function global total : \", total)\n",
    "total =total+350\n",
    "print(\"Outside the function global total : \", total)"
   ]
  },
  {
   "cell_type": "code",
   "execution_count": 1,
   "metadata": {},
   "outputs": [
    {
     "name": "stdout",
     "output_type": "stream",
     "text": [
      "P1 is a PG program\n",
      "P2 is also a PG program\n",
      "MCA is having 60 students\n",
      "MSC is having 55 students\n",
      "<class 'str'>\n",
      "<class 'int'>\n",
      "PG\n"
     ]
    }
   ],
   "source": [
    "class ComputerScience:\n",
    "# class attribute\n",
    "    ptype = \"PG\"\n",
    "# instance attribute\n",
    "    def __init__(self, pname, cstrength):\n",
    "        self.pname = pname\n",
    "        self.cstrength = cstrength\n",
    "        \n",
    "# instantiate the ComputerScience class\n",
    "p1 = ComputerScience(\"MCA\", 60)\n",
    "p2 = ComputerScience(\"MSC\", 55)\n",
    "# access the class attributes\n",
    "print(\"P1 is a {}\".format(p1.__class__.ptype),\"program\")\n",
    "print(\"P2 is also a {}\".format(p2.__class__.ptype),\"program\")\n",
    "# access the instance attributes\n",
    "\n",
    "print(\"{} is having {} students\".format( p1.pname, p1.cstrength))\n",
    "print(\"{} is having {} students\".format( p2.pname, p2.cstrength))\n",
    "print(type(p1.pname))\n",
    "print(type(p1.cstrength))\n",
    "print((p2.__class__.ptype))"
   ]
  }
 ],
 "metadata": {
  "kernelspec": {
   "display_name": "Python 3.10.5 64-bit",
   "language": "python",
   "name": "python3"
  },
  "language_info": {
   "codemirror_mode": {
    "name": "ipython",
    "version": 3
   },
   "file_extension": ".py",
   "mimetype": "text/x-python",
   "name": "python",
   "nbconvert_exporter": "python",
   "pygments_lexer": "ipython3",
   "version": "3.10.5"
  },
  "orig_nbformat": 4,
  "vscode": {
   "interpreter": {
    "hash": "546f13b69da2962342bc38bd9c14a62503869531149da76b165cebcf3f8efe14"
   }
  }
 },
 "nbformat": 4,
 "nbformat_minor": 2
}
