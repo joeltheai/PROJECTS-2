{
 "cells": [
  {
   "cell_type": "markdown",
   "metadata": {},
   "source": [
    "# Object Oriented Programming"
   ]
  },
  {
   "cell_type": "markdown",
   "metadata": {},
   "source": [
    "## why oops ?\n",
    "\n",
    "* resusability\n",
    "* dynamicity\n",
    "* protection / data security\n",
    "\n",
    "\n"
   ]
  },
  {
   "cell_type": "markdown",
   "metadata": {},
   "source": [
    "__encapsulation__\n",
    "\n",
    "binding programs"
   ]
  },
  {
   "cell_type": "code",
   "execution_count": 1,
   "metadata": {},
   "outputs": [
    {
     "name": "stdout",
     "output_type": "stream",
     "text": [
      "Inside the function local total :  50\n",
      "Outside the function global total :  0\n",
      "Outside the function global total :  350\n"
     ]
    }
   ],
   "source": [
    "total = 0  # This is global variable.\n",
    "\n",
    "\n",
    "def add(arg1, arg2):\n",
    "    # Add both the parameters and return them.\"\n",
    "    t = 20\n",
    "    t += arg1 + arg2  # Here total is local variable.\n",
    "    print(\"Inside the function local total : \", t)\n",
    "    return t\n",
    "# Function definition is here\n",
    " \n",
    "#ijdfoisjdfij\n",
    "# Now you can call add function\n",
    "add(10, 20)\n",
    "print(\"Outside the function global total : \", total)\n",
    "total = total+350\n",
    "print(\"Outside the function global total : \", total)"
   ]
  },
  {
   "cell_type": "code",
   "execution_count": 2,
   "metadata": {},
   "outputs": [
    {
     "name": "stdout",
     "output_type": "stream",
     "text": [
      "P1 is a PG program\n",
      "P2 is also a PG program\n",
      "MCA is having 60 students\n",
      "MSC is having 55 students\n",
      "<class 'str'>\n",
      "<class 'int'>\n",
      "PG\n"
     ]
    }
   ],
   "source": [
    "class ComputerScience:\n",
    "    # class attribute\n",
    "    ptype = \"PG\"\n",
    "# instance attribute\n",
    "\n",
    "    def __init__(self, pname, cstrength):\n",
    "        self.pname = pname\n",
    "        self.cstrength = cstrength\n",
    "\n",
    "\n",
    "# instantiate the ComputerScience class\n",
    "p1 = ComputerScience(\"MCA\", 60)\n",
    "p2 = ComputerScience(\"MSC\", 55)\n",
    "# access the class attributes\n",
    "print(\"P1 is a {}\".format(p1.__class__.ptype), \"program\")\n",
    "print(\"P2 is also a {}\".format(p2.__class__.ptype), \"program\")\n",
    "# access the instance attributes\n",
    "\n",
    "print(\"{} is having {} students\".format(p1.pname, p1.cstrength))\n",
    "print(\"{} is having {} students\".format(p2.pname, p2.cstrength))\n",
    "print(type(p1.pname))\n",
    "print(type(p1.cstrength))\n",
    "print((p2.__class__.ptype))\n"
   ]
  },
  {
   "cell_type": "code",
   "execution_count": null,
   "metadata": {},
   "outputs": [],
   "source": [
    "class student():\n",
    "    age = 22\n",
    "    name = \"Anna\"\n",
    "\n",
    "\n",
    "s3 = student()\n",
    "\n",
    "print(s3.name, s3.age)\n"
   ]
  },
  {
   "cell_type": "code",
   "execution_count": null,
   "metadata": {},
   "outputs": [],
   "source": [
    "class student:\n",
    "    def inputDetails(self):\n",
    "        self.age1 = 56\n",
    "\n",
    "    def inputDetails2(self):\n",
    "        self.age2 = int(input(\"eneter age > \"))\n",
    "        print(\"Age is \", self.age2)\n",
    "\n",
    "\n",
    "s3 = student()\n",
    "\n",
    "s3.inputDetails2()\n"
   ]
  },
  {
   "cell_type": "code",
   "execution_count": null,
   "metadata": {},
   "outputs": [],
   "source": [
    "import datetime\n",
    "\n",
    "class employee:\n",
    "    num_of_employee = 0\n",
    "\n",
    "    raise_amt = 1.04\n",
    "\n",
    "    def __init__(self, first, last, pay):\n",
    "        self.first = first\n",
    "        self.last = last\n",
    "        self.pay = pay\n",
    "\n",
    "        employee.num_of_employee += 1\n",
    "\n",
    "    def fullname(self):\n",
    "        return \"{} {}\".format(self.first, self.last)\n",
    "\n",
    "    def email(self):\n",
    "        return self.last + self.first + \"@company.com\"\n",
    "\n",
    "    def apply_raise(self):\n",
    "        self.pay = int(self.pay * self.raise_amt)\n",
    "    \n",
    "    @classmethod\n",
    "    def set_raise_amt(cls,amount):\n",
    "        cls.raise_amt = amount\n",
    "\n",
    "    @classmethod\n",
    "    def from_string(cls, emp_str):\n",
    "        fisrt, last, pay = emp_str.split(\" \")\n",
    "        return cls(first, last, pay) \n",
    "    \n",
    "    @staticmethod\n",
    "    def is_workday(day):\n",
    "        if day.weekday() == 5 or day.weekday() == 6:\n",
    "            return False\n",
    "        return True\n",
    "\n",
    "\n",
    "emp1 = employee(\"hello\", \"world\", 9000)\n",
    "\n",
    "emp2 = employee(\"bebs\", \"bello\", 989)\n",
    "\n",
    "\n",
    "\n",
    "\n",
    "# print(emp1)\n",
    "# print(emp1)\n",
    "# print(emp1.first)\n",
    "# print(emp2.first)\n",
    "\n",
    "\n",
    "# print(emp1.email())\n",
    "\n",
    "# print(emp1.fullname())\n",
    "# print(employee.fullname(emp1))\n",
    "\n",
    "\n",
    "\n",
    "# print(employee.__dict__)\n",
    "\n",
    "\n",
    "employee.set_raise_amt(1.09)\n",
    "# employee.raise_amount = 1.05\n",
    "print(emp1.raise_amt)\n",
    "print(emp2.raise_amt)\n",
    "\n",
    "print(employee.raise_amt)\n",
    "\n",
    "# emp1.raise_amount = 1.07\n",
    "# print()\n",
    "# print(emp1.raise_amount)\n",
    "# print(emp2.raise_amount)\n",
    "\n",
    "# print(employee.raise_amount)\n",
    "\n",
    "\n",
    "# print(emp1.__dict__)\n",
    "# print(emp2.__dict__)\n",
    "\n",
    "print(emp1.pay)\n",
    "emp1.apply_raise()\n",
    "\n",
    "print(emp1.pay)\n",
    "\n",
    "\n",
    "print(employee.num_of_employee)\n",
    "\n",
    "my_date = datetime.date(2016,7,11)\n",
    "\n",
    "print(employee.is_workday(my_date))\n"
   ]
  },
  {
   "cell_type": "code",
   "execution_count": null,
   "metadata": {},
   "outputs": [],
   "source": [
    "class develepor(employee):\n",
    "    def __init__(self, first, last, pay, prog_lang):\n",
    "        super().__init__(first, last, pay)\n",
    "        self.prog_lang = prog_lang\n",
    "\n",
    "class manager(employee):\n",
    "    def __init__(self, first, last, pay, employees = None):\n",
    "        super().__init__(first, last, pay)\n",
    "        if employees is None:\n",
    "            self.employees = []\n",
    "        else:\n",
    "            self.employees = employees\n",
    "        \n",
    "    def add_emp(self,emp):\n",
    "        if emp not in self.employees:\n",
    "            self.employees.append(emp)\n",
    "    def remove_emp(self,emp):\n",
    "        if emp  in self.employees:\n",
    "            self.employees.remove(emp)\n",
    "    def print_emp(self):\n",
    "        for emp in self.employees:\n",
    "            print(\"->\", emp.fullname())\n",
    "\n",
    "\n",
    "dev1 = develepor(\"hello\", \"jeo\",600,\"python\")\n",
    "dev2 = develepor(\"help\", \"meo\",600,\"python\")\n",
    "\n",
    "mgr1 = manager(\"sue\",\"smith\",90000,[dev1])\n",
    "mgr1.add_emp(dev2)\n",
    "\n",
    "mgr1.remove_emp(dev1)\n",
    "mgr1.print_emp()\n",
    "# print(dev1.email())\n",
    "\n",
    "# print(help(develepor))\n",
    "\n",
    "# print(dev1.pay)\n",
    "# dev1.apply_raise()\n",
    "# print(dev1.pay)\n",
    "# print(dev1.prog_lang)\n",
    "# print()\n",
    "\n"
   ]
  },
  {
   "cell_type": "code",
   "execution_count": null,
   "metadata": {},
   "outputs": [],
   "source": [
    "print(isinstance(mgr1,employee))\n",
    "\n",
    "print(issubclass(manager,employee))"
   ]
  },
  {
   "cell_type": "markdown",
   "metadata": {},
   "source": []
  },
  {
   "cell_type": "markdown",
   "metadata": {},
   "source": [
    "\n",
    "# Module Creation (12 - 8 -22)"
   ]
  },
  {
   "cell_type": "code",
   "execution_count": null,
   "metadata": {},
   "outputs": [],
   "source": [
    "import module1\n"
   ]
  },
  {
   "cell_type": "code",
   "execution_count": 1,
   "metadata": {},
   "outputs": [],
   "source": [
    "from module1 import client,employee,manager\n",
    "\n",
    "n1 = client(\"joel\",\"varghese\",\"M\",9000)\n",
    "n2 = client(\"jo\",\"anna\",\"F\",9000)\n",
    "n3 = client(\"christopher\",\"columbus\",\"M\",9000)\n",
    "n4 = client(\"rem\",\"doe\",\"F\",10000)\n",
    "n5 = client(\"kevin\",\"spacey\",\"M\",8000)\n",
    "n6 = client(\"nila\",\"rajashekar\",\"F\",9900)\n"
   ]
  },
  {
   "cell_type": "code",
   "execution_count": 2,
   "metadata": {},
   "outputs": [
    {
     "name": "stdout",
     "output_type": "stream",
     "text": [
      "full name of first client :  Joel Varghese\n",
      "savings : \n",
      "9000\n",
      "savings after applying interest :\n",
      "9360\n"
     ]
    }
   ],
   "source": [
    "\n",
    "# displaying full name and applying interest to the savings\n",
    "\n",
    "print(\"full name of first client : \",n1.fullname())\n",
    "\n",
    "print(\"savings : \")\n",
    "print(n1.savings)\n",
    "\n",
    "print(\"savings after applying interest :\")\n",
    "n1.apply_interest()\n",
    "print(n1.savings)"
   ]
  },
  {
   "cell_type": "code",
   "execution_count": 3,
   "metadata": {},
   "outputs": [
    {
     "name": "stdout",
     "output_type": "stream",
     "text": [
      "Joel Varghese\n",
      "joel.varghese1000@company.com\n",
      "Jo Anna\n",
      "jo.anna1001@company.com\n",
      "Kevin Spacey\n",
      "kevin.spacey1004@company.com\n"
     ]
    }
   ],
   "source": [
    "# printing fullnames and emails\n",
    "print(n1.fullname())\n",
    "print(n1.email())\n",
    "\n",
    "print(n2.fullname())\n",
    "print(n2.email())\n",
    "\n",
    "print(n5.fullname())\n",
    "print(n5.email())\n"
   ]
  },
  {
   "cell_type": "code",
   "execution_count": 1,
   "metadata": {},
   "outputs": [
    {
     "ename": "NameError",
     "evalue": "name 'employee' is not defined",
     "output_type": "error",
     "traceback": [
      "\u001b[1;31m---------------------------------------------------------------------------\u001b[0m",
      "\u001b[1;31mNameError\u001b[0m                                 Traceback (most recent call last)",
      "\u001b[1;32mc:\\Users\\joelv\\Desktop\\projects 2\\SE\\8-1-22.ipynb Cell 17\u001b[0m in \u001b[0;36m<cell line: 3>\u001b[1;34m()\u001b[0m\n\u001b[0;32m      <a href='vscode-notebook-cell:/c%3A/Users/joelv/Desktop/projects%202/SE/8-1-22.ipynb#X22sZmlsZQ%3D%3D?line=0'>1</a>\u001b[0m \u001b[39m# creating an employee instance and assigning clients to the employee\u001b[39;00m\n\u001b[1;32m----> <a href='vscode-notebook-cell:/c%3A/Users/joelv/Desktop/projects%202/SE/8-1-22.ipynb#X22sZmlsZQ%3D%3D?line=2'>3</a>\u001b[0m e1 \u001b[39m=\u001b[39m employee(\u001b[39m\"\u001b[39m\u001b[39mfred\u001b[39m\u001b[39m\"\u001b[39m,\u001b[39m\"\u001b[39m\u001b[39mluxemborg\u001b[39m\u001b[39m\"\u001b[39m,\u001b[39m\"\u001b[39m\u001b[39mM\u001b[39m\u001b[39m\"\u001b[39m,[n1,n3])\n\u001b[0;32m      <a href='vscode-notebook-cell:/c%3A/Users/joelv/Desktop/projects%202/SE/8-1-22.ipynb#X22sZmlsZQ%3D%3D?line=3'>4</a>\u001b[0m \u001b[39mprint\u001b[39m(e1\u001b[39m.\u001b[39memail())\n\u001b[0;32m      <a href='vscode-notebook-cell:/c%3A/Users/joelv/Desktop/projects%202/SE/8-1-22.ipynb#X22sZmlsZQ%3D%3D?line=4'>5</a>\u001b[0m \u001b[39mprint\u001b[39m(e1\u001b[39m.\u001b[39mfullname())\n",
      "\u001b[1;31mNameError\u001b[0m: name 'employee' is not defined"
     ]
    }
   ],
   "source": [
    "# creating an employee instance and assigning clients to the employee\n",
    "\n",
    "e1 = employee(\"fred\",\"luxemborg\",\"M\",[n1,n3])\n",
    "print(e1.email())\n",
    "print(e1.fullname())\n",
    "print(e1.print_client())"
   ]
  },
  {
   "cell_type": "code",
   "execution_count": null,
   "metadata": {},
   "outputs": [],
   "source": [
    "# adding a client to employee\n",
    "\n",
    "e1.add_client(n5)\n",
    "print(e1.print_client())\n",
    "\n"
   ]
  },
  {
   "cell_type": "code",
   "execution_count": null,
   "metadata": {},
   "outputs": [],
   "source": [
    "\n",
    "e1.remove_client(n1)\n",
    "print(e1.print_client())"
   ]
  },
  {
   "cell_type": "code",
   "execution_count": null,
   "metadata": {},
   "outputs": [],
   "source": [
    "for i in client.name_list:\n",
    "    if i.gender == \"M\":\n",
    "        print(i.fullname())"
   ]
  },
  {
   "cell_type": "code",
   "execution_count": null,
   "metadata": {},
   "outputs": [],
   "source": [
    "m1 = manager(\"kane\",\"martin\",\"M\",[e1])"
   ]
  },
  {
   "cell_type": "code",
   "execution_count": null,
   "metadata": {},
   "outputs": [],
   "source": [
    "m1.print_emp()"
   ]
  },
  {
   "cell_type": "code",
   "execution_count": null,
   "metadata": {},
   "outputs": [],
   "source": [
    "m1.add_client(n4)"
   ]
  },
  {
   "cell_type": "code",
   "execution_count": null,
   "metadata": {},
   "outputs": [],
   "source": [
    "m1.print_client()"
   ]
  },
  {
   "cell_type": "code",
   "execution_count": 1,
   "metadata": {},
   "outputs": [
    {
     "name": "stdout",
     "output_type": "stream",
     "text": [
      "This is our school class its name is: C school\n",
      "This is our college class its name is: CJC\n",
      "This is our university class its name is: CHRIST\n",
      "We are implementing multiple inheritance\n"
     ]
    }
   ],
   "source": [
    "class school:\n",
    "\n",
    "    def __init__(self):\n",
    "        pass\n",
    "    schoolname = \"\"\n",
    "    def show_school_details(self):\n",
    "        print(\"This is our school class its name is:\", self.schoolname)\n",
    "\n",
    "# College class\n",
    "class college:\n",
    "    def __init__(self):\n",
    "        pass\n",
    "    collegename = \"\"\n",
    "    def show_college_details(self):\n",
    "        print(\"This is our college class its name is:\",self.collegename)\n",
    "\n",
    "# University class inherited from College\n",
    "class university(college,school):\n",
    "    msg=\"\"\n",
    "    uniname = \"\"\n",
    "    def __init__(self):\n",
    "        pass\n",
    "    def show_university_details(self):\n",
    "        print(\"This is our university class its name is:\",self.uniname)\n",
    "        print(self.msg)\n",
    "\n",
    "s1 = university() # Object of uni class\n",
    "s1.schoolname = \"C school\"\n",
    "s1.collegename = \"CJC\"\n",
    "s1.uniname = \"CHRIST\"\n",
    "s1.msg = \"We are implementing multiple inheritance\"\n",
    "s1.show_school_details()\n",
    "s1.show_college_details()\n",
    "s1.show_university_details()"
   ]
  },
  {
   "cell_type": "code",
   "execution_count": null,
   "metadata": {},
   "outputs": [],
   "source": []
  },
  {
   "cell_type": "markdown",
   "metadata": {},
   "source": [
    "# functions (16-8-22)\n",
    "\n"
   ]
  },
  {
   "cell_type": "markdown",
   "metadata": {},
   "source": [
    "## lambda function"
   ]
  },
  {
   "cell_type": "code",
   "execution_count": 2,
   "metadata": {},
   "outputs": [
    {
     "name": "stdout",
     "output_type": "stream",
     "text": [
      "64\n"
     ]
    }
   ],
   "source": [
    "x = lambda a: a*a\n",
    "\n",
    "print(x(8))"
   ]
  },
  {
   "cell_type": "code",
   "execution_count": 2,
   "metadata": {},
   "outputs": [
    {
     "name": "stdout",
     "output_type": "stream",
     "text": [
      "[9, 55, 13, 15]\n"
     ]
    }
   ],
   "source": [
    "l = [9,3,4,5,6,78,3,56,55,13,15]\n",
    "\n",
    "p = list(filter(lambda x : x%2 == 1 and x>7,l))\n",
    "\n",
    "print(p)"
   ]
  },
  {
   "cell_type": "code",
   "execution_count": 11,
   "metadata": {},
   "outputs": [
    {
     "name": "stdout",
     "output_type": "stream",
     "text": [
      "[81, 9, 16, 25, 36, 6084, 9, 3136, 3025, 169, 225]\n"
     ]
    }
   ],
   "source": [
    "p = list(map(lambda x: x**2,l))\n",
    "print(p)"
   ]
  },
  {
   "cell_type": "code",
   "execution_count": 18,
   "metadata": {},
   "outputs": [
    {
     "name": "stdout",
     "output_type": "stream",
     "text": [
      "15\n"
     ]
    }
   ],
   "source": [
    "from functools import reduce\n",
    "l1 = [1,2,3,4,5]\n",
    "sum_ = reduce((lambda a,b:a+b),l1)\n",
    "print(sum_)"
   ]
  },
  {
   "cell_type": "code",
   "execution_count": 19,
   "metadata": {},
   "outputs": [
    {
     "name": "stdout",
     "output_type": "stream",
     "text": [
      "13\n"
     ]
    }
   ],
   "source": [
    "x = lambda a, b, c : a + b + c\n",
    "print(x(5, 6, 2))"
   ]
  },
  {
   "cell_type": "code",
   "execution_count": 22,
   "metadata": {},
   "outputs": [
    {
     "name": "stdout",
     "output_type": "stream",
     "text": [
      "[4, 6, 78, 56]\n"
     ]
    }
   ],
   "source": [
    "even = list(filter(lambda x : x%2==0,l))\n",
    "print(even)"
   ]
  },
  {
   "cell_type": "code",
   "execution_count": 25,
   "metadata": {},
   "outputs": [
    {
     "name": "stdout",
     "output_type": "stream",
     "text": [
      "120\n",
      "3.0\n"
     ]
    }
   ],
   "source": [
    "squareroot = lambda a : a**(1/2)\n",
    "mult_ = reduce((lambda a,b:a*b),l1)\n",
    "print(mult_)\n",
    "print(squareroot(9))"
   ]
  },
  {
   "cell_type": "code",
   "execution_count": 30,
   "metadata": {},
   "outputs": [
    {
     "name": "stdout",
     "output_type": "stream",
     "text": [
      "The candidates name is 123 Mathew.\n",
      "The serial number is:  123\n",
      "The candidates name is james Mathew.\n",
      "The serial number is:  123\n",
      "None\n"
     ]
    }
   ],
   "source": [
    "def myfunc(nm,n):\n",
    "    print(\"The candidates name is\",nm+\" Mathew.\\n\"+\"The serial number is: \",n)\n",
    " \n",
    "myfunc(\"123\",123)\n",
    "print(myfunc(\"james\",123))"
   ]
  },
  {
   "cell_type": "code",
   "execution_count": 44,
   "metadata": {},
   "outputs": [
    {
     "name": "stdout",
     "output_type": "stream",
     "text": [
      "name -  joel ; subject -  python ; marks -  78\n"
     ]
    }
   ],
   "source": [
    "def pp(nm,s = \"python\",m = 78):\n",
    "    print(\"name - \",nm,\"; subject - \",s,\"; marks - \",m)\n",
    "\n",
    "pp(\"joel\")"
   ]
  },
  {
   "cell_type": "code",
   "execution_count": 45,
   "metadata": {},
   "outputs": [
    {
     "name": "stdout",
     "output_type": "stream",
     "text": [
      "name -  joel ; subject -  cpp ; marks -  90\n"
     ]
    }
   ],
   "source": [
    "pp(\"joel\",\"cpp\",90)"
   ]
  },
  {
   "cell_type": "code",
   "execution_count": 49,
   "metadata": {},
   "outputs": [
    {
     "name": "stdout",
     "output_type": "stream",
     "text": [
      "name -  poopoopoopoo ; subject -  python ; marks -  0\n"
     ]
    }
   ],
   "source": [
    "pp(\"poopoopoopoo\",m = 0)"
   ]
  },
  {
   "cell_type": "code",
   "execution_count": 7,
   "metadata": {},
   "outputs": [
    {
     "name": "stdout",
     "output_type": "stream",
     "text": [
      "p 2 4 5 6 7 8 p\n"
     ]
    }
   ],
   "source": [
    "def r(*a):\n",
    "    print(\"p\",*a,\"p\")\n",
    "\n",
    "r(2,4,5,6,7,8)"
   ]
  },
  {
   "cell_type": "markdown",
   "metadata": {},
   "source": [
    "# Regular expression in python (22-8-22)"
   ]
  },
  {
   "cell_type": "code",
   "execution_count": 1,
   "metadata": {},
   "outputs": [],
   "source": [
    "import re"
   ]
  },
  {
   "cell_type": "code",
   "execution_count": 40,
   "metadata": {},
   "outputs": [],
   "source": [
    "\n",
    "url = 'https://en.wikipedia.org/wiki/Art'\n",
    "\n",
    "import requests\n",
    "\n",
    "text = requests.get(url).content.decode('utf-8')\n",
    "\n",
    "from html.parser import HTMLParser\n",
    "\n",
    "class MyHTMLParser(HTMLParser):\n",
    "    script = False\n",
    "    res = \"\"\n",
    "    def handle_starttag(self, tag, attrs):\n",
    "        if tag.lower() in [\"script\",\"style\"]:\n",
    "            self.script = True\n",
    "    def handle_endtag(self, tag):\n",
    "        if tag.lower() in [\"script\",\"style\"]:\n",
    "            self.script = False\n",
    "    def handle_data(self, data):\n",
    "        if str.strip(data)==\"\" or self.script:\n",
    "            return\n",
    "        self.res += ' '+data.replace('[ edit ]','')\n",
    "\n",
    "parser = MyHTMLParser()\n",
    "parser.feed(text)\n",
    "text = parser.res\n",
    "\n",
    "# print(text)\n"
   ]
  },
  {
   "cell_type": "code",
   "execution_count": 41,
   "metadata": {},
   "outputs": [
    {
     "name": "stdout",
     "output_type": "stream",
     "text": [
      "No.of times the search pattern repeated is: 1238\n"
     ]
    }
   ],
   "source": [
    "\n",
    "x = re.findall('in', text) ###NOTE: Only findall() works with count() function.\n",
    "# print(x)\n",
    "print(\"No.of times the search pattern repeated is:\",x.count('in'))"
   ]
  },
  {
   "cell_type": "code",
   "execution_count": 26,
   "metadata": {},
   "outputs": [
    {
     "data": {
      "text/plain": [
       "176"
      ]
     },
     "execution_count": 26,
     "metadata": {},
     "output_type": "execute_result"
    }
   ],
   "source": [
    "text.find(\"in\")"
   ]
  },
  {
   "cell_type": "code",
   "execution_count": 27,
   "metadata": {},
   "outputs": [
    {
     "name": "stdout",
     "output_type": "stream",
     "text": [
      "<re.Match object; span=(0, 65), match='Going to watch FIFA Spain in the train. In train >\n"
     ]
    }
   ],
   "source": [
    "import re\n",
    "#to check whether it starts with Going and ends with train\n",
    "input_str = \"Going to watch FIFA Spain in the train. In train it doesnt strain\"\n",
    "x = re.search(\"^Going.*train$\", input_str)\n",
    "print(x)"
   ]
  },
  {
   "cell_type": "markdown",
   "metadata": {},
   "source": [
    "- ^ for beginning\n",
    "- \\* for middle\n",
    "- $ for end"
   ]
  },
  {
   "cell_type": "code",
   "execution_count": 32,
   "metadata": {},
   "outputs": [
    {
     "name": "stdout",
     "output_type": "stream",
     "text": [
      "None\n"
     ]
    }
   ],
   "source": [
    "x = re.search(\"^Art.*ideas$\", text)\n",
    "print(x)"
   ]
  },
  {
   "cell_type": "code",
   "execution_count": 46,
   "metadata": {},
   "outputs": [
    {
     "name": "stdout",
     "output_type": "stream",
     "text": [
      "['V,I,B,G,Y,O,R']\n",
      "['V', 'I', 'B', 'G', 'Y', 'O', 'R']\n"
     ]
    }
   ],
   "source": [
    "import re\n",
    "#str = \"Going to watch FIFA @Spain in the train. In train it doesnt strain.\"\n",
    "str=\"V,I,B,G,Y,O,R\" # str=\"V,IB, G,YO,R\"\n",
    "x = re.split(\"\\s\", str)\n",
    "print(x)\n",
    "### If want to restrict the number of splitted words\n",
    "y = re.split(\",\", str,6)\n",
    "print(y)\n"
   ]
  },
  {
   "cell_type": "code",
   "execution_count": 49,
   "metadata": {},
   "outputs": [
    {
     "name": "stdout",
     "output_type": "stream",
     "text": [
      "Going_to_watch_FIFA_@Spain_in_the_train._In_train_it_doesnt_strain.\n",
      "Going     to     watch     FIFA     @Spain     in the train. In train it doesnt strain.\n"
     ]
    }
   ],
   "source": [
    "import re\n",
    "str = \"Going to watch FIFA @Spain in the train. In train it doesnt strain.\"\n",
    "x = re.sub(\"\\s\", \"_\", str)\n",
    "print(x)\n",
    "#### Replace first five occurences\n",
    "y = re.sub(\"\\s\", \"     \", str, 5)\n",
    "print(y)"
   ]
  },
  {
   "cell_type": "markdown",
   "metadata": {},
   "source": [
    "- r indicates regular sea\n",
    "- \"w +\" word\n",
    "- \\b special char"
   ]
  },
  {
   "cell_type": "code",
   "execution_count": 7,
   "metadata": {},
   "outputs": [
    {
     "name": "stdout",
     "output_type": "stream",
     "text": [
      "(22, 27)\n",
      "Going to @watch FIFA @Spain in the train. In train it doesnt strain.\n",
      "Spain\n"
     ]
    }
   ],
   "source": [
    "##span(): returns a tuple containing the start-, and end positions of the match.\n",
    "##string returns the string passed into the function\n",
    "##group() returns the part of the string where there was a match\n",
    "import re\n",
    "str = \"Going to @watch FIFA @Spain in the train. In train it doesnt strain.\"\n",
    "x = re.search(r\"\\bS\\w+\", str)\n",
    "print(x.span())\n",
    "print(x.string)\n",
    "print(x.group())"
   ]
  },
  {
   "cell_type": "code",
   "execution_count": 11,
   "metadata": {},
   "outputs": [
    {
     "name": "stdout",
     "output_type": "stream",
     "text": [
      "['data', 'data']\n",
      "['data', 'data', 'data']\n",
      "re.compile('data')\n"
     ]
    }
   ],
   "source": [
    "### Compile() to repeat the search of a pattern in different inputs\n",
    "import re\n",
    "pattern=re.compile('data') ##Search pattern\n",
    "result1=pattern.findall('data Analytics is the systematic way of analysing data')\n",
    "print(result1)\n",
    "result2=pattern.findall('Dept of CS Congratulates Sheetal and Sanju of 1MSC data science for being selected as data scientists and data engineer')\n",
    "print(result2)\n",
    "\n",
    "print(pattern)"
   ]
  },
  {
   "cell_type": "code",
   "execution_count": 21,
   "metadata": {},
   "outputs": [
    {
     "name": "stdout",
     "output_type": "stream",
     "text": [
      "Looking for \"Data Science\" in \"Data Science is interesting!\" -> found a match!\n",
      "Looking for \"good\" in \"Data Science is interesting!\" -> no match\n",
      "goodday@google.com\n",
      "Lifisgood@hotmail.com\n",
      "readers@rediff.com\n"
     ]
    }
   ],
   "source": [
    "import re #### IMPORTANT\n",
    "list1 = [\"good morning\", \"good day\", \"good life\"]\n",
    "list2 = [\"Shishya90 kids\", \"guru420 gives knowledge\", \"guru shishya\"]\n",
    "for element in list1:\n",
    "    z = re.match(\"(g\\w+)\\W(g\\w+)\", element)\n",
    "    if z:\n",
    "        print((z.groups()))\n",
    "\n",
    "patterns = ['Data Science', 'good']\n",
    "input_text = 'Data Science is interesting!'\n",
    "for pattern in patterns:\n",
    "    print('Looking for \"%s\" in \"%s\" ->' % (pattern, input_text), end=' ')\n",
    "    if re.search(pattern, input_text):\n",
    "        print('found a match!')\n",
    "else:\n",
    "    print('no match')\n",
    "abc = 'goodday@google.com, Lifisgood@hotmail.com, readers@rediff.com'\n",
    "emails = re.findall(r'[\\w\\.-]+@[\\w\\.-]+', abc)\n",
    "for email in emails:\n",
    "    print(email)"
   ]
  },
  {
   "cell_type": "code",
   "execution_count": 25,
   "metadata": {},
   "outputs": [
    {
     "name": "stdout",
     "output_type": "stream",
     "text": [
      "('good',)\n",
      "good\n",
      "('good',)\n",
      "good\n",
      "('good',)\n",
      "good\n",
      "('good',)\n",
      "good\n",
      "('girl',)\n",
      "girl\n",
      "\n",
      "\n",
      "\n",
      "('girl',)\n",
      "girl\n"
     ]
    }
   ],
   "source": [
    "list1 = [\"good morning\", \"good day\", \"good life\",\"good girl\",\"girl\"]\n",
    "list2 = [\"Shishya90 kids\", \"guru420 gives knowledge\", \"guru shishya\"]\n",
    "for element in list1:\n",
    "    z = re.match(\"(g\\w+)\", element)\n",
    "    if z:\n",
    "        print(z.groups())\n",
    "        print(z.group()) ###observe the difference between groups() and group\n",
    "\n",
    "print(\"\\n\\n\")\n",
    "print(z.groups())\n",
    "print(z.group()) ###observe the difference between groups() and group\n"
   ]
  },
  {
   "cell_type": "code",
   "execution_count": 3,
   "metadata": {},
   "outputs": [
    {
     "name": "stdout",
     "output_type": "stream",
     "text": [
      "Raheem@cs.christuniversity.in\n",
      "Raheem\n",
      "cs.\n",
      "christuniversity.\n",
      "Raheem@cs.christuniversity.in\n"
     ]
    }
   ],
   "source": [
    "import re\n",
    "pat1 = \"(\\w+)@(\\w+\\.)+(\\w+\\.)+(com|org|net|edu|in)\"\n",
    "r1 = re.match(pat1,\"Raheem@cs.christuniversity.in\")\n",
    "#r1 = re.match(pat1,\"Raheem@cs.christuniversity.in\") ##Try to uncomment and findout what happens.\n",
    "print(r1.group())\n",
    "print(r1.group(1))\n",
    "print(r1.group(2))\n",
    "print(r1.group(3))\n",
    "print(r1.group(0))\n",
    "\n",
    "\n"
   ]
  },
  {
   "cell_type": "code",
   "execution_count": 35,
   "metadata": {},
   "outputs": [
    {
     "name": "stdout",
     "output_type": "stream",
     "text": [
      "full pattern match is obtained by r2.group(0) or r2.group() Raheem@cs.christuniversity.in\n",
      "first part of the pattern is given by r2.group(1) Raheem\n",
      "Second part of the pattern is given by r2.group(2) cs.christuniversity.in\n",
      "Third part of the pattern is given by r2.group(3) christuniversity.\n",
      "Fouth part of the pattern is given by r2.group(4) in\n"
     ]
    }
   ],
   "source": [
    "import re\n",
    "pat2 = \"(\\w+)@((\\w+\\.)+(com|org|net|edu|in))\"\n",
    "r2 = re.match(pat2,\"Raheem@cs.christuniversity.in\")\n",
    "print(\"full pattern match is obtained by r2.group(0) or r2.group()\", r2.group(0))\n",
    "print(\"first part of the pattern is given by r2.group(1)\", r2.group(1))\n",
    "print(\"Second part of the pattern is given by r2.group(2)\",r2.group(2))\n",
    "print(\"Third part of the pattern is given by r2.group(3)\",r2.group(3))\n",
    "print(\"Fouth part of the pattern is given by r2.group(4)\",r2.group(4))\n",
    "#print(r2.group(5))##gives error as we don't have any 5th group there are only four groups here\n",
    "##Findout what happens if .in is replaced by .uk?"
   ]
  },
  {
   "cell_type": "markdown",
   "metadata": {},
   "source": [
    "xbzczxbc"
   ]
  },
  {
   "cell_type": "code",
   "execution_count": 143,
   "metadata": {},
   "outputs": [
    {
     "name": "stdout",
     "output_type": "stream",
     "text": [
      "Raheem\n",
      "cs.christuniversity.in\n",
      "in\n"
     ]
    }
   ],
   "source": [
    "###Labelling the groups\n",
    "\n",
    "pat3 = \"(?P<name>\\w+)@(?P<host>(\\w+\\.)+(?P<domain>com|org|net|edu|in))\"\n",
    "r3 = re.match(pat3,\"Raheem@cs.christuniversity.in\")\n",
    "print(r3.group('name'))\n",
    "print(r3.group('host'))\n",
    "print(r3.group('domain'))"
   ]
  },
  {
   "cell_type": "code",
   "execution_count": 145,
   "metadata": {},
   "outputs": [
    {
     "data": {
      "text/plain": [
       "['joell', 'is', 'a', 'very', 'good', 'boy']"
      ]
     },
     "execution_count": 145,
     "metadata": {},
     "output_type": "execute_result"
    }
   ],
   "source": [
    "p = \"joell is a very good boy\"\n",
    "p.split()"
   ]
  },
  {
   "cell_type": "markdown",
   "metadata": {},
   "source": [
    "# Exceptions\n",
    "- NameError\n",
    "- TypeError\n",
    "- ZeroDivisionError\n",
    "- ValueError"
   ]
  },
  {
   "cell_type": "markdown",
   "metadata": {},
   "source": []
  },
  {
   "cell_type": "code",
   "execution_count": 4,
   "metadata": {},
   "outputs": [
    {
     "name": "stdout",
     "output_type": "stream",
     "text": [
      "variable not defined\n"
     ]
    }
   ],
   "source": [
    "var = 0\n",
    "try:\n",
    "    print(var1)\n",
    "except NameError:\n",
    "    print(\"variable not defined\")\n",
    "except:\n",
    "    print(\"something else\")\n"
   ]
  },
  {
   "cell_type": "code",
   "execution_count": 6,
   "metadata": {},
   "outputs": [
    {
     "name": "stdout",
     "output_type": "stream",
     "text": [
      "zero division \n"
     ]
    }
   ],
   "source": [
    "var = 0\n",
    "try:\n",
    "    print(1/0)\n",
    "except ZeroDivisionError:\n",
    "    print(\"zero division \")\n",
    "except:\n",
    "    print(\"something else\")"
   ]
  },
  {
   "cell_type": "code",
   "execution_count": 9,
   "metadata": {},
   "outputs": [
    {
     "name": "stdout",
     "output_type": "stream",
     "text": [
      "helo world\n",
      "nothing went wrong\n"
     ]
    }
   ],
   "source": [
    "try:\n",
    "    x = 10\n",
    "    print(\"helo world\")\n",
    "except:\n",
    "    print(\"something went wrong\")\n",
    "else:\n",
    "    print(\"nothing went wrong\")"
   ]
  },
  {
   "cell_type": "code",
   "execution_count": 1,
   "metadata": {},
   "outputs": [
    {
     "name": "stdout",
     "output_type": "stream",
     "text": [
      "The error is :  invalid literal for int() with base 10: 'five'\n",
      "lol\n"
     ]
    }
   ],
   "source": [
    "def f():\n",
    "    x = int(\"five\")\n",
    "\n",
    "\n",
    "try:\n",
    "    f()\n",
    "except ValueError as e:\n",
    "    print(\"The error is : \",e)\n",
    "finally:\n",
    "    print(\"lol\") # Prints this statement everytime"
   ]
  },
  {
   "cell_type": "code",
   "execution_count": 2,
   "metadata": {},
   "outputs": [
    {
     "name": "stdout",
     "output_type": "stream",
     "text": [
      "Bery Exciting News\n"
     ]
    }
   ],
   "source": [
    "print(\"Bery Exciting News\")\n",
    "\n",
    "\n"
   ]
  },
  {
   "cell_type": "code",
   "execution_count": 13,
   "metadata": {},
   "outputs": [
    {
     "name": "stdout",
     "output_type": "stream",
     "text": [
      "The entry is  a\n",
      "Oops! invalid literal for int() with base 10: 'a' occured.\n",
      "\n",
      "Next entry.\n",
      "The reciprocal of a is 1\n",
      "The entry is  0\n",
      "Oops! division by zero occured.\n",
      "\n",
      "Next entry.\n",
      "The reciprocal of 0 is 1\n",
      "The entry is  2\n",
      "The reciprocal of 2 is 0.5\n"
     ]
    }
   ],
   "source": [
    "# import module sys\n",
    "\n",
    "import sys\n",
    "\n",
    "randomL = ['a', 0, 2]\n",
    "r = 1\n",
    "for e in randomL:\n",
    "    try:\n",
    "        print(\"The entry is \", e)\n",
    "        r = 1/int(e)\n",
    "        \n",
    "    except:\n",
    "        print(\"Oops!\",sys.exc_info()[1],\"occured.\") ####Try to change the number here in sys.exc_info\n",
    "        print()\n",
    "        print(\"Next entry.\")\n",
    "        \n",
    "    print(\"The reciprocal of\",e,\"is\",r)"
   ]
  },
  {
   "cell_type": "code",
   "execution_count": 31,
   "metadata": {},
   "outputs": [
    {
     "name": "stdout",
     "output_type": "stream",
     "text": [
      "Eriror: can't find file or read data\n"
     ]
    }
   ],
   "source": [
    "try:\n",
    "    fh = open(\"testfile333\", \"a\")\n",
    "    fh.read()\n",
    "except IOError:\n",
    "    print(\"Eriror: can\\'t find file or read data\")\n",
    "else:\n",
    "    print(\"Written content in the file successfully\")\n",
    "    fh.close()"
   ]
  },
  {
   "cell_type": "code",
   "execution_count": 37,
   "metadata": {},
   "outputs": [
    {
     "ename": "TypeError",
     "evalue": "Datatype Mismatch Error: Only integers are allowed",
     "output_type": "error",
     "traceback": [
      "\u001b[1;31m---------------------------------------------------------------------------\u001b[0m",
      "\u001b[1;31mTypeError\u001b[0m                                 Traceback (most recent call last)",
      "\u001b[1;32mc:\\Users\\joelv\\Desktop\\projects 2\\SE\\8-1-22(SE final).ipynb Cell 68\u001b[0m in \u001b[0;36m<cell line: 4>\u001b[1;34m()\u001b[0m\n\u001b[0;32m      <a href='vscode-notebook-cell:/c%3A/Users/joelv/Desktop/projects%202/SE/8-1-22%28SE%20final%29.ipynb#Y126sZmlsZQ%3D%3D?line=1'>2</a>\u001b[0m \u001b[39m###WHAT HAPPENS IF THE NEXT LINE IS UNCOMMENTED???\u001b[39;00m\n\u001b[0;32m      <a href='vscode-notebook-cell:/c%3A/Users/joelv/Desktop/projects%202/SE/8-1-22%28SE%20final%29.ipynb#Y126sZmlsZQ%3D%3D?line=2'>3</a>\u001b[0m \u001b[39m#Rank = 1\u001b[39;00m\n\u001b[0;32m      <a href='vscode-notebook-cell:/c%3A/Users/joelv/Desktop/projects%202/SE/8-1-22%28SE%20final%29.ipynb#Y126sZmlsZQ%3D%3D?line=3'>4</a>\u001b[0m \u001b[39mif\u001b[39;00m \u001b[39mnot\u001b[39;00m \u001b[39mtype\u001b[39m(Rank) \u001b[39mis\u001b[39;00m \u001b[39mint\u001b[39m:\n\u001b[1;32m----> <a href='vscode-notebook-cell:/c%3A/Users/joelv/Desktop/projects%202/SE/8-1-22%28SE%20final%29.ipynb#Y126sZmlsZQ%3D%3D?line=4'>5</a>\u001b[0m     \u001b[39mraise\u001b[39;00m \u001b[39mTypeError\u001b[39;00m(\u001b[39m\"\u001b[39m\u001b[39mDatatype Mismatch Error: Only integers are allowed\u001b[39m\u001b[39m\"\u001b[39m) \u001b[39m###TypeError is a constructor of\u001b[39;00m\n\u001b[0;32m      <a href='vscode-notebook-cell:/c%3A/Users/joelv/Desktop/projects%202/SE/8-1-22%28SE%20final%29.ipynb#Y126sZmlsZQ%3D%3D?line=5'>6</a>\u001b[0m \u001b[39mprint\u001b[39m(\u001b[39m\"\u001b[39m\u001b[39mHurray! My ranks is \u001b[39m\u001b[39m\"\u001b[39m, Rank)\n",
      "\u001b[1;31mTypeError\u001b[0m: Datatype Mismatch Error: Only integers are allowed"
     ]
    }
   ],
   "source": [
    "Rank=\"1\"\n",
    "###WHAT HAPPENS IF THE NEXT LINE IS UNCOMMENTED???\n",
    "#Rank = 1\n",
    "if not type(Rank) is int:\n",
    "    raise TypeError(\"Datatype Mismatch Error: Only integers are allowed\") ###TypeError is a constructor of\n",
    "print(\"Hurray! My ranks is \", Rank)"
   ]
  },
  {
   "cell_type": "code",
   "execution_count": 1,
   "metadata": {},
   "outputs": [
    {
     "ename": "Exception",
     "evalue": "savings cant be negative",
     "output_type": "error",
     "traceback": [
      "\u001b[1;31m---------------------------------------------------------------------------\u001b[0m",
      "\u001b[1;31mException\u001b[0m                                 Traceback (most recent call last)",
      "\u001b[1;32mc:\\Users\\joelv\\Desktop\\projects 2\\SE\\8-1-22(SE final).ipynb Cell 69\u001b[0m in \u001b[0;36m<cell line: 2>\u001b[1;34m()\u001b[0m\n\u001b[0;32m      <a href='vscode-notebook-cell:/c%3A/Users/joelv/Desktop/projects%202/SE/8-1-22%28SE%20final%29.ipynb#Y125sZmlsZQ%3D%3D?line=0'>1</a>\u001b[0m savings \u001b[39m=\u001b[39m \u001b[39m-\u001b[39m\u001b[39m90\u001b[39m \n\u001b[1;32m----> <a href='vscode-notebook-cell:/c%3A/Users/joelv/Desktop/projects%202/SE/8-1-22%28SE%20final%29.ipynb#Y125sZmlsZQ%3D%3D?line=1'>2</a>\u001b[0m \u001b[39mif\u001b[39;00m savings\u001b[39m<\u001b[39m\u001b[39m0\u001b[39m: \u001b[39mraise\u001b[39;00m \u001b[39mException\u001b[39;00m(\u001b[39m\"\u001b[39m\u001b[39msavings cant be negative\u001b[39m\u001b[39m\"\u001b[39m) \u001b[39m###TypeError is a constructor of\u001b[39;00m\n\u001b[0;32m      <a href='vscode-notebook-cell:/c%3A/Users/joelv/Desktop/projects%202/SE/8-1-22%28SE%20final%29.ipynb#Y125sZmlsZQ%3D%3D?line=2'>3</a>\u001b[0m \u001b[39mprint\u001b[39m(\u001b[39m\"\u001b[39m\u001b[39mHurray! My bank savings is \u001b[39m\u001b[39m\"\u001b[39m, Rank)\n",
      "\u001b[1;31mException\u001b[0m: savings cant be negative"
     ]
    }
   ],
   "source": [
    "savings = -90 \n",
    "if savings<0: raise Exception(\"savings cant be negative\") ###TypeError is a constructor of\n",
    "print(\"Hurray! My bank savings is \", Rank)\n"
   ]
  },
  {
   "cell_type": "code",
   "execution_count": 4,
   "metadata": {},
   "outputs": [
    {
     "name": "stdout",
     "output_type": "stream",
     "text": [
      "45\n",
      "Hello the result is: 2.2222222222222223\n",
      "Nothing went wrong\n",
      "The value of X you entered is: 45\n"
     ]
    }
   ],
   "source": [
    "try:\n",
    "    x=input(\"enter x value\")\n",
    "    print(x)\n",
    "    x=int(x)\n",
    "    print(\"Hello the result is:\", 100/x)\n",
    "except:\n",
    "    print(\"Something went wrong\")\n",
    "else:\n",
    "    print(\"Nothing went wrong\")\n",
    "finally:\n",
    "    print(\"The value of X you entered is:\", x)"
   ]
  },
  {
   "cell_type": "markdown",
   "metadata": {},
   "source": [
    "# TKINTER"
   ]
  },
  {
   "cell_type": "code",
   "execution_count": 1,
   "metadata": {},
   "outputs": [],
   "source": [
    "import numpy"
   ]
  },
  {
   "cell_type": "code",
   "execution_count": null,
   "metadata": {},
   "outputs": [],
   "source": [
    "import tkinter"
   ]
  },
  {
   "cell_type": "code",
   "execution_count": 2,
   "metadata": {},
   "outputs": [],
   "source": [
    "import matplotlib"
   ]
  },
  {
   "cell_type": "code",
   "execution_count": 3,
   "metadata": {},
   "outputs": [],
   "source": [
    "#hellloooo worlddddd\n",
    "#jejeje"
   ]
  },
  {
   "cell_type": "code",
   "execution_count": null,
   "metadata": {},
   "outputs": [],
   "source": []
  },
  {
   "cell_type": "code",
   "execution_count": 1,
   "metadata": {},
   "outputs": [],
   "source": [
    "from tkinter import *\n",
    "top = Tk()\n",
    "menubutton = Menubutton(top, text = \"Menu\")\n",
    "menubutton.menu = Menu(menubutton)\n",
    "menubutton[\"menu\"]= menubutton.menu\n",
    "cVar = IntVar()\n",
    "aVar = IntVar()\n",
    "menubutton.menu.add_checkbutton ( label ='Contact', variable = cVar )\n",
    "menubutton.menu.add_checkbutton ( label = 'About', variable = aVar )\n",
    "menubutton.pack()\n",
    "top.mainloop()"
   ]
  },
  {
   "cell_type": "code",
   "execution_count": 6,
   "metadata": {},
   "outputs": [],
   "source": [
    "import tkinter as tk\n",
    "root=tk.Tk()\n",
    "# setting the windows size\n",
    "root.geometry(\"600x400\")\n",
    "# declaring string variable\n",
    "# for storing name and password\n",
    "name_var=tk.StringVar()\n",
    "\n",
    "passw_var=tk.StringVar()\n",
    "\n",
    "# defining a function that will\n",
    "# get the name and password and\n",
    "# print them on the screen\n",
    "def submit():\n",
    "    name=name_var.get()\n",
    "\n",
    "    password=passw_var.get()\n",
    "\n",
    "    print(\"The name is : \"+ name)\n",
    "\n",
    "    print(\"The password is : \"+ password)\n",
    "\n",
    "    name_var.set(\"\")\n",
    "    passw_var.set(\"\")\n",
    "\n",
    "\n",
    "\n",
    "name_label = tk.Label(root, text = \"Username\", font = (\"calibre\",10,\"bold\"))\n",
    "\n",
    "\n",
    "name_entry = tk.Entry(root,textvariable= name_var, font=('calibre',10,'normal'))\n",
    "\n",
    "\n",
    "passw_label = tk.Label(root, text = \"Password\", font = (\"calibre\",10,\"bold\"))\n",
    "\n",
    "passw_entry = tk.Entry(root,textvariable= passw_var, font=('calibre',10,'normal'))\n",
    "\n",
    "\n",
    "\n",
    "sub_btn = tk.Button(root,text = \"Submit\",command = submit)\n",
    "\n",
    "\n",
    "name_label.grid(row=0,column=0)\n",
    "name_entry.grid(row=0,column=1)\n",
    "\n",
    "passw_label.grid(row=1,column=0)\n",
    "passw_entry.grid(row=1,column=1)\n",
    "sub_btn.grid(row = 2,column=1)\n",
    "\n",
    "root.mainloop()"
   ]
  },
  {
   "cell_type": "code",
   "execution_count": 4,
   "metadata": {},
   "outputs": [],
   "source": [
    "####MENU BUTTON\n",
    "from tkinter import *\n",
    "top = Tk()\n",
    "menubutton = Menubutton(top, text = \"Menu\")\n",
    "menubutton.menu = Menu(menubutton)\n",
    "menubutton[\"menu\"]= menubutton.menu\n",
    "cVar = IntVar()\n",
    "aVar = IntVar()\n",
    "menubutton.menu.add_checkbutton ( label ='Contact', variable = cVar )\n",
    "menubutton.menu.add_checkbutton ( label = 'About', variable = aVar )\n",
    "menubutton.pack()\n",
    "top.mainloop()"
   ]
  },
  {
   "cell_type": "code",
   "execution_count": 3,
   "metadata": {},
   "outputs": [],
   "source": [
    "####MENU\n",
    "\"\"\"MENU:It is used to create all kinds of menus used by the application.\"\"\"\n",
    "from tkinter import *\n",
    "root = Tk()\n",
    "menu = Menu(root)\n",
    "root.config(menu=menu)\n",
    "filemenu = Menu(menu)\n",
    "menu.add_cascade(label='File', menu=filemenu)\n",
    "filemenu.add_command(label='New')\n",
    "filemenu.add_command(label='Open...')\n",
    "filemenu.add_separator()\n",
    "filemenu.add_command(label='Exit', command=root.destroy)\n",
    "helpmenu = Menu(menu)\n",
    "menu.add_cascade(label='Help', menu=helpmenu)\n",
    "helpmenu.add_command(label='About')\n",
    "root.mainloop()"
   ]
  },
  {
   "cell_type": "code",
   "execution_count": 3,
   "metadata": {},
   "outputs": [],
   "source": [
    "from tkinter import *\n",
    "root = Tk()\n",
    "menu = Menu(root)\n",
    "root.config(menu=menu)\n",
    "filemenu = Menu(menu)\n",
    "menu.add_cascade(label='File', menu=filemenu)\n",
    "filemenu.add_command(label='New')\n",
    "filemenu.add_command(label='Open...')\n",
    "filemenu.add_separator()\n",
    "filemenu.add_command(label='Exit', command=root.quit)\n",
    "helpmenu = Menu(menu)\n",
    "menu.add_cascade(label='Help', menu=helpmenu)\n",
    "helpmenu.add_command(label='About')\n",
    "mainloop()"
   ]
  },
  {
   "cell_type": "code",
   "execution_count": null,
   "metadata": {},
   "outputs": [],
   "source": []
  },
  {
   "cell_type": "code",
   "execution_count": 1,
   "metadata": {},
   "outputs": [],
   "source": [
    "from tkinter import *\n",
    "top = Tk()\n",
    "Lb = Listbox(top)\n",
    "Lb.insert(1, 'Python')\n",
    "Lb.insert(2, 'Java')\n",
    "Lb.insert(3, 'C++')\n",
    "Lb.insert(4, 'Any other')\n",
    "Lb.pack()\n",
    "top.mainloop()\n"
   ]
  },
  {
   "cell_type": "code",
   "execution_count": 1,
   "metadata": {},
   "outputs": [
    {
     "ename": "OperationalError",
     "evalue": "table adminn already exists",
     "output_type": "error",
     "traceback": [
      "\u001b[1;31m---------------------------------------------------------------------------\u001b[0m",
      "\u001b[1;31mOperationalError\u001b[0m                          Traceback (most recent call last)",
      "\u001b[1;32mc:\\Users\\joelv\\Desktop\\projects-2\\SE\\8-1-22(SE final).ipynb Cell 84\u001b[0m in \u001b[0;36m<cell line: 4>\u001b[1;34m()\u001b[0m\n\u001b[0;32m      <a href='vscode-notebook-cell:/c%3A/Users/joelv/Desktop/projects-2/SE/8-1-22%28SE%20final%29.ipynb#Y146sZmlsZQ%3D%3D?line=0'>1</a>\u001b[0m \u001b[39mimport\u001b[39;00m \u001b[39msqlite3\u001b[39;00m\n\u001b[0;32m      <a href='vscode-notebook-cell:/c%3A/Users/joelv/Desktop/projects-2/SE/8-1-22%28SE%20final%29.ipynb#Y146sZmlsZQ%3D%3D?line=2'>3</a>\u001b[0m conn \u001b[39m=\u001b[39m sqlite3\u001b[39m.\u001b[39mconnect(\u001b[39m\"\u001b[39m\u001b[39mstudent.db\u001b[39m\u001b[39m\"\u001b[39m)\n\u001b[1;32m----> <a href='vscode-notebook-cell:/c%3A/Users/joelv/Desktop/projects-2/SE/8-1-22%28SE%20final%29.ipynb#Y146sZmlsZQ%3D%3D?line=3'>4</a>\u001b[0m conn\u001b[39m.\u001b[39;49mexecute(\u001b[39m\"\"\"\u001b[39;49m\n\u001b[0;32m      <a href='vscode-notebook-cell:/c%3A/Users/joelv/Desktop/projects-2/SE/8-1-22%28SE%20final%29.ipynb#Y146sZmlsZQ%3D%3D?line=4'>5</a>\u001b[0m \u001b[39m             CREATE TABlE adminn(\u001b[39;49m\n\u001b[0;32m      <a href='vscode-notebook-cell:/c%3A/Users/joelv/Desktop/projects-2/SE/8-1-22%28SE%20final%29.ipynb#Y146sZmlsZQ%3D%3D?line=5'>6</a>\u001b[0m \u001b[39m                 admin_id INTEGER primary key autoincrement not null,\u001b[39;49m\n\u001b[0;32m      <a href='vscode-notebook-cell:/c%3A/Users/joelv/Desktop/projects-2/SE/8-1-22%28SE%20final%29.ipynb#Y146sZmlsZQ%3D%3D?line=6'>7</a>\u001b[0m \u001b[39m                 username TEXT not null,\u001b[39;49m\n\u001b[0;32m      <a href='vscode-notebook-cell:/c%3A/Users/joelv/Desktop/projects-2/SE/8-1-22%28SE%20final%29.ipynb#Y146sZmlsZQ%3D%3D?line=7'>8</a>\u001b[0m \u001b[39m                 password text not null)\u001b[39;49m\u001b[39m\"\"\"\u001b[39;49m)\n\u001b[0;32m      <a href='vscode-notebook-cell:/c%3A/Users/joelv/Desktop/projects-2/SE/8-1-22%28SE%20final%29.ipynb#Y146sZmlsZQ%3D%3D?line=8'>9</a>\u001b[0m conn\u001b[39m.\u001b[39mclose()\n",
      "\u001b[1;31mOperationalError\u001b[0m: table adminn already exists"
     ]
    }
   ],
   "source": [
    "import sqlite3\n",
    "\n",
    "conn = sqlite3.connect(\"student.db\")\n",
    "conn.execute(\"\"\"\n",
    "             CREATE TABlE adminn(\n",
    "                 admin_id INTEGER primary key autoincrement not null,\n",
    "                 username TEXT not null,\n",
    "                 password text not null)\"\"\")\n",
    "conn.close()"
   ]
  },
  {
   "cell_type": "code",
   "execution_count": 14,
   "metadata": {},
   "outputs": [],
   "source": [
    "import sqlite3\n",
    "\n",
    "conn = sqlite3.connect(\"student.db\")\n",
    "conn.execute(\"\"\"insert into adminn(username,password) values('joel','qwerty')\n",
    "             \"\"\")\n",
    "conn.commit()\n",
    "conn.close()"
   ]
  },
  {
   "cell_type": "code",
   "execution_count": 16,
   "metadata": {},
   "outputs": [],
   "source": [
    "conn = sqlite3.connect(\"student.db\")\n",
    "conn.execute(\"\"\"insert into adminn(username,password) values('anna','asdfgh')\n",
    "             \"\"\")\n",
    "\n",
    "conn.commit()\n",
    "conn.close()"
   ]
  },
  {
   "cell_type": "code",
   "execution_count": 2,
   "metadata": {},
   "outputs": [
    {
     "name": "stdout",
     "output_type": "stream",
     "text": [
      "ID\tUsername\tpassword\n",
      "1\tjoel\t\tqwerty\n",
      "2\tanna\t\tasdfgh\n"
     ]
    }
   ],
   "source": [
    "import sqlite3\n",
    "\n",
    "conn = sqlite3.connect(\"student.db\")\n",
    "\n",
    "cursor = conn.execute(\"select *from adminn\")\n",
    "print(\"ID\\tUsername\\tpassword\")\n",
    "\n",
    "for row in cursor:\n",
    "    print(\"{}\\t{}\\t\\t{}\".format(row[0],row[1],row[2]))\n",
    "\n",
    "conn.close()"
   ]
  },
  {
   "cell_type": "code",
   "execution_count": 18,
   "metadata": {},
   "outputs": [],
   "source": [
    "from email import message\n",
    "from tkinter import *\n",
    "\n",
    "import sqlite3\n",
    "\n",
    "def login():\n",
    "    uname = username.get()\n",
    "    pwd = password.get()\n",
    "    \n",
    "    if uname==\"\" or pwd ==\"\":\n",
    "        message.set(\"fill the empty field\")\n",
    "    else:\n",
    "        conn = sqlite3.connect('student.db')\n",
    "\n",
    "        cursor = conn.execute(\"\"\"\n",
    "                              select *from adminn where username = '%s' and password = '%s'\"\"\"%(uname,pwd))\n",
    "        \n",
    "        if cursor.fetchone:\n",
    "            message.set(\"Login successful\")\n",
    "        else:\n",
    "            message.set(\"wrong username or passwerd\")\n",
    "\n"
   ]
  },
  {
   "cell_type": "code",
   "execution_count": null,
   "metadata": {},
   "outputs": [],
   "source": [
    "from email import message\n",
    "from tkinter import *\n",
    "\n",
    "import sqlite3\n",
    "\n",
    "\n",
    "def loginform():\n",
    "    global login_screen\n",
    "    login_screen = Tk()"
   ]
  },
  {
   "cell_type": "code",
   "execution_count": 4,
   "metadata": {},
   "outputs": [],
   "source": [
    "####CREATING A CANVAS\n",
    "\"\"\"Canvas is used to draw pictures and other complex layout like graphics, text and widgets\"\"\"\n",
    "from tkinter import *\n",
    "master = Tk()\n",
    "w = Canvas(master, width=200, height=100)\n",
    "w.pack()\n",
    "canvas_height=20\n",
    "canvas_width=200\n",
    "var = int(canvas_height / 2)\n",
    "#w.create_line(0, var+10, canvas_width, var+10 ) ####Builtin Functions to create straight line\n",
    "w.create_rectangle(50, 20, 150, 80, fill=\"#476042\")\n",
    "w.create_rectangle(65, 35, 135, 65, fill=\"yellow\")\n",
    "w.create_line(0, 0, 50, 20, fill=\"#476042\", width=3)\n",
    "w.create_line(0, 100, 50, 80, fill=\"#476042\", width=3)\n",
    "w.create_line(150,20, 200, 0, fill=\"#476042\", width=3)\n",
    "w.create_line(150, 80, 200, 100, fill=\"#476042\", width=3)\n",
    "mainloop()"
   ]
  },
  {
   "cell_type": "code",
   "execution_count": 8,
   "metadata": {},
   "outputs": [],
   "source": [
    "from tkinter import *\n",
    "from tkinter import ttk\n",
    "# The second import statement, \"ttk\", is Python's binding to the newer \"themed widgets\" that were added to Tk in 8.5.\n",
    "\n",
    "\n",
    "def calculate(*args):\n",
    "    try:\n",
    "        value = float(feet.get())\n",
    "        meters.set(int((value*9/5) + 32))\n",
    "    except ValueError:\n",
    "        pass\n",
    "\n",
    "\n",
    "root = Tk()\n",
    "root.title(\"Celsius to Farenheit Converter\")\n",
    "mainframe = ttk.Frame(root, padding=\"3 3 12 12\")\n",
    "mainframe.grid(column=0, row=0, sticky=(N, W, E, S))\n",
    "root.columnconfigure(0, weight=1)\n",
    "root.rowconfigure(0, weight=1)\n",
    "feet = StringVar()\n",
    "meters = StringVar()\n",
    "feet_entry = ttk.Entry(mainframe, width=7, textvariable=feet)\n",
    "feet_entry.grid(column=2, row=1, sticky=(W, E))\n",
    "ttk.Label(mainframe, textvariable=meters).grid(column=2, row=2, sticky=(W, E))\n",
    "ttk.Button(mainframe, text=\"Calculate\", command=calculate).grid(\n",
    "    column=3, row=3, sticky=W)\n",
    "ttk.Label(mainframe, text=\"celsius\").grid(column=3, row=1, sticky=W)\n",
    "ttk.Label(mainframe, text=\"is equivalent to\").grid(column=1, row=2, sticky=E)\n",
    "ttk.Label(mainframe, text=\"Farenheit\").grid(column=3, row=2, sticky=W)\n",
    "for child in mainframe.winfo_children():\n",
    "    child.grid_configure(padx=5, pady=5)  # ?\n",
    "feet_entry.focus()\n",
    "root.bind('<Return>', calculate)\n",
    "root.mainloop()\n"
   ]
  },
  {
   "cell_type": "markdown",
   "metadata": {},
   "source": [
    "# SQL"
   ]
  },
  {
   "cell_type": "code",
   "execution_count": 2,
   "metadata": {},
   "outputs": [],
   "source": [
    "import sqlite3\n",
    "\n",
    "\n",
    "def execute_(n, command, ch):\n",
    "    connection = sqlite3.connect(n)\n",
    "    curs = connection.cursor()\n",
    "\n",
    "    curs.execute(command)\n",
    "\n",
    "    if ch == 1:\n",
    "        ans = curs.fetchall()\n",
    "        for i in ans:\n",
    "            print(i)\n",
    "\n",
    "    connection.commit()\n",
    "\n",
    "    connection.close()\n"
   ]
  },
  {
   "cell_type": "code",
   "execution_count": 3,
   "metadata": {},
   "outputs": [
    {
     "name": "stdout",
     "output_type": "stream",
     "text": [
      "connected to a database\n"
     ]
    }
   ],
   "source": [
    "conn = sqlite3.connect(\"demo_stuff.db\")\n",
    "\n",
    "curs = conn.cursor()\n",
    "\n",
    "print(\"connected to a database\")\n",
    "\n",
    "sql_create_table = \"\"\"CREATE TABLE EMP(staff_no INT, names VARCHAR(40), age INT)\"\"\"\n",
    "\n",
    "choice = 2\n",
    "\n",
    "execute_(\"demo_stuff.db\",sql_create_table,2)"
   ]
  },
  {
   "cell_type": "code",
   "execution_count": 6,
   "metadata": {},
   "outputs": [],
   "source": [
    "sql_insert = \"\"\"INSERT INTO EMP VALUES(2,'Desmond Jones',23)\"\"\"\n",
    "\n",
    "\n",
    "execute_(\"demo_stuff.db\",sql_insert,2)"
   ]
  },
  {
   "cell_type": "code",
   "execution_count": 8,
   "metadata": {},
   "outputs": [],
   "source": [
    "sql_update = \"\"\"UPDATE EMP SET names = 'Joel Danny' WHERE staff_no = 1\"\"\"\n",
    "\n",
    "execute_(\"demo_stuff.db\",sql_update,2)"
   ]
  },
  {
   "cell_type": "code",
   "execution_count": 9,
   "metadata": {},
   "outputs": [
    {
     "name": "stdout",
     "output_type": "stream",
     "text": [
      "(1, 'Joel Danny', 23)\n",
      "(2, 'Desmond Miles', 23)\n"
     ]
    }
   ],
   "source": [
    "sql_print = \"\"\"SELECT *FROM EMP\"\"\"\n",
    "\n",
    "execute_(\"demo_stuff.db\",sql_print,1)"
   ]
  },
  {
   "cell_type": "code",
   "execution_count": 2,
   "metadata": {},
   "outputs": [
    {
     "name": "stdout",
     "output_type": "stream",
     "text": [
      "+-------+-----+\n",
      "|  name | age |\n",
      "+-------+-----+\n",
      "|  joel |  90 |\n",
      "| shifa |  92 |\n",
      "+-------+-----+\n"
     ]
    }
   ],
   "source": [
    "from prettytable import PrettyTable\n",
    "\n",
    "o = PrettyTable([\"name\",\"age\"])\n",
    "\n",
    "o.add_row([\"joel\",90])\n",
    "o.add_row([\"shifa\",92])\n",
    "\n",
    "print(o)\n"
   ]
  },
  {
   "cell_type": "code",
   "execution_count": 14,
   "metadata": {},
   "outputs": [],
   "source": [
    "####MENU\n",
    "\"\"\"MENU:It is used to create all kinds of menus used by the application.\"\"\"\n",
    "from tkinter import *\n",
    "\n",
    "\n",
    "root = Tk()\n",
    "menu = Menu(root)\n",
    "root.config(menu=menu)\n",
    "root.geometry(\"400x250+300+300\")\n",
    "filemenu = Menu(menu)\n",
    "menu.add_cascade(label='File', menu=filemenu)\n",
    "filemenu.add_command(label='1CMS')\n",
    "filemenu.add_command(label='2CMS')\n",
    "filemenu.add_command(label='3CMS')\n",
    "filemenu.add_separator()\n",
    "filemenu.add_command(label='Exit', command=root.quit)\n",
    "\n",
    "formatmenu = Menu(menu)\n",
    "menu.add_cascade(label='Format', menu=formatmenu)\n",
    "formatmenu.add_command(label='square')\n",
    "formatmenu.add_command(label = 'triangle')\n",
    "\n",
    "\n",
    "helpmenu = Menu(menu)\n",
    "menu.add_cascade(label='Help', menu=helpmenu)\n",
    "helpmenu.add_command(label='About')\n",
    "\n",
    "canvas = Canvas()\n",
    "canvas.create_line(55, 85, 155, 85, 105, 180, 55, 85)\n",
    "canvas.pack(fill=BOTH, expand=1)\n",
    "root.mainloop()"
   ]
  },
  {
   "cell_type": "code",
   "execution_count": 31,
   "metadata": {},
   "outputs": [
    {
     "name": "stdout",
     "output_type": "stream",
     "text": [
      "<re.Match object; span=(11, 17), match='CHRIST'>\n",
      "<re.Match object; span=(78, 84), match='christ'>\n",
      "<re.Match object; span=(100, 106), match='CHRIST'>\n",
      "\n",
      "['Welcome ', 'to ', 'CHRIST ', '(Deemed ', 'to ', 'be ', 'University)?', 'you ', 'can ', 'reach ', 'us ', 'anytime ', 'reachus@christuniversity.in ', 'CHRIST ', 'uiniversity ', 'has ', 'more ', 'than ', '25000 ', 'students ', 'in ', 'main ', 'campus']\n",
      "\n",
      "2\n",
      "?\n",
      " oooo\n",
      ".\n",
      " oooo\n",
      "\n",
      "1\n",
      "['reachus@christuniversity.in']\n",
      "reachus\n",
      "christuniversity\n",
      "in\n"
     ]
    }
   ],
   "source": [
    "import re\n",
    "\n",
    "\n",
    "\n",
    "s = \"\"\"Welcome to CHRIST (Deemed to be University)?\n",
    "you can reach us anytime reachus@christuniversity.in .\n",
    "CHRIST uiniversity has more than 25000 students in main campus.\"\"\"\n",
    "\n",
    "# identify the number of times christ is repeated\n",
    "# find no of words and sentences\n",
    "# check for a valid email & group it as host and omain\n",
    "\n",
    "p1 = re.compile(r'christ',re.I)\n",
    "m1 = p1.finditer(s)\n",
    "\n",
    "for i in m1:\n",
    "    print(i)\n",
    "\n",
    "print()\n",
    "\n",
    "p2 = re.compile(r'[\\S]+[^\\.^\\n]')\n",
    "m2 = p2.findall(s)\n",
    "print(m2)\n",
    "\n",
    "print()\n",
    "\n",
    "p3 = re.compile(r\"[\\?!.][\\s]\")\n",
    "m3 = p3.findall(s)\n",
    "print(len(m3))\n",
    "for i in m3:\n",
    "    print(i, \"oooo\")\n",
    "print()\n",
    "    \n",
    "p4 = re.compile(r'[a-zA-Z0-9_.+-]+@[a-zA-Z0-9-]+\\.[a-zA-Z0-9-]+')\n",
    "m4 = p4.findall(s)\n",
    "print(len(m4))\n",
    "print(m4)\n",
    "for i in m4:\n",
    "    \n",
    "    pat3 = \"(?P<name>\\w+)@(?P<host>\\w+)\\.(?P<domain>com|org|net|edu|in)\"\n",
    "    r3 = re.match(pat3,i)\n",
    "    print(r3.group('name'))\n",
    "    print(r3.group('host'))\n",
    "    print(r3.group('domain'))\n"
   ]
  },
  {
   "cell_type": "code",
   "execution_count": 25,
   "metadata": {},
   "outputs": [],
   "source": [
    "####MENU\n",
    "\n",
    "\"\"\"MENU:It is used to create all kinds of menus used by the application.\"\"\"\n",
    "from tkinter import *\n",
    "\n",
    "import sqlite3\n",
    "\n",
    "\n",
    "def d_triangle():\n",
    "  \n",
    "    canvas.create_line(55, 85, 155, 85, 105, 180, 55, 85)\n",
    "    canvas.pack(fill=BOTH, expand=1)\n",
    "def d_square():\n",
    "    \n",
    "    canvas.create_line(55, 85, 155, 85, 155, 180, 55, 180,55,85)\n",
    "    canvas.pack(fill=BOTH, expand=1)\n",
    "def cle():\n",
    "    canvas.delete(\"all\")\n",
    "    canvas.pack()\n",
    "def d_circle():\n",
    "    canvas.create_polygon(55, 85, 155, 85, 155, 180, 55, 180,10,190)\n",
    "    canvas.pack()\n",
    "\n",
    "    #calling function Loginform\n",
    "#def open_win():\n",
    "\n",
    "\n",
    "def login():\n",
    "    import sqlite3\n",
    "    #getting form data\n",
    "    uname=username.get()\n",
    "    pwd=password.get()\n",
    "    #applying empty validation\n",
    "    if uname=='' or pwd=='':\n",
    "        message.set(\"fill the empty field!!!\")\n",
    "    else:\n",
    "    #open database\n",
    "        conn = sqlite3.connect('student.db')\n",
    "        #select query\n",
    "        cursor = conn.execute('SELECT * from ADMIN2 where USERNAME=\"%s\" and PASSWORD=\"%s\"'%(uname,pwd))\n",
    "        #fetch data\n",
    "        if cursor.fetchone():\n",
    "            message.set(\"Login success\")\n",
    "        else:\n",
    "            message.set(\"Wrong username or password!!!\")\n",
    "\n",
    "def login_screen():\n",
    "    global login_screen\n",
    "    login_screen = Toplevel(root)\n",
    "\n",
    "    global message\n",
    "    global username\n",
    "    global password\n",
    "    username = StringVar()\n",
    "    password = StringVar()\n",
    "    message=StringVar()\n",
    "    #Setting title of screen\n",
    "    #setting height and width of screen\n",
    "    login_screen.geometry(\"350x250\")\n",
    "    login_screen[\"bg\"]=\"#1C2833\"\n",
    "    #declaring variable\n",
    "    #Creating layout of login form\n",
    "    Label(login_screen,width=\"300\", text=\"Login From\", bg=\"#0E6655\",fg=\"white\",font=(\"Arial\",12,\"bold\")).pack()\n",
    "    #Username Label\n",
    "    Label(login_screen, text=\"Username * \",bg=\"#1C2833\",fg=\"white\",font=(\"Arial\",12,\"bold\")).place(x=20,y=40)\n",
    "    #Username textbox\n",
    "    Entry(login_screen, textvariable=username,bg=\"#1C2833\",fg=\"white\",font=(\"Arial\",12,\"bold\")).place(x=120,y=42)\n",
    "    #Password Label\n",
    "    Label(login_screen, text=\"Password * \",bg=\"#1C2833\",fg=\"white\",font=(\"Arial\",12,\"bold\")).place(x=20,y=80)\n",
    "    #Password textbox\n",
    "    Entry(login_screen, textvariable=password ,show=\"*\",bg=\"#1C2833\",fg=\"white\",font=(\"Arial\",12,\"bold\")).place(x=120,y=82)\n",
    "    #Label for displaying login status[success/failed]\n",
    "    Label(login_screen, text=\"\",textvariable=message,bg=\"#1C2833\",fg=\"white\",font=(\"Arial\",12,\"bold\")).place(x=95,y=120)\n",
    "    #Login button\n",
    "    Button(login_screen, text=\"Login\", width=10, height=1, command=login, bg=\"#0E6655\",fg=\"white\",font=(\"Arial\",12,\"bold\")).place(x=125,y=170)\n",
    "\n",
    "    login_screen.mainloop()\n",
    "#Create a label\n",
    "#STEP 5:\n",
    "from tkinter import *\n",
    "#import library\n",
    "import sqlite3\n",
    "#open databse\n",
    "#defining login function\n",
    "root = Tk()\n",
    "\n",
    "menu = Menu(root)\n",
    "root.config(menu=menu)\n",
    "\n",
    "canvas = Canvas()\n",
    "root.geometry(\"400x250+300+300\")\n",
    "filemenu = Menu(menu)\n",
    "menu.add_cascade(label='File', menu=filemenu)\n",
    "filemenu.add_command(label='1CMS')\n",
    "filemenu.add_command(label='2CMS')\n",
    "filemenu.add_command(label='3CMS')\n",
    "filemenu.add_separator()\n",
    "filemenu.add_command(label='Exit', command=root.quit)\n",
    "\n",
    "formatmenu = Menu(menu)\n",
    "menu.add_cascade(label='Format', menu=formatmenu)\n",
    "formatmenu.add_command(label='square',command = d_square)\n",
    "formatmenu.add_command(label = 'triangle',command= d_triangle)\n",
    "formatmenu.add_command(label = 'polydon',command= d_circle)\n",
    "formatmenu.add_command(label = 'clear screen',command= cle)\n",
    "\n",
    "helpmenu = Menu(menu)\n",
    "menu.add_cascade(label='Help', menu=helpmenu)\n",
    "helpmenu.add_command(label='Password and username',command=login_screen)\n",
    "\n",
    "\n",
    "root.config(menu=menu)\n",
    "root.mainloop()"
   ]
  },
  {
   "cell_type": "code",
   "execution_count": 16,
   "metadata": {},
   "outputs": [
    {
     "name": "stdout",
     "output_type": "stream",
     "text": [
      "\n",
      "\n",
      "Monday\n",
      "Monday\n"
     ]
    }
   ],
   "source": [
    "# Import module\n",
    "from tkinter import *\n",
    "  \n",
    "# Create object\n",
    "root = Tk()\n",
    "  \n",
    "# Adjust size\n",
    "root.geometry( \"200x200\" )\n",
    "  \n",
    "# Change the label text\n",
    "def show():\n",
    "    print(clicked.get())\n",
    "    \n",
    "    label.config( text = clicked.get() )\n",
    "  \n",
    "# Dropdown menu options\n",
    "options = [\n",
    "    \"Monday\",\n",
    "    \"Tuesday\",\n",
    "    \"Wednesday\",\n",
    "    \"Thursday\",\n",
    "    \"Friday\",\n",
    "    \"Saturday\",\n",
    "    \"Sunday\"\n",
    "]\n",
    "  \n",
    "# datatype of menu text\n",
    "clicked = StringVar()\n",
    "p = StringVar()\n",
    "# initial menu text\n",
    "clicked.set( \"\" )\n",
    "  \n",
    "# Create Dropdown menu\n",
    "drop = OptionMenu( root , clicked , *options )\n",
    "drop.pack()\n",
    "  \n",
    "# Create button, it will change label text\n",
    "button = Button( root , text = \"click Me\" , command = show ).pack()\n",
    "  \n",
    "# Create Label\n",
    "label = Label( root , text = \" \" )\n",
    "label.pack()\n",
    "  \n",
    "# Execute tkinter\n",
    "root.mainloop()"
   ]
  },
  {
   "cell_type": "code",
   "execution_count": null,
   "metadata": {},
   "outputs": [],
   "source": [
    "import pandas"
   ]
  }
 ],
 "metadata": {
  "kernelspec": {
   "display_name": "Python 3 (ipykernel)",
   "language": "python",
   "name": "python3"
  },
  "language_info": {
   "codemirror_mode": {
    "name": "ipython",
    "version": 3
   },
   "file_extension": ".py",
   "mimetype": "text/x-python",
   "name": "python",
   "nbconvert_exporter": "python",
   "pygments_lexer": "ipython3",
   "version": "3.10.5"
  },
  "vscode": {
   "interpreter": {
    "hash": "546f13b69da2962342bc38bd9c14a62503869531149da76b165cebcf3f8efe14"
   }
  }
 },
 "nbformat": 4,
 "nbformat_minor": 2
}
