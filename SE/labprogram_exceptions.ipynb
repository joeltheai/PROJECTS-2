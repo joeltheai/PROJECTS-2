{
 "cells": [
  {
   "cell_type": "code",
   "execution_count": 1,
   "metadata": {},
   "outputs": [],
   "source": [
    "l = [\"joel@southindianbank.com\",\"anna@icici.in\",\"jacob@hdfcbank.in\"]"
   ]
  },
  {
   "cell_type": "code",
   "execution_count": 2,
   "metadata": {},
   "outputs": [
    {
     "name": "stdout",
     "output_type": "stream",
     "text": [
      "name : joel\n",
      "bank domain :  southindianbank.com\n",
      "name : anna\n",
      "bank domain :  icici.in\n",
      "name : jacob\n",
      "bank domain :  hdfcbank.in\n"
     ]
    }
   ],
   "source": [
    "import re\n",
    "\n",
    "\n",
    "for i in l:\n",
    "    pat3 = \"(?P<name>\\w+)@(?P<bank>(\\w+\\.)+(com|org|net|edu|in))\"\n",
    "    r3 = re.match(pat3,i)\n",
    "    print(\"name :\", r3.group('name'))\n",
    "    print(\"bank domain : \",r3.group(\"bank\"))"
   ]
  },
  {
   "cell_type": "code",
   "execution_count": 4,
   "metadata": {},
   "outputs": [
    {
     "data": {
      "text/plain": [
       "['Joel', 'Anna', 'Jacob', 'Trevor']"
      ]
     },
     "execution_count": 4,
     "metadata": {},
     "output_type": "execute_result"
    }
   ],
   "source": [
    "import re \n",
    "\n",
    "names = \"joel,anna,jacob,trevor\"\n",
    "listofname = re.split(\",\",names.title())\n",
    "\n",
    "listofname"
   ]
  },
  {
   "cell_type": "code",
   "execution_count": 5,
   "metadata": {},
   "outputs": [
    {
     "name": "stdout",
     "output_type": "stream",
     "text": [
      "Pin error: Only 4 integers are allowed\n",
      "\n",
      "***********\n",
      "\n",
      "your bank pin is set to : 1234\n",
      "\n",
      "***********\n",
      "\n"
     ]
    }
   ],
   "source": [
    "while True:\n",
    "    try:\n",
    "        ccn=int(input(\"Enter your atm pin : \"))\n",
    "        c = ccn\n",
    "        p = 0\n",
    "        while c>0:\n",
    "            p+=1\n",
    "            c//=10\n",
    "\n",
    "        if p!=4:\n",
    "            raise Exception\n",
    "\n",
    "        print(\"your bank pin is set to :\",ccn)\n",
    "        break\n",
    "    except ValueError:\n",
    "        print(\"Your pin should only contain integers\")\n",
    "        continue\n",
    "    except Exception:\n",
    "        print(\"Pin error: Only 4 integers are allowed\")\n",
    "        continue\n",
    "\n",
    "    \n",
    "    \n",
    "    finally:\n",
    "        print(\"\\n***********\\n\")"
   ]
  },
  {
   "cell_type": "code",
   "execution_count": 6,
   "metadata": {},
   "outputs": [
    {
     "ename": "Exception",
     "evalue": "savings cannnot be negative",
     "output_type": "error",
     "traceback": [
      "\u001b[1;31m---------------------------------------------------------------------------\u001b[0m",
      "\u001b[1;31mException\u001b[0m                                 Traceback (most recent call last)",
      "\u001b[1;32mc:\\Users\\joelv\\Desktop\\projects-2\\SE\\labprogram_exceptions.ipynb Cell 5\u001b[0m in \u001b[0;36m<cell line: 1>\u001b[1;34m()\u001b[0m\n\u001b[0;32m      <a href='vscode-notebook-cell:/c%3A/Users/joelv/Desktop/projects-2/SE/labprogram_exceptions.ipynb#W4sZmlsZQ%3D%3D?line=1'>2</a>\u001b[0m savings\u001b[39m=\u001b[39m\u001b[39mint\u001b[39m(\u001b[39minput\u001b[39m(\u001b[39m\"\u001b[39m\u001b[39mEnter your savings : \u001b[39m\u001b[39m\"\u001b[39m))\n\u001b[0;32m      <a href='vscode-notebook-cell:/c%3A/Users/joelv/Desktop/projects-2/SE/labprogram_exceptions.ipynb#W4sZmlsZQ%3D%3D?line=2'>3</a>\u001b[0m \u001b[39mif\u001b[39;00m savings\u001b[39m<\u001b[39m\u001b[39m0\u001b[39m:\n\u001b[1;32m----> <a href='vscode-notebook-cell:/c%3A/Users/joelv/Desktop/projects-2/SE/labprogram_exceptions.ipynb#W4sZmlsZQ%3D%3D?line=3'>4</a>\u001b[0m     \u001b[39mraise\u001b[39;00m \u001b[39mException\u001b[39;00m(\u001b[39m\"\u001b[39m\u001b[39msavings cannnot be negative\u001b[39m\u001b[39m\"\u001b[39m)\n",
      "\u001b[1;31mException\u001b[0m: savings cannnot be negative"
     ]
    }
   ],
   "source": [
    "\n",
    "savings=int(input(\"Enter your savings : \"))\n",
    "if savings<0:\n",
    "    raise Exception(\"savings cannnot be negative\")"
   ]
  },
  {
   "cell_type": "code",
   "execution_count": 2,
   "metadata": {},
   "outputs": [
    {
     "name": "stdout",
     "output_type": "stream",
     "text": [
      "You have accessed your bank account\n",
      "\n",
      "***********\n",
      "\n"
     ]
    }
   ],
   "source": [
    "while True:\n",
    "    try:\n",
    "        ccn=int(input(\"Enter your credit card number : \"))\n",
    "        c = ccn\n",
    "        p = 0\n",
    "        while c>0:\n",
    "            p+=1\n",
    "            c//=10\n",
    "\n",
    "        if p!=16:\n",
    "            raise Exception\n",
    "        print(\"You have accessed your bank account\")\n",
    "        break\n",
    "    except Exception:\n",
    "        print(\"number error: incalid credit card number - 16 digits reguired\")\n",
    "        continue\n",
    "\n",
    "    \n",
    "    \n",
    "    finally:\n",
    "        print(\"\\n***********\\n\")"
   ]
  }
 ],
 "metadata": {
  "kernelspec": {
   "display_name": "Python 3.10.5 64-bit",
   "language": "python",
   "name": "python3"
  },
  "language_info": {
   "codemirror_mode": {
    "name": "ipython",
    "version": 3
   },
   "file_extension": ".py",
   "mimetype": "text/x-python",
   "name": "python",
   "nbconvert_exporter": "python",
   "pygments_lexer": "ipython3",
   "version": "3.10.5"
  },
  "orig_nbformat": 4,
  "vscode": {
   "interpreter": {
    "hash": "546f13b69da2962342bc38bd9c14a62503869531149da76b165cebcf3f8efe14"
   }
  }
 },
 "nbformat": 4,
 "nbformat_minor": 2
}
