{
 "cells": [
  {
   "cell_type": "markdown",
   "metadata": {},
   "source": [
    "### Program 2 - mutable and immutable datatypes"
   ]
  },
  {
   "cell_type": "markdown",
   "metadata": {},
   "source": [
    "#### Joel Varghese\n",
    "#### 2140232\n",
    "#### 29-7-22"
   ]
  },
  {
   "cell_type": "markdown",
   "metadata": {},
   "source": [
    "In this practical, we have to apply various aspects of Python like Lists, Tuples, Loops, operators, etc.\n",
    "in order to create a program for the analysis in the Banking domain."
   ]
  },
  {
   "cell_type": "markdown",
   "metadata": {},
   "source": [
    "A time deposit or term deposit is a deposit in a financial institution with a specific maturity date or a period to maturity, commonly referred to as its \"term\". Time deposits differ from at call deposits, such as savings or checking accounts, which can be withdrawn at any time, without any notice or penalty."
   ]
  },
  {
   "cell_type": "markdown",
   "metadata": {},
   "source": [
    "Lets say we have a huge dataset describing the information of people who have a term deposit with the bank with each row representing each people. We can extract the information of each people into a list for further modification."
   ]
  },
  {
   "cell_type": "code",
   "execution_count": 5,
   "metadata": {},
   "outputs": [
    {
     "data": {
      "text/plain": [
       "['Jacob Thomas', 'Male', '33', 'self-employed', 'single', 1467]"
      ]
     },
     "execution_count": 5,
     "metadata": {},
     "output_type": "execute_result"
    }
   ],
   "source": [
    "N1 = [\"Jacob Thomas\", \"Male\",\"33\",\"self-employed\",\"single\",1467]\n",
    "\n",
    "N1"
   ]
  },
  {
   "cell_type": "markdown",
   "metadata": {},
   "source": [
    "### using insert and remove functions on list\n",
    "\n",
    "Now lets say that this person has gotten married within the time he first made a term deposit to now. we need to change the status from \"single\" to \"married\". For this we can use the insert and remove function."
   ]
  },
  {
   "cell_type": "code",
   "execution_count": 6,
   "metadata": {},
   "outputs": [
    {
     "data": {
      "text/plain": [
       "['Jacob Thomas', 'Male', '33', 'self-employed', 1467]"
      ]
     },
     "execution_count": 6,
     "metadata": {},
     "output_type": "execute_result"
    }
   ],
   "source": [
    "N1.remove(\"single\")\n",
    "N1"
   ]
  },
  {
   "cell_type": "code",
   "execution_count": 7,
   "metadata": {},
   "outputs": [
    {
     "data": {
      "text/plain": [
       "['Jacob Thomas', 'Male', '33', 'self-employed', 'married', 1467]"
      ]
     },
     "execution_count": 7,
     "metadata": {},
     "output_type": "execute_result"
    }
   ],
   "source": [
    "N1.insert(4,\"married\")\n",
    "N1\n"
   ]
  },
  {
   "cell_type": "markdown",
   "metadata": {},
   "source": [
    "### using pop/append operations to keep track of people waiting for loans"
   ]
  },
  {
   "cell_type": "markdown",
   "metadata": {},
   "source": [
    "lets say we have a tuple countaining the names of people who are awaiting a loan from the bank. Now we want to access those names one by one but also remove them from the tuple. since a tuple is immutable we need to first convert it into a list to make changes. we can use the pop function."
   ]
  },
  {
   "cell_type": "code",
   "execution_count": 28,
   "metadata": {},
   "outputs": [
    {
     "name": "stdout",
     "output_type": "stream",
     "text": [
      "joel jones\n"
     ]
    }
   ],
   "source": [
    "loan_queue = (\"joel jones\", \"maria thomas\", \"jennifer lopez\",\"sean hatheway\")\n",
    "\n",
    "loan_queue = list(loan_queue)\n",
    "\n",
    "print(loan_queue.pop(0))"
   ]
  },
  {
   "cell_type": "markdown",
   "metadata": {},
   "source": [
    "using the pop operator we were able to access and remove the name from the list. if we print the list again it willl no longer be available in the list."
   ]
  },
  {
   "cell_type": "code",
   "execution_count": 29,
   "metadata": {},
   "outputs": [
    {
     "data": {
      "text/plain": [
       "['maria thomas', 'jennifer lopez', 'sean hatheway']"
      ]
     },
     "execution_count": 29,
     "metadata": {},
     "output_type": "execute_result"
    }
   ],
   "source": [
    "loan_queue"
   ]
  },
  {
   "cell_type": "markdown",
   "metadata": {},
   "source": [
    "now if we another person is trying to acces loans we can add their name usinf the append function."
   ]
  },
  {
   "cell_type": "code",
   "execution_count": 30,
   "metadata": {},
   "outputs": [],
   "source": [
    "loan_queue.append(\"lindsey stirling\")"
   ]
  },
  {
   "cell_type": "code",
   "execution_count": 31,
   "metadata": {},
   "outputs": [
    {
     "data": {
      "text/plain": [
       "['maria thomas', 'jennifer lopez', 'sean hatheway', 'lindsey stirling']"
      ]
     },
     "execution_count": 31,
     "metadata": {},
     "output_type": "execute_result"
    }
   ],
   "source": [
    "loan_queue"
   ]
  },
  {
   "cell_type": "markdown",
   "metadata": {},
   "source": [
    "### Using dictionnaries to store information for easy access"
   ]
  },
  {
   "cell_type": "markdown",
   "metadata": {},
   "source": [
    "Dictionaries can be used to store key-value pairs of data. since these values are stored using hash mapping algorithms they can be accessed very quick."
   ]
  },
  {
   "cell_type": "code",
   "execution_count": 16,
   "metadata": {},
   "outputs": [],
   "source": [
    "data1 = {\"joel jones\":[\"Male\",33,\"working\",(9,7,2022),12363], \n",
    "         \"maria thomas\":[\"Female\",23,\"student\",(4,5,2022),42524],\n",
    "         \"jennifer lopez\":[\"Female\",29,\"working\",(4,5,2022),64533],\n",
    "         \"sean hatheway\":[\"Male\",27,\"working\",(20,6,2022),34734],\n",
    "        \"lindsey stirling\":[\"Female\",31,\"working\",(3,6,2022),34839],\n",
    "         \"jack write\":[\"Male\",25,\"student\",(21,5,2022),66724]\n",
    "        }"
   ]
  },
  {
   "cell_type": "markdown",
   "metadata": {},
   "source": [
    "the dictionary above stores the names as keys and the value as a list containing information such as gender,age,working status,date of openong bank account, and account number. we cab access all these information using the names."
   ]
  },
  {
   "cell_type": "code",
   "execution_count": 17,
   "metadata": {},
   "outputs": [
    {
     "name": "stdout",
     "output_type": "stream",
     "text": [
      "['Male', 33, 'working', (9, 7, 2022), 12363]\n",
      "['Female', 29, 'working', (4, 5, 2022), 64533]\n"
     ]
    }
   ],
   "source": [
    "print(data1[\"joel jones\"])\n",
    "print(data1[\"jennifer lopez\"])"
   ]
  },
  {
   "cell_type": "code",
   "execution_count": 18,
   "metadata": {},
   "outputs": [
    {
     "data": {
      "text/plain": [
       "'working'"
      ]
     },
     "execution_count": 18,
     "metadata": {},
     "output_type": "execute_result"
    }
   ],
   "source": [
    "data1[\"joel jones\"][2]"
   ]
  },
  {
   "cell_type": "markdown",
   "metadata": {},
   "source": [
    "### Using sets to store individuals with similar charecteristics and deriving further information"
   ]
  },
  {
   "cell_type": "markdown",
   "metadata": {},
   "source": [
    "we can store the names of female account holders and working account holders in two sets."
   ]
  },
  {
   "cell_type": "code",
   "execution_count": 19,
   "metadata": {},
   "outputs": [],
   "source": [
    "set_working = set()\n",
    "set_female = set()\n",
    "\n",
    "for k in data1:\n",
    "    if data1[k][0] == \"Female\":\n",
    "        set_female.add(k)\n",
    "    if data1[k][2] == \"working\":\n",
    "        set_working.add(k)\n"
   ]
  },
  {
   "cell_type": "code",
   "execution_count": 20,
   "metadata": {},
   "outputs": [
    {
     "name": "stdout",
     "output_type": "stream",
     "text": [
      "{'lindsey stirling', 'joel jones', 'jennifer lopez', 'sean hatheway'}\n",
      "{'lindsey stirling', 'maria thomas', 'jennifer lopez'}\n"
     ]
    }
   ],
   "source": [
    "print(set_working)\n",
    "\n",
    "print(set_female)\n"
   ]
  },
  {
   "cell_type": "markdown",
   "metadata": {},
   "source": [
    "we can use these sets to find further commonalities.\n",
    "\n",
    "example1 : names of women who are working can be the intersection of set of people who are working and set of people who are female"
   ]
  },
  {
   "cell_type": "code",
   "execution_count": 21,
   "metadata": {},
   "outputs": [
    {
     "name": "stdout",
     "output_type": "stream",
     "text": [
      "{'jennifer lopez', 'lindsey stirling'}\n"
     ]
    }
   ],
   "source": [
    "print(set_working.intersection(set_female))"
   ]
  },
  {
   "cell_type": "markdown",
   "metadata": {},
   "source": [
    "example2 : names of men who are students"
   ]
  },
  {
   "cell_type": "code",
   "execution_count": 26,
   "metadata": {},
   "outputs": [
    {
     "name": "stdout",
     "output_type": "stream",
     "text": [
      "students :  {'maria thomas', 'jack write'}\n",
      "males :  {'joel jones', 'jack write', 'sean hatheway'}\n",
      "males who are students :  {'jack write'}\n"
     ]
    }
   ],
   "source": [
    "set_male = set()\n",
    "set_student = set()\n",
    "for k in data1:\n",
    "    if data1[k][0] == \"Male\":\n",
    "        set_male.add(k)\n",
    "    if data1[k][2] == \"student\":\n",
    "        set_student.add(k)\n",
    "  \n",
    "\n",
    "print(\"students : \",set_student)\n",
    "\n",
    "print(\"males : \" ,set_male)\n",
    "\n",
    "print(\"males who are students : \", set_male.intersection(set_student))"
   ]
  }
 ],
 "metadata": {
  "kernelspec": {
   "display_name": "Python 3 (ipykernel)",
   "language": "python",
   "name": "python3"
  },
  "language_info": {
   "codemirror_mode": {
    "name": "ipython",
    "version": 3
   },
   "file_extension": ".py",
   "mimetype": "text/x-python",
   "name": "python",
   "nbconvert_exporter": "python",
   "pygments_lexer": "ipython3",
   "version": "3.10.5"
  },
  "vscode": {
   "interpreter": {
    "hash": "546f13b69da2962342bc38bd9c14a62503869531149da76b165cebcf3f8efe14"
   }
  }
 },
 "nbformat": 4,
 "nbformat_minor": 2
}
