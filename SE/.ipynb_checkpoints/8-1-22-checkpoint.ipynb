{
 "cells": [
  {
   "cell_type": "markdown",
   "metadata": {},
   "source": [
    "# Object Oriented Programming"
   ]
  },
  {
   "cell_type": "markdown",
   "metadata": {},
   "source": [
    "## why oops ?\n",
    "\n",
    "* resusability\n",
    "* dynamicity\n",
    "* protection / data security\n",
    "\n",
    "\n"
   ]
  },
  {
   "cell_type": "markdown",
   "metadata": {},
   "source": [
    "__encapsulation__\n",
    "\n",
    "binding programs"
   ]
  },
  {
   "cell_type": "code",
   "execution_count": 4,
   "metadata": {},
   "outputs": [
    {
     "name": "stdout",
     "output_type": "stream",
     "text": [
      "Inside the function local total :  50\n",
      "Outside the function global total :  0\n",
      "Outside the function global total :  350\n"
     ]
    }
   ],
   "source": [
    "total = 0  # This is global variable.\n",
    "# Function definition is here\n",
    "\n",
    "\n",
    "def sum(arg1, arg2):\n",
    "    # Add both the parameters and return them.\"\n",
    "    total = 20\n",
    "    total += arg1 + arg2  # Here total is local variable.\n",
    "    print(\"Inside the function local total : \", total)\n",
    "    return total\n",
    "\n",
    "\n",
    "# Now you can call sum function\n",
    "sum(10, 20)\n",
    "print(\"Outside the function global total : \", total)\n",
    "total = total+350\n",
    "print(\"Outside the function global total : \", total)\n"
   ]
  },
  {
   "cell_type": "code",
   "execution_count": 1,
   "metadata": {},
   "outputs": [
    {
     "name": "stdout",
     "output_type": "stream",
     "text": [
      "P1 is a PG program\n",
      "P2 is also a PG program\n",
      "MCA is having 60 students\n",
      "MSC is having 55 students\n",
      "<class 'str'>\n",
      "<class 'int'>\n",
      "PG\n"
     ]
    }
   ],
   "source": [
    "class ComputerScience:\n",
    "    # class attribute\n",
    "    ptype = \"PG\"\n",
    "# instance attribute\n",
    "\n",
    "    def __init__(self, pname, cstrength):\n",
    "        self.pname = pname\n",
    "        self.cstrength = cstrength\n",
    "\n",
    "\n",
    "# instantiate the ComputerScience class\n",
    "p1 = ComputerScience(\"MCA\", 60)\n",
    "p2 = ComputerScience(\"MSC\", 55)\n",
    "# access the class attributes\n",
    "print(\"P1 is a {}\".format(p1.__class__.ptype), \"program\")\n",
    "print(\"P2 is also a {}\".format(p2.__class__.ptype), \"program\")\n",
    "# access the instance attributes\n",
    "\n",
    "print(\"{} is having {} students\".format(p1.pname, p1.cstrength))\n",
    "print(\"{} is having {} students\".format(p2.pname, p2.cstrength))\n",
    "print(type(p1.pname))\n",
    "print(type(p1.cstrength))\n",
    "print((p2.__class__.ptype))\n"
   ]
  },
  {
   "cell_type": "code",
   "execution_count": 2,
   "metadata": {},
   "outputs": [
    {
     "name": "stdout",
     "output_type": "stream",
     "text": [
      "Anna 22\n"
     ]
    }
   ],
   "source": [
    "class student():\n",
    "    age = 22\n",
    "    name = \"Anna\"\n",
    "\n",
    "\n",
    "s3 = student()\n",
    "\n",
    "print(s3.name, s3.age)\n"
   ]
  },
  {
   "cell_type": "code",
   "execution_count": 4,
   "metadata": {},
   "outputs": [
    {
     "name": "stdout",
     "output_type": "stream",
     "text": [
      "Age is  56\n"
     ]
    }
   ],
   "source": [
    "class student:\n",
    "    def inputDetails(self):\n",
    "        self.age1 = 56\n",
    "\n",
    "    def inputDetails2(self):\n",
    "        self.age2 = int(input(\"eneter age > \"))\n",
    "        print(\"Age is \", self.age2)\n",
    "\n",
    "\n",
    "s3 = student()\n",
    "\n",
    "s3.inputDetails2()\n"
   ]
  },
  {
   "cell_type": "code",
   "execution_count": 61,
   "metadata": {},
   "outputs": [
    {
     "name": "stdout",
     "output_type": "stream",
     "text": [
      "1.09\n",
      "1.09\n",
      "1.09\n",
      "9000\n",
      "9810\n",
      "2\n",
      "True\n"
     ]
    }
   ],
   "source": [
    "import datetime\n",
    "\n",
    "class employee:\n",
    "    num_of_employee = 0\n",
    "\n",
    "    raise_amt = 1.04\n",
    "\n",
    "    def __init__(self, first, last, pay):\n",
    "        self.first = first\n",
    "        self.last = last\n",
    "        self.pay = pay\n",
    "\n",
    "        employee.num_of_employee += 1\n",
    "\n",
    "    def fullname(self):\n",
    "        return \"{} {}\".format(self.first, self.last)\n",
    "\n",
    "    def email(self):\n",
    "        return self.last + self.first + \"@company.com\"\n",
    "\n",
    "    def apply_raise(self):\n",
    "        self.pay = int(self.pay * self.raise_amt)\n",
    "    \n",
    "    @classmethod\n",
    "    def set_raise_amt(cls,amount):\n",
    "        cls.raise_amt = amount\n",
    "\n",
    "    @classmethod\n",
    "    def from_string(cls, emp_str):\n",
    "        fisrt, last, pay = emp_str.split(\" \")\n",
    "        return cls(first, last, pay) \n",
    "    \n",
    "    @staticmethod\n",
    "    def is_workday(day):\n",
    "        if day.weekday() == 5 or day.weekday() == 6:\n",
    "            return False\n",
    "        return True\n",
    "\n",
    "\n",
    "emp1 = employee(\"hello\", \"world\", 9000)\n",
    "\n",
    "emp2 = employee(\"bebs\", \"bello\", 989)\n",
    "\n",
    "\n",
    "\n",
    "\n",
    "# print(emp1)\n",
    "# print(emp1)\n",
    "# print(emp1.first)\n",
    "# print(emp2.first)\n",
    "\n",
    "\n",
    "# print(emp1.email())\n",
    "\n",
    "# print(emp1.fullname())\n",
    "# print(employee.fullname(emp1))\n",
    "\n",
    "\n",
    "\n",
    "# print(employee.__dict__)\n",
    "\n",
    "\n",
    "employee.set_raise_amt(1.09)\n",
    "# employee.raise_amount = 1.05\n",
    "print(emp1.raise_amt)\n",
    "print(emp2.raise_amt)\n",
    "\n",
    "print(employee.raise_amt)\n",
    "\n",
    "# emp1.raise_amount = 1.07\n",
    "# print()\n",
    "# print(emp1.raise_amount)\n",
    "# print(emp2.raise_amount)\n",
    "\n",
    "# print(employee.raise_amount)\n",
    "\n",
    "\n",
    "# print(emp1.__dict__)\n",
    "# print(emp2.__dict__)\n",
    "\n",
    "print(emp1.pay)\n",
    "emp1.apply_raise()\n",
    "\n",
    "print(emp1.pay)\n",
    "\n",
    "\n",
    "print(employee.num_of_employee)\n",
    "\n",
    "my_date = datetime.date(2016,7,11)\n",
    "\n",
    "print(employee.is_workday(my_date))\n"
   ]
  },
  {
   "cell_type": "code",
   "execution_count": 93,
   "metadata": {},
   "outputs": [
    {
     "name": "stdout",
     "output_type": "stream",
     "text": [
      "-> help meo\n"
     ]
    }
   ],
   "source": [
    "class develepor(employee):\n",
    "    def __init__(self, first, last, pay, prog_lang):\n",
    "        super().__init__(first, last, pay)\n",
    "        self.prog_lang = prog_lang\n",
    "\n",
    "class manager(employee):\n",
    "    def __init__(self, first, last, pay, employees = None):\n",
    "        super().__init__(first, last, pay)\n",
    "        if employees is None:\n",
    "            self.employees = []\n",
    "        else:\n",
    "            self.employees = employees\n",
    "        \n",
    "    def add_emp(self,emp):\n",
    "        if emp not in self.employees:\n",
    "            self.employees.append(emp)\n",
    "    def remove_emp(self,emp):\n",
    "        if emp  in self.employees:\n",
    "            self.employees.remove(emp)\n",
    "    def print_emp(self):\n",
    "        for emp in self.employees:\n",
    "            print(\"->\", emp.fullname())\n",
    "\n",
    "\n",
    "dev1 = develepor(\"hello\", \"jeo\",600,\"python\")\n",
    "dev2 = develepor(\"help\", \"meo\",600,\"python\")\n",
    "\n",
    "mgr1 = manager(\"sue\",\"smith\",90000,[dev1])\n",
    "mgr1.add_emp(dev2)\n",
    "\n",
    "mgr1.remove_emp(dev1)\n",
    "mgr1.print_emp()\n",
    "# print(dev1.email())\n",
    "\n",
    "# print(help(develepor))\n",
    "\n",
    "# print(dev1.pay)\n",
    "# dev1.apply_raise()\n",
    "# print(dev1.pay)\n",
    "# print(dev1.prog_lang)\n",
    "# print()\n",
    "\n"
   ]
  },
  {
   "cell_type": "code",
   "execution_count": 96,
   "metadata": {},
   "outputs": [
    {
     "name": "stdout",
     "output_type": "stream",
     "text": [
      "True\n",
      "True\n"
     ]
    }
   ],
   "source": [
    "print(isinstance(mgr1,employee))\n",
    "\n",
    "print(issubclass(manager,employee))"
   ]
  },
  {
   "cell_type": "markdown",
   "metadata": {},
   "source": [
    "# Module Creation"
   ]
  }
 ],
 "metadata": {
  "kernelspec": {
   "display_name": "Python 3 (ipykernel)",
   "language": "python",
   "name": "python3"
  },
  "language_info": {
   "codemirror_mode": {
    "name": "ipython",
    "version": 3
   },
   "file_extension": ".py",
   "mimetype": "text/x-python",
   "name": "python",
   "nbconvert_exporter": "python",
   "pygments_lexer": "ipython3",
   "version": "3.10.5"
  },
  "vscode": {
   "interpreter": {
    "hash": "546f13b69da2962342bc38bd9c14a62503869531149da76b165cebcf3f8efe14"
   }
  }
 },
 "nbformat": 4,
 "nbformat_minor": 2
}
