{
 "cells": [
  {
   "cell_type": "code",
   "execution_count": 1,
   "metadata": {},
   "outputs": [],
   "source": [
    "\n",
    "from tkinter import *\n",
    "from tkinter import ttk\n",
    "# The second import statement, \"ttk\", is Python's binding to the newer \"themed widgets\" that were added to Tk in 8.5.\n",
    "\n",
    "\n",
    "def calculate(*args):\n",
    "    try:\n",
    "        value = float(feet.get())\n",
    "        meters.set(int((value*9/5) + 32))\n",
    "    except ValueError:\n",
    "        pass\n",
    "\n",
    "\n",
    "root = Tk()\n",
    "root.title(\"Celsius to Farenheit Converter\")\n",
    "mainframe = ttk.Frame(root, padding=\"3 3 12 12\")\n",
    "mainframe.grid(column=0, row=0, sticky=(N, W, E, S))\n",
    "root.columnconfigure(0, weight=1)\n",
    "root.rowconfigure(0, weight=1)\n",
    "feet = StringVar()\n",
    "meters = StringVar()\n",
    "feet_entry = ttk.Entry(mainframe, width=7, textvariable=feet)\n",
    "feet_entry.grid(column=2, row=1, sticky=(W, E))\n",
    "ttk.Label(mainframe, textvariable=meters).grid(column=2, row=2, sticky=(W, E))\n",
    "ttk.Button(mainframe, text=\"Calculate\", command=calculate).grid(\n",
    "    column=3, row=3, sticky=W)\n",
    "ttk.Label(mainframe, text=\"celsius\").grid(column=3, row=1, sticky=W)\n",
    "ttk.Label(mainframe, text=\"is equivalent to\").grid(column=1, row=2, sticky=E)\n",
    "ttk.Label(mainframe, text=\"Farenheit\").grid(column=3, row=2, sticky=W)\n",
    "for child in mainframe.winfo_children():\n",
    "    child.grid_configure(padx=5, pady=5)  # ?\n",
    "feet_entry.focus()\n",
    "root.bind('<Return>', calculate)\n",
    "root.mainloop()\n"
   ]
  },
  {
   "cell_type": "code",
   "execution_count": 14,
   "metadata": {},
   "outputs": [],
   "source": [
    "from tkinter import *\n",
    "def sel():\n",
    "    selection = \"You selected the option \" + str(var.get())\n",
    "    label.config(text = selection)\n",
    "top = Tk()\n",
    "var = IntVar()\n",
    "R1 = Radiobutton(top, text=\"Male \", variable=var, value=1,\n",
    "command=sel)\n",
    "R1.pack( anchor = W)\n",
    "R2 = Radiobutton(top, text=\"Female\", variable=var, value=2,\n",
    "command=sel)\n",
    "R2.pack( anchor = W )\n",
    "R3 = Radiobutton(top, text=\"Transgender\", variable=var, value=3,\n",
    "command=sel)\n",
    "R3.pack( side = RIGHT)\n",
    "label = Label(top)\n",
    "label.pack()\n",
    "mainloop()"
   ]
  },
  {
   "cell_type": "code",
   "execution_count": 12,
   "metadata": {},
   "outputs": [],
   "source": [
    "from tkinter import *\n",
    "top = Tk()\n",
    "var1 = IntVar()\n",
    "Checkbutton(top, text='UG', variable=var1).grid(row=0, sticky=W)\n",
    "var2 = IntVar()\n",
    "Checkbutton(top, text='PG', variable=var2).grid(row=1, sticky=W)\n",
    "var3 = IntVar()\n",
    "Checkbutton(top, text='Research', variable=var3).grid(row=2, sticky=W)\n",
    "mainloop()"
   ]
  },
  {
   "cell_type": "code",
   "execution_count": 9,
   "metadata": {},
   "outputs": [],
   "source": [
    "from tkinter import *\n",
    "top = Tk()\n",
    "Lb = Listbox(top)\n",
    "Lb.insert(1, 'Python')\n",
    "Lb.insert(2, 'Java')\n",
    "Lb.insert(3, 'C++')\n",
    "Lb.insert(4, 'Any other')\n",
    "Lb.pack()\n",
    "top.mainloop()"
   ]
  },
  {
   "cell_type": "code",
   "execution_count": 11,
   "metadata": {},
   "outputs": [],
   "source": [
    "from tkinter import *\n",
    "root = Tk()\n",
    "def letsStart():\n",
    "    print(\"GET SET GO. ..\")\n",
    "def letsPause():\n",
    "    print(\"Take a break!\")\n",
    "def letsStop():\n",
    "    print(\"Bye take care.\")\n",
    "frame = Frame(root)\n",
    "frame.pack()\n",
    "bottomframe = Frame(root)\n",
    "bottomframe.pack( side = BOTTOM )\n",
    "redbutton = Button(frame, text = \"Stop\", bg='Red', fg ='black', command=letsStop)\n",
    "redbutton.pack( side = LEFT)\n",
    "greenbutton = Button(frame, text = \"Play\", bg='green', fg='black', command=letsStart)\n",
    "greenbutton.pack( side = LEFT )\n",
    "bluebutton = Button(frame, text = \"Pause\", bg='Blue', fg ='black', command=letsPause)\n",
    "bluebutton.pack( side = LEFT )\n",
    "blackbutton = Button(bottomframe, text=\"OVER\", bg='Brown', fg ='Yellow', command=root.destroy)\n",
    "blackbutton.pack( side = BOTTOM)\n",
    "root.mainloop()"
   ]
  },
  {
   "cell_type": "code",
   "execution_count": 13,
   "metadata": {},
   "outputs": [],
   "source": [
    "from tkinter import *\n",
    "root = Tk()\n",
    "scrollbar = Scrollbar(root)\n",
    "scrollbar.pack( side = RIGHT, fill = Y )\n",
    "mylist = Listbox(root, yscrollcommand = scrollbar.set )\n",
    "for line in range(100):\n",
    "    mylist.insert(END, 'This is storagespace' + str(line))\n",
    "mylist.pack( side = LEFT, fill = BOTH )\n",
    "scrollbar.config( command = mylist.yview )\n",
    "mainloop()"
   ]
  }
 ],
 "metadata": {
  "kernelspec": {
   "display_name": "Python 3.10.5 64-bit",
   "language": "python",
   "name": "python3"
  },
  "language_info": {
   "codemirror_mode": {
    "name": "ipython",
    "version": 3
   },
   "file_extension": ".py",
   "mimetype": "text/x-python",
   "name": "python",
   "nbconvert_exporter": "python",
   "pygments_lexer": "ipython3",
   "version": "3.10.5"
  },
  "orig_nbformat": 4,
  "vscode": {
   "interpreter": {
    "hash": "546f13b69da2962342bc38bd9c14a62503869531149da76b165cebcf3f8efe14"
   }
  }
 },
 "nbformat": 4,
 "nbformat_minor": 2
}
