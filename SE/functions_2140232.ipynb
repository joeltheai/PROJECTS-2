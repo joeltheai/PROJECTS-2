{
 "cells": [
  {
   "cell_type": "code",
   "execution_count": 77,
   "metadata": {},
   "outputs": [
    {
     "name": "stdout",
     "output_type": "stream",
     "text": [
      "Hello, Joel. Welcome to Axis Banking.\n"
     ]
    }
   ],
   "source": [
    "class func1:\n",
    "    l = []\n",
    "    countof = lambda x : len(x)\n",
    "    client_employee = []\n",
    "    def addclients(*a):\n",
    "        for i in a:\n",
    "            func1.l.append(i)\n",
    "    def remove_clients(l):\n",
    "        \n",
    "        for i in l:\n",
    "            if i in func1.l:\n",
    "                func1.l.remove(i)\n",
    "        \n",
    "\n",
    "    def greeting_cliet(name,c = \"axis banking\"):\n",
    "        titleof = lambda x : x.title()\n",
    "        return \"Hello, \"+titleof(name)+\". Welcome to \"+titleof(c)+\".\"\n",
    "\n",
    "    def show_clients(c = \"\"):\n",
    "        print(\"Number of clientss =\",func1.countof(func1.l))\n",
    "        for i in func1.l:\n",
    "            print(i.title())\n",
    "\n",
    "    def client_employee_pair(**kwargs):\n",
    "        result = []\n",
    "        for key, value in kwargs.items():\n",
    "            result.append(\"The client assigned to {} is {} \".format (key.title(),value.title()))\n",
    "\n",
    "            func1.client_employee.append((key,value))\n",
    "        return result\n",
    "    def show_clientandemployeee():\n",
    "        for i in func1.client_employee:\n",
    "            print(\"Client assigned to\",i[0],\"is\",i[1])\n",
    "\n",
    "    \n",
    "\n",
    "print(func1.greeting_cliet(\"joel\"))"
   ]
  },
  {
   "cell_type": "code",
   "execution_count": 82,
   "metadata": {},
   "outputs": [],
   "source": [
    "func1.addclients(\"joel\",\"shifa\",\"pearl\")"
   ]
  },
  {
   "cell_type": "code",
   "execution_count": 79,
   "metadata": {},
   "outputs": [
    {
     "data": {
      "text/plain": [
       "['joel', 'shifa', 'pearl']"
      ]
     },
     "execution_count": 79,
     "metadata": {},
     "output_type": "execute_result"
    }
   ],
   "source": [
    "func1.l"
   ]
  },
  {
   "cell_type": "code",
   "execution_count": 80,
   "metadata": {},
   "outputs": [],
   "source": [
    "func1.remove_clients([\"joel\",\"shifa\"])"
   ]
  },
  {
   "cell_type": "code",
   "execution_count": 83,
   "metadata": {},
   "outputs": [
    {
     "name": "stdout",
     "output_type": "stream",
     "text": [
      "Number of clientss = 4\n",
      "Pearl\n",
      "Joel\n",
      "Shifa\n",
      "Pearl\n"
     ]
    }
   ],
   "source": [
    "func1.show_clients()"
   ]
  },
  {
   "cell_type": "code",
   "execution_count": 84,
   "metadata": {},
   "outputs": [
    {
     "data": {
      "text/plain": [
       "['The client assigned to Smith is Joel ',\n",
       " 'The client assigned to James is Shifa ',\n",
       " 'The client assigned to Jones is Megan ']"
      ]
     },
     "execution_count": 84,
     "metadata": {},
     "output_type": "execute_result"
    }
   ],
   "source": [
    "func1.client_employee_pair(smith = \"joel\",james = \"shifa\",jones = \"megan\")"
   ]
  },
  {
   "cell_type": "code",
   "execution_count": 85,
   "metadata": {},
   "outputs": [
    {
     "name": "stdout",
     "output_type": "stream",
     "text": [
      "Client assigned to smith is joel\n",
      "Client assigned to james is shifa\n",
      "Client assigned to jones is megan\n"
     ]
    }
   ],
   "source": [
    "func1.show_clientandemployeee()"
   ]
  }
 ],
 "metadata": {
  "kernelspec": {
   "display_name": "Python 3.10.5 64-bit",
   "language": "python",
   "name": "python3"
  },
  "language_info": {
   "codemirror_mode": {
    "name": "ipython",
    "version": 3
   },
   "file_extension": ".py",
   "mimetype": "text/x-python",
   "name": "python",
   "nbconvert_exporter": "python",
   "pygments_lexer": "ipython3",
   "version": "3.10.5"
  },
  "orig_nbformat": 4,
  "vscode": {
   "interpreter": {
    "hash": "546f13b69da2962342bc38bd9c14a62503869531149da76b165cebcf3f8efe14"
   }
  }
 },
 "nbformat": 4,
 "nbformat_minor": 2
}
