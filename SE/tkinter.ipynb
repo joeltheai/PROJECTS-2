{
 "cells": [
  {
   "cell_type": "code",
   "execution_count": 3,
   "metadata": {},
   "outputs": [
    {
     "name": "stdout",
     "output_type": "stream",
     "text": [
      "The name is : Joel Varghese\n",
      "The email is: joel@gmail.com\n",
      "The Aadhar number :  124134234\n",
      "The account pin set to 1234\n"
     ]
    }
   ],
   "source": [
    "import tkinter as tk\n",
    "root=tk.Tk()\n",
    "# setting the windows size\n",
    "root.geometry(\"600x400\")\n",
    "# declaring string variable\n",
    "# for storing name and password\n",
    "a = tk.StringVar()\n",
    "b = tk.StringVar()\n",
    "c = tk.StringVar()\n",
    "d = tk.StringVar()\n",
    "e = tk.StringVar()\n",
    "\n",
    "bg = tk.PhotoImage(file = \"plop.png\")\n",
    " \n",
    "# Show image using label\n",
    "label1 = tk.Label( root, image = bg)\n",
    "label1.place(x = 0, y = 0)\n",
    "\n",
    "# defining a function that will\n",
    "# get the name and password and\n",
    "# print them on thoe screen\n",
    "def submit():\n",
    "    first = a.get()\n",
    "    last = b.get()\n",
    "    email = c.get()\n",
    "    aadhar = d.get()\n",
    "    pin = e.get()\n",
    "    print(\"The name is : \"+ first.title() + \" \"+ last.title())\n",
    "    print(\"The email is: \"+ email)\n",
    "    print(\"The Aadhar number : \", aadhar)\n",
    "    print(\"The account pin set to\", pin)\n",
    "    \n",
    "    a.set(\"\")\n",
    "    b.set(\"\")\n",
    "    c.set(\"\")\n",
    "    d.set(\"\")\n",
    "    e.set(\"\")\n",
    "\n",
    "p = tk.Label(root,text = \"\",bg = \"#b5245f\",fg = \"white\").grid(row= 0,column=0)\n",
    "a2 = tk.Label(root ,text = \"First Name\",bg = \"#b5245f\",fg = \"white\").grid(row = 1,column = 1)\n",
    "b2 = tk.Label(root ,text = \"Last Name\",bg = \"#b5245f\",fg = \"white\").grid(row = 2,column = 1)\n",
    "c2 = tk.Label(root ,text = \"Email Id\",bg = \"#b5245f\",fg = \"white\").grid(row = 3,column = 1)\n",
    "d2 = tk.Label(root ,text = \"Aadhar Number\",bg = \"#b5245f\",fg = \"white\").grid(row = 4,column = 1)\n",
    "\n",
    "\n",
    "e2 = tk.Label(root ,text = \"set account pin\",bg = \"#b5245f\",fg = \"white\").grid(row = 5,column = 1)\n",
    "\n",
    "a1 = tk.Entry(root,textvariable= a).grid(row = 1,column = 2)\n",
    "b1 = tk.Entry(root,textvariable= b).grid(row = 2,column = 2)\n",
    "c1 = tk.Entry(root,textvariable= c).grid(row = 3,column = 2)\n",
    "d1 = tk.Entry(root,textvariable= d).grid(row = 4,column = 2)\n",
    "e1 = tk.Entry(root, textvariable= e, show = \"*\").grid(row = 5,column=2)\n",
    "\n",
    "j = tk.Label(root,text = \"\",bg = \"#b5245f\",fg = \"white\").grid(row= 6,column=1)\n",
    "sub_btn = tk.Button(root,text = \"Submit\",command = submit)\n",
    "\n",
    "sub_btn.grid(row = 7,column=2)\n",
    "\n",
    "root.mainloop()\n"
   ]
  },
  {
   "cell_type": "code",
   "execution_count": 1,
   "metadata": {},
   "outputs": [
    {
     "ename": "NameError",
     "evalue": "name 'tk' is not defined",
     "output_type": "error",
     "traceback": [
      "\u001b[1;31m---------------------------------------------------------------------------\u001b[0m",
      "\u001b[1;31mNameError\u001b[0m                                 Traceback (most recent call last)",
      "\u001b[1;32mc:\\Users\\joelv\\Desktop\\projects-2\\SE\\tkinter.ipynb Cell 2\u001b[0m in \u001b[0;36m<cell line: 2>\u001b[1;34m()\u001b[0m\n\u001b[0;32m      <a href='vscode-notebook-cell:/c%3A/Users/joelv/Desktop/projects-2/SE/tkinter.ipynb#W1sZmlsZQ%3D%3D?line=0'>1</a>\u001b[0m \u001b[39m# Show image using label\u001b[39;00m\n\u001b[1;32m----> <a href='vscode-notebook-cell:/c%3A/Users/joelv/Desktop/projects-2/SE/tkinter.ipynb#W1sZmlsZQ%3D%3D?line=1'>2</a>\u001b[0m label1 \u001b[39m=\u001b[39m tk\u001b[39m.\u001b[39mLabel( root, image \u001b[39m=\u001b[39m bg)\n\u001b[0;32m      <a href='vscode-notebook-cell:/c%3A/Users/joelv/Desktop/projects-2/SE/tkinter.ipynb#W1sZmlsZQ%3D%3D?line=2'>3</a>\u001b[0m label1\u001b[39m.\u001b[39mplace(x \u001b[39m=\u001b[39m \u001b[39m0\u001b[39m, y \u001b[39m=\u001b[39m \u001b[39m0\u001b[39m)\n\u001b[0;32m      <a href='vscode-notebook-cell:/c%3A/Users/joelv/Desktop/projects-2/SE/tkinter.ipynb#W1sZmlsZQ%3D%3D?line=4'>5</a>\u001b[0m \u001b[39m# defining a function that will\u001b[39;00m\n\u001b[0;32m      <a href='vscode-notebook-cell:/c%3A/Users/joelv/Desktop/projects-2/SE/tkinter.ipynb#W1sZmlsZQ%3D%3D?line=5'>6</a>\u001b[0m \u001b[39m# get the name and password and\u001b[39;00m\n\u001b[0;32m      <a href='vscode-notebook-cell:/c%3A/Users/joelv/Desktop/projects-2/SE/tkinter.ipynb#W1sZmlsZQ%3D%3D?line=6'>7</a>\u001b[0m \u001b[39m# print them on thoe screen\u001b[39;00m\n",
      "\u001b[1;31mNameError\u001b[0m: name 'tk' is not defined"
     ]
    }
   ],
   "source": [
    " \n",
    "# Show image using label\n",
    "label1 = tk.Label( root, image = bg)\n",
    "label1.place(x = 0, y = 0)\n",
    "\n",
    "# defining a function that will\n",
    "# get the name and password and\n",
    "# print them on thoe screen\n",
    "def submit():\n",
    "    first = a.get()\n",
    "    last = b.get()\n",
    "    email = c.get()\n",
    "    aadhar = d.get()\n",
    "    pin = e.get()\n",
    "    print(\"The name is : \"+ first.title() + \" \"+ last.title())\n",
    "    print(\"The email is: \"+ email)\n",
    "    print(\"The Aadhar number : \", aadhar)\n",
    "    print(\"The account pin set to\", pin)\n",
    "    \n",
    "    a.set(\"\")\n",
    "    b.set(\"\")\n",
    "    c.set(\"\")\n",
    "    d.set(\"\")\n",
    "    e.set(\"\")\n",
    "\n",
    "p = tk.Label(root,text = \"\",bg = \"#b5245f\",fg = \"white\").grid(row= 0,column=0)\n",
    "a2 = tk.Label(root ,text = \"First Name\",bg = \"#b5245f\",fg = \"white\").grid(row = 1,column = 1)\n",
    "b2 = tk.Label(root ,text = \"Last Name\",bg = \"#b5245f\",fg = \"white\").grid(row = 2,column = 1)\n",
    "c2 = tk.Label(root ,text = \"Email Id\",bg = \"#b5245f\",fg = \"white\").grid(row = 3,column = 1)\n",
    "d2 = tk.Label(root ,text = \"Aadhar Number\",bg = \"#b5245f\",fg = \"white\").grid(row = 4,column = 1)\n",
    "\n",
    "\n",
    "e2 = tk.Label(root ,text = \"set account pin\",bg = \"#b5245f\",fg = \"white\").grid(row = 5,column = 1)\n",
    "\n",
    "a1 = tk.Entry(root,textvariable= a).grid(row = 1,column = 2)\n",
    "b1 = tk.Entry(root,textvariable= b).grid(row = 2,column = 2)\n",
    "c1 = tk.Entry(root,textvariable= c).grid(row = 3,column = 2)\n",
    "d1 = tk.Entry(root,textvariable= d).grid(row = 4,column = 2)\n",
    "e1 = tk.Entry(root, textvariable= e, show = \"*\").grid(row = 5,column=2)\n",
    "\n",
    "j = tk.Label(root,text = \"\",bg = \"#b5245f\",fg = \"white\").grid(row= 6,column=1)\n",
    "sub_btn = tk.Button(root,text = \"Submit\",command = submit)\n",
    "\n",
    "sub_btn.grid(row = 7,column=2)\n",
    "\n",
    "root.mainloop()\n"
   ]
  }
 ],
 "metadata": {
  "kernelspec": {
   "display_name": "Python 3.10.5 64-bit",
   "language": "python",
   "name": "python3"
  },
  "language_info": {
   "codemirror_mode": {
    "name": "ipython",
    "version": 3
   },
   "file_extension": ".py",
   "mimetype": "text/x-python",
   "name": "python",
   "nbconvert_exporter": "python",
   "pygments_lexer": "ipython3",
   "version": "3.10.5"
  },
  "orig_nbformat": 4,
  "vscode": {
   "interpreter": {
    "hash": "546f13b69da2962342bc38bd9c14a62503869531149da76b165cebcf3f8efe14"
   }
  }
 },
 "nbformat": 4,
 "nbformat_minor": 2
}
