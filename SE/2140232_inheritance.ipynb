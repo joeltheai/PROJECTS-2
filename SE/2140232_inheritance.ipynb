{
 "cells": [
  {
   "cell_type": "markdown",
   "metadata": {},
   "source": [
    "\n",
    "# Module Creation (12 - 8 -22)"
   ]
  },
  {
   "cell_type": "code",
   "execution_count": 30,
   "metadata": {},
   "outputs": [],
   "source": [
    "\n",
    "class company_info():\n",
    "    company_name = \"Axis banking\"\n",
    "\n",
    "class leadership(company_info):\n",
    "    boardofdirectors = [\"devin jone\",\"shifa ali\",\"sam pepper\",\"richik dutta\"]\n",
    "\n",
    "class client(company_info):\n",
    "    name_list = []\n",
    "    num_of_clients = 0\n",
    "\n",
    "    raise_amt = 1.04\n",
    "\n",
    "    def __init__(self, first, last, gender,savings):\n",
    "        self.first = first\n",
    "        self.last = last\n",
    "        self.gender = gender\n",
    "        self.savings = savings\n",
    "        self.regno = client.num_of_clients\n",
    "        client.num_of_clients += 1\n",
    "        client.name_list.append(self)\n",
    "\n",
    "    def fullname(self):\n",
    "        return \"{} {}\".format(self.first.title(), self.last.title())\n",
    "\n",
    "    def email(self):\n",
    "        return self.first +\".\"+ self.last + str(1000 + self.regno)+ \"@company.com\"\n",
    "\n",
    "    def apply_interest(self):\n",
    "        self.savings = int(self.savings * self.raise_amt)\n",
    "\n",
    "\n",
    "\n",
    "class employee(client):\n",
    "    name_list = []\n",
    "    num_of_employees = 0\n",
    "    def __init__(self, first, last, gender , clients = None):\n",
    "        self.first = first\n",
    "        self.last = last\n",
    "        self.gender = gender\n",
    "        self.regno = employee.num_of_employees\n",
    "        employee.num_of_employees += 1\n",
    "        if clients is None:\n",
    "            self.clients = []\n",
    "        else:\n",
    "            self.clients = clients\n",
    "        employee.name_list.append(self)\n",
    "        \n",
    "    def add_client(self,i):\n",
    "        if i not in self.clients:\n",
    "            self.clients.append(i)\n",
    "    def remove_client(self,i):\n",
    "        if i  in self.clients:\n",
    "            self.clients.remove(i)\n",
    "    def print_client(self):\n",
    "        print(\"Clients under\",self.fullname(),\"with their emails\")\n",
    "        for i in self.clients:\n",
    "            print(\"->\", i.fullname(),\"-\",i.email())\n",
    "\n",
    "        return \"\"\n",
    "\n",
    "class manager(employee):\n",
    "    name_list = []\n",
    "    num_of_employees = 0\n",
    "\n",
    "    def __init__(self, first, last, gender, employees = None):\n",
    "        super().__init__(first, last, gender)\n",
    "        if employees is None:\n",
    "            self.num_of_employees = []\n",
    "        else:\n",
    "            self.employees = employees\n",
    "\n",
    "    def add_emp(self,emp):\n",
    "        if emp not in self.employees:\n",
    "            self.employees.append(emp)\n",
    "    def remove_emp(self,emp):\n",
    "        if emp  in self.employees:\n",
    "            self.employees.remove(emp)\n",
    "    def print_emp(self):\n",
    "        print(\"Emmployees under \",self.fullname())\n",
    "        for emp in self.employees:\n",
    "            print(\"->\", emp.fullname(),\"-\",emp.email())\n",
    "\n",
    "\n",
    "\n"
   ]
  },
  {
   "cell_type": "code",
   "execution_count": 31,
   "metadata": {},
   "outputs": [],
   "source": [
    "\n",
    "\n",
    "n1 = client(\"joel\",\"varghese\",\"M\",9000)\n",
    "n2 = client(\"jo\",\"anna\",\"F\",9000)\n",
    "n3 = client(\"christopher\",\"columbus\",\"M\",9000)\n",
    "n4 = client(\"rem\",\"doe\",\"F\",10000)\n",
    "n5 = client(\"kevin\",\"spacey\",\"M\",8000)\n",
    "n6 = client(\"nila\",\"rajashekar\",\"F\",9900)\n"
   ]
  },
  {
   "cell_type": "code",
   "execution_count": 32,
   "metadata": {},
   "outputs": [
    {
     "name": "stdout",
     "output_type": "stream",
     "text": [
      "full name of first client :  Joel Varghese\n",
      "savings : \n",
      "9000\n",
      "savings after applying interest :\n",
      "9360\n"
     ]
    }
   ],
   "source": [
    "\n",
    "# displaying full name and applying interest to the savings\n",
    "\n",
    "print(\"full name of first client : \",n1.fullname())\n",
    "\n",
    "print(\"savings : \")\n",
    "print(n1.savings)\n",
    "\n",
    "print(\"savings after applying interest :\")\n",
    "n1.apply_interest()\n",
    "print(n1.savings)"
   ]
  },
  {
   "cell_type": "code",
   "execution_count": 33,
   "metadata": {},
   "outputs": [
    {
     "name": "stdout",
     "output_type": "stream",
     "text": [
      "Joel Varghese\n",
      "joel.varghese1000@company.com\n",
      "Jo Anna\n",
      "jo.anna1001@company.com\n",
      "Kevin Spacey\n",
      "kevin.spacey1004@company.com\n"
     ]
    }
   ],
   "source": [
    "# printing fullnames and emails\n",
    "print(n1.fullname())\n",
    "print(n1.email())\n",
    "\n",
    "print(n2.fullname())\n",
    "print(n2.email())\n",
    "\n",
    "print(n5.fullname())\n",
    "print(n5.email())\n"
   ]
  },
  {
   "cell_type": "code",
   "execution_count": 34,
   "metadata": {},
   "outputs": [
    {
     "name": "stdout",
     "output_type": "stream",
     "text": [
      "fred.luxemborg1000@company.com\n",
      "Fred Luxemborg\n",
      "Clients under Fred Luxemborg with their emails\n",
      "-> Joel Varghese - joel.varghese1000@company.com\n",
      "-> Christopher Columbus - christopher.columbus1002@company.com\n",
      "\n"
     ]
    }
   ],
   "source": [
    "# creating an employee instance and assigning clients to the employee\n",
    "\n",
    "e1 = employee(\"fred\",\"luxemborg\",\"M\",[n1,n3])\n",
    "print(e1.email())\n",
    "print(e1.fullname())\n",
    "print(e1.print_client())"
   ]
  },
  {
   "cell_type": "code",
   "execution_count": 35,
   "metadata": {},
   "outputs": [
    {
     "name": "stdout",
     "output_type": "stream",
     "text": [
      "Clients under Fred Luxemborg with their emails\n",
      "-> Joel Varghese - joel.varghese1000@company.com\n",
      "-> Christopher Columbus - christopher.columbus1002@company.com\n",
      "-> Kevin Spacey - kevin.spacey1004@company.com\n",
      "\n"
     ]
    }
   ],
   "source": [
    "# adding a client to employee\n",
    "\n",
    "e1.add_client(n5)\n",
    "print(e1.print_client())\n",
    "\n"
   ]
  },
  {
   "cell_type": "code",
   "execution_count": 36,
   "metadata": {},
   "outputs": [
    {
     "name": "stdout",
     "output_type": "stream",
     "text": [
      "Clients under Fred Luxemborg with their emails\n",
      "-> Christopher Columbus - christopher.columbus1002@company.com\n",
      "-> Kevin Spacey - kevin.spacey1004@company.com\n",
      "\n"
     ]
    }
   ],
   "source": [
    "\n",
    "e1.remove_client(n1)\n",
    "print(e1.print_client())"
   ]
  },
  {
   "cell_type": "code",
   "execution_count": 37,
   "metadata": {},
   "outputs": [
    {
     "name": "stdout",
     "output_type": "stream",
     "text": [
      "Joel Varghese\n",
      "Christopher Columbus\n",
      "Kevin Spacey\n"
     ]
    }
   ],
   "source": [
    "for i in client.name_list:\n",
    "    if i.gender == \"M\":\n",
    "        print(i.fullname())"
   ]
  },
  {
   "cell_type": "code",
   "execution_count": 38,
   "metadata": {},
   "outputs": [],
   "source": [
    "m1 = manager(\"joel\",\"varghese\",\"M\",[e1])"
   ]
  },
  {
   "cell_type": "code",
   "execution_count": 39,
   "metadata": {},
   "outputs": [
    {
     "name": "stdout",
     "output_type": "stream",
     "text": [
      "Joel Varghese\n",
      "joel.varghese1001@company.com\n",
      "Emmployees under  Joel Varghese\n",
      "-> Fred Luxemborg - fred.luxemborg1000@company.com\n",
      "None\n"
     ]
    }
   ],
   "source": [
    "print(m1.fullname())\n",
    "print(m1.email())\n",
    "print(m1.print_emp())"
   ]
  },
  {
   "cell_type": "code",
   "execution_count": 40,
   "metadata": {},
   "outputs": [],
   "source": [
    "e2 = employee(\"peter\",\"parker\",\"M\")"
   ]
  },
  {
   "cell_type": "code",
   "execution_count": 41,
   "metadata": {},
   "outputs": [
    {
     "name": "stdout",
     "output_type": "stream",
     "text": [
      "Emmployees under  Joel Varghese\n",
      "-> Fred Luxemborg - fred.luxemborg1000@company.com\n",
      "-> Peter Parker - peter.parker1002@company.com\n",
      "None\n"
     ]
    }
   ],
   "source": [
    "m1.add_emp(e2)\n",
    "print(m1.print_emp())\n"
   ]
  },
  {
   "cell_type": "code",
   "execution_count": 42,
   "metadata": {},
   "outputs": [
    {
     "data": {
      "text/plain": [
       "'Axis banking'"
      ]
     },
     "execution_count": 42,
     "metadata": {},
     "output_type": "execute_result"
    }
   ],
   "source": [
    "e1.company_name"
   ]
  },
  {
   "cell_type": "code",
   "execution_count": 43,
   "metadata": {},
   "outputs": [
    {
     "data": {
      "text/plain": [
       "'Axis banking'"
      ]
     },
     "execution_count": 43,
     "metadata": {},
     "output_type": "execute_result"
    }
   ],
   "source": [
    "leadership.company_name"
   ]
  },
  {
   "cell_type": "code",
   "execution_count": 44,
   "metadata": {},
   "outputs": [
    {
     "data": {
      "text/plain": [
       "['devin jone', 'shifa ali', 'sam pepper', 'richik dutta']"
      ]
     },
     "execution_count": 44,
     "metadata": {},
     "output_type": "execute_result"
    }
   ],
   "source": [
    "leadership.boardofdirectors"
   ]
  }
 ],
 "metadata": {
  "kernelspec": {
   "display_name": "Python 3 (ipykernel)",
   "language": "python",
   "name": "python3"
  },
  "language_info": {
   "codemirror_mode": {
    "name": "ipython",
    "version": 3
   },
   "file_extension": ".py",
   "mimetype": "text/x-python",
   "name": "python",
   "nbconvert_exporter": "python",
   "pygments_lexer": "ipython3",
   "version": "3.10.5"
  },
  "vscode": {
   "interpreter": {
    "hash": "546f13b69da2962342bc38bd9c14a62503869531149da76b165cebcf3f8efe14"
   }
  }
 },
 "nbformat": 4,
 "nbformat_minor": 2
}
