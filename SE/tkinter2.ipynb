{
 "cells": [
  {
   "cell_type": "code",
   "execution_count": 4,
   "metadata": {},
   "outputs": [
    {
     "name": "stdout",
     "output_type": "stream",
     "text": [
      "Database created successfully\n"
     ]
    }
   ],
   "source": [
    "#STEP1\n",
    "import sqlite3\n",
    "conn=sqlite3.connect(\"student.db\")\n",
    "print(\"Database created successfully\")"
   ]
  },
  {
   "cell_type": "code",
   "execution_count": 2,
   "metadata": {},
   "outputs": [
    {
     "name": "stdout",
     "output_type": "stream",
     "text": [
      "Database Opened successfully\n",
      "Table ADMIN created successfully\n"
     ]
    }
   ],
   "source": [
    "#STEP 2\n",
    "import sqlite3\n",
    "conn=sqlite3.connect(\"student.db\")\n",
    "print(\"Database Opened successfully\")\n",
    "conn.execute(\"\"\"\n",
    "CREATE TABLE ADMIN2(\n",
    "ADMIN_ID INTEGER PRIMARY KEY AUTOINCREMENT NOT NULL ,\n",
    "USERNAME TEXT NOT NULL,\n",
    "PASSWORD TEXT NOT NULL)\n",
    "\"\"\")\n",
    "print (\"Table ADMIN created successfully\")"
   ]
  },
  {
   "cell_type": "code",
   "execution_count": 3,
   "metadata": {},
   "outputs": [
    {
     "name": "stdout",
     "output_type": "stream",
     "text": [
      "Database Opened successfully\n",
      "Records inserted successfully\n"
     ]
    }
   ],
   "source": [
    "#STEP 3\n",
    "import sqlite3\n",
    "conn=sqlite3.connect(\"student.db\")\n",
    "print(\"Database Opened successfully\")\n",
    "conn.execute(\"INSERT INTO ADMIN2(USERNAME,PASSWORD) VALUES ('admin', 'admin007')\");\n",
    "conn.execute(\"INSERT INTO ADMIN2(USERNAME,PASSWORD) VALUES ('salma', 'salma007')\");\n",
    "conn.commit()\n",
    "print (\"Records inserted successfully\")\n",
    "conn.close()"
   ]
  },
  {
   "cell_type": "code",
   "execution_count": 8,
   "metadata": {},
   "outputs": [
    {
     "name": "stdout",
     "output_type": "stream",
     "text": [
      "ID\tUSERNAME\tPASSWORD\n",
      "1\tadmin\t\tdbmsclass\n",
      "2\tsalma\t\tsalma007\n",
      "3\tjoel\t\tapple\n",
      "4\tjacob\t\tapple\n"
     ]
    }
   ],
   "source": [
    "#STEP 4\n",
    "#import library\n",
    "import sqlite3\n",
    "#open database\n",
    "conn = sqlite3.connect('student.db')\n",
    "#display recrod\n",
    "cursor = conn.execute(\"SELECT * from ADMIN2\")\n",
    "print(\"ID\\tUSERNAME\\tPASSWORD\")\n",
    "for row in cursor:\n",
    "    print (\"{}\\t{}\\t\\t{}\".format(row[0],row[1],row[2]))\n",
    "conn.close()"
   ]
  },
  {
   "cell_type": "code",
   "execution_count": 1,
   "metadata": {},
   "outputs": [],
   "source": [
    " #STEP 5:\n",
    "from tkinter import *\n",
    "#import library\n",
    "import sqlite3\n",
    "#open databse\n",
    "#defining login function\n",
    "def login():\n",
    "#getting form data\n",
    "    uname=username.get()\n",
    "    pwd=password.get()\n",
    "    nps=npass.get()\n",
    "    #applying empty validation\n",
    "    if uname=='' or pwd=='':\n",
    "        message.set(\"fill the empty field!!!\")\n",
    "    else:\n",
    "    #open database\n",
    "        conn = sqlite3.connect('student.db')\n",
    "        #select query\n",
    "        cursor = conn.execute('SELECT * from ADMIN2 where USERNAME=\"%s\" and PASSWORD=\"%s\"'%(uname,pwd))\n",
    "    #fetch data\n",
    "        if cursor.fetchone():\n",
    "            conn = sqlite3.connect('student.db')\n",
    "            conn.execute(\"UPDATE ADMIN2 SET PASSWORD = \" + \"'\"+str(nps)+\"'\"+\" WHERE USERNAME = '%s' and PASSWORD='%s'\"%(uname,pwd))\n",
    "            conn.commit()\n",
    "            message.set(\"Password change successful\")\n",
    "        else:\n",
    "            message.set(\"Wrong username or password!!!\")   "
   ]
  },
  {
   "cell_type": "code",
   "execution_count": 7,
   "metadata": {},
   "outputs": [],
   "source": [
    "##Step 6\n",
    "from tkinter import *\n",
    "#import library\n",
    "import sqlite3\n",
    "#defining loginform function\n",
    "def Loginform():\n",
    "    global login_screen\n",
    "    login_screen = Tk()\n",
    "    #Setting title of screen\n",
    "    login_screen.title(\"www.github.com/joeltheai\")\n",
    "    #setting height and width of screen\n",
    "    login_screen.geometry(\"600x400\")\n",
    "    login_screen[\"bg\"]=\"#b5245f\"\n",
    "    #declaring variablebg = tk.PhotoImage(file = \"plop.png\")\n",
    " \n",
    "# Show image using label\n",
    "\n",
    "    bg1 = PhotoImage(file = \"plop.png\")\n",
    "    label1 = Label( login_screen, image = bg1)\n",
    "    label1.place(x = 0, y = 0)\n",
    "\n",
    "\n",
    "    global message;\n",
    "    global username\n",
    "    global password\n",
    "    global npass\n",
    "    username = StringVar()\n",
    "    password = StringVar()\n",
    "    message=StringVar()\n",
    "    npass = StringVar()\n",
    "\n",
    "    #Creating layout of login form\n",
    "    Label(login_screen,width=\"300\", text=\"Password Change\", bg=\"#1C2833\",fg=\"white\",font=(\"Arial\",12,\"bold\")).pack()\n",
    "    #Username Label\n",
    "    Label(login_screen, text=\"Username  \",bg=\"#b5245f\",fg=\"white\",font=(\"Arial\",12,\"bold\")).place(x=20,y=40)\n",
    "    #Username textbox\n",
    "    Entry(login_screen, textvariable=username,bg=\"#b5245f\",fg=\"white\",font=(\"Arial\",12,\"bold\")).place(x=150,y=42)\n",
    "    #Password Label\n",
    "    Label(login_screen, text=\"Password  \",bg=\"#b5245f\",fg=\"white\",font=(\"Arial\",12,\"bold\")).place(x=20,y=80)\n",
    "    #Password textbox\n",
    "    Entry(login_screen, textvariable=password ,show=\"*\",bg=\"#b5245f\",fg=\"white\",font=(\"Arial\",12,\"bold\")).place(x=150,y=82)\n",
    "    #Label for displaying login status[success/failed]\n",
    "    Label(login_screen, text=\"New Password\",bg=\"#b5245f\",fg=\"white\",font=(\"Arial\",12,\"bold\")).place(x=20,y=120)\n",
    "    #Password textbox\n",
    "    Entry(login_screen, textvariable=npass,show=\"*\",bg=\"#b5245f\",fg=\"white\",font=(\"Arial\",12,\"bold\")).place(x=150,y=122)\n",
    "    \n",
    "    Label(login_screen, text=\"\",textvariable=message,bg=\"#b5245f\",fg=\"white\",font=(\"Arial\",12,\"bold\")).place(x=95,y=160)\n",
    "    #Login button\n",
    "    Button(login_screen, text=\"Change your password\", width=30, height=1, command=login, bg=\"#0E6655\",fg=\"white\",font=(\"Arial\",12,\"bold\")).place(x=125,y=200)\n",
    "    login_screen.mainloop()\n",
    "#calling function Loginform\n",
    "Loginform()"
   ]
  },
  {
   "cell_type": "code",
   "execution_count": null,
   "metadata": {},
   "outputs": [],
   "source": []
  },
  {
   "cell_type": "code",
   "execution_count": 5,
   "metadata": {},
   "outputs": [
    {
     "name": "stdout",
     "output_type": "stream",
     "text": [
      "Database Opened successfully\n",
      "Records inserted successfully\n"
     ]
    }
   ],
   "source": [
    "#STEP 3\n",
    "import sqlite3\n",
    "conn=sqlite3.connect(\"student.db\")\n",
    "print(\"Database Opened successfully\")\n",
    "conn.execute(\"INSERT INTO ADMIN2(USERNAME,PASSWORD) VALUES ('jacob', 'apple')\");\n",
    "conn.commit()\n",
    "print (\"Records inserted successfully\")\n",
    "conn.close()"
   ]
  }
 ],
 "metadata": {
  "kernelspec": {
   "display_name": "Python 3.10.5 64-bit",
   "language": "python",
   "name": "python3"
  },
  "language_info": {
   "codemirror_mode": {
    "name": "ipython",
    "version": 3
   },
   "file_extension": ".py",
   "mimetype": "text/x-python",
   "name": "python",
   "nbconvert_exporter": "python",
   "pygments_lexer": "ipython3",
   "version": "3.10.5"
  },
  "orig_nbformat": 4,
  "vscode": {
   "interpreter": {
    "hash": "546f13b69da2962342bc38bd9c14a62503869531149da76b165cebcf3f8efe14"
   }
  }
 },
 "nbformat": 4,
 "nbformat_minor": 2
}
