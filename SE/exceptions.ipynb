{
 "cells": [
{
   "cell_type": "markdown",
   "metadata": {},
   "source": [
    "# Exceptions\n",
    "- NameError\n",
    "- TypeError\n",
    "- ZeroDivisionError\n",
    "- ValueError"
   ]
  },
  {
   "cell_type": "markdown",
   "metadata": {},
   "source": []
  },
  {
   "cell_type": "code",
   "execution_count": 4,
   "metadata": {},
   "outputs": [
    {
     "name": "stdout",
     "output_type": "stream",
     "text": [
      "variable not defined\n"
     ]
    }
   ],
   "source": [
    "var = 0\n",
    "try:\n",
    "    print(var1)\n",
    "except NameError:\n",
    "    print(\"variable not defined\")\n",
    "except:\n",
    "    print(\"something else\")\n"
   ]
  },
  {
   "cell_type": "code",
   "execution_count": 6,
   "metadata": {},
   "outputs": [
    {
     "name": "stdout",
     "output_type": "stream",
     "text": [
      "zero division \n"
     ]
    }
   ],
   "source": [
    "var = 0\n",
    "try:\n",
    "    print(1/0)\n",
    "except ZeroDivisionError:\n",
    "    print(\"zero division \")\n",
    "except:\n",
    "    print(\"something else\")"
   ]
  },
  {
   "cell_type": "code",
   "execution_count": 9,
   "metadata": {},
   "outputs": [
    {
     "name": "stdout",
     "output_type": "stream",
     "text": [
      "helo world\n",
      "nothing went wrong\n"
     ]
    }
   ],
   "source": [
    "try:\n",
    "    x = 10\n",
    "    print(\"helo world\")\n",
    "except:\n",
    "    print(\"something went wrong\")\n",
    "else:\n",
    "    print(\"nothing went wrong\")"
   ]
  },
  {
   "cell_type": "code",
   "execution_count": 1,
   "metadata": {},
   "outputs": [
    {
     "name": "stdout",
     "output_type": "stream",
     "text": [
      "The error is :  invalid literal for int() with base 10: 'five'\n",
      "lol\n"
     ]
    }
   ],
   "source": [
    "def f():\n",
    "    x = int(\"five\")\n",
    "\n",
    "\n",
    "try:\n",
    "    f()\n",
    "except ValueError as e:\n",
    "    print(\"The error is : \",e)\n",
    "finally:\n",
    "    print(\"lol\") # Prints this statement everytime"
   ]
  },
  {
   "cell_type": "code",
   "execution_count": 2,
   "metadata": {},
   "outputs": [
    {
     "name": "stdout",
     "output_type": "stream",
     "text": [
      "Bery Exciting News\n"
     ]
    }
   ],
   "source": [
    "print(\"Bery Exciting News\")\n",
    "\n",
    "\n"
   ]
  },
  {
   "cell_type": "code",
   "execution_count": 13,
   "metadata": {},
   "outputs": [
    {
     "name": "stdout",
     "output_type": "stream",
     "text": [
      "The entry is  a\n",
      "Oops! invalid literal for int() with base 10: 'a' occured.\n",
      "\n",
      "Next entry.\n",
      "The reciprocal of a is 1\n",
      "The entry is  0\n",
      "Oops! division by zero occured.\n",
      "\n",
      "Next entry.\n",
      "The reciprocal of 0 is 1\n",
      "The entry is  2\n",
      "The reciprocal of 2 is 0.5\n"
     ]
    }
   ],
   "source": [
    "# import module sys\n",
    "\n",
    "import sys\n",
    "\n",
    "randomL = ['a', 0, 2]\n",
    "r = 1\n",
    "for e in randomL:\n",
    "    try:\n",
    "        print(\"The entry is \", e)\n",
    "        r = 1/int(e)\n",
    "        \n",
    "    except:\n",
    "        print(\"Oops!\",sys.exc_info()[1],\"occured.\") ####Try to change the number here in sys.exc_info\n",
    "        print()\n",
    "        print(\"Next entry.\")\n",
    "        \n",
    "    print(\"The reciprocal of\",e,\"is\",r)"
   ]
  },
  {
   "cell_type": "code",
   "execution_count": 31,
   "metadata": {},
   "outputs": [
    {
     "name": "stdout",
     "output_type": "stream",
     "text": [
      "Eriror: can't find file or read data\n"
     ]
    }
   ],
   "source": [
    "try:\n",
    "    fh = open(\"testfile333\", \"a\")\n",
    "    fh.read()\n",
    "except IOError:\n",
    "    print(\"Eriror: can\\'t find file or read data\")\n",
    "else:\n",
    "    print(\"Written content in the file successfully\")\n",
    "    fh.close()"
   ]
  },
  {
   "cell_type": "code",
   "execution_count": 37,
   "metadata": {},
   "outputs": [
    {
     "ename": "TypeError",
     "evalue": "Datatype Mismatch Error: Only integers are allowed",
     "output_type": "error",
     "traceback": [
      "\u001b[1;31m---------------------------------------------------------------------------\u001b[0m",
      "\u001b[1;31mTypeError\u001b[0m                                 Traceback (most recent call last)",
      "\u001b[1;32mc:\\Users\\joelv\\Desktop\\projects 2\\SE\\8-1-22(SE final).ipynb Cell 68\u001b[0m in \u001b[0;36m<cell line: 4>\u001b[1;34m()\u001b[0m\n\u001b[0;32m      <a href='vscode-notebook-cell:/c%3A/Users/joelv/Desktop/projects%202/SE/8-1-22%28SE%20final%29.ipynb#Y126sZmlsZQ%3D%3D?line=1'>2</a>\u001b[0m \u001b[39m###WHAT HAPPENS IF THE NEXT LINE IS UNCOMMENTED???\u001b[39;00m\n\u001b[0;32m      <a href='vscode-notebook-cell:/c%3A/Users/joelv/Desktop/projects%202/SE/8-1-22%28SE%20final%29.ipynb#Y126sZmlsZQ%3D%3D?line=2'>3</a>\u001b[0m \u001b[39m#Rank = 1\u001b[39;00m\n\u001b[0;32m      <a href='vscode-notebook-cell:/c%3A/Users/joelv/Desktop/projects%202/SE/8-1-22%28SE%20final%29.ipynb#Y126sZmlsZQ%3D%3D?line=3'>4</a>\u001b[0m \u001b[39mif\u001b[39;00m \u001b[39mnot\u001b[39;00m \u001b[39mtype\u001b[39m(Rank) \u001b[39mis\u001b[39;00m \u001b[39mint\u001b[39m:\n\u001b[1;32m----> <a href='vscode-notebook-cell:/c%3A/Users/joelv/Desktop/projects%202/SE/8-1-22%28SE%20final%29.ipynb#Y126sZmlsZQ%3D%3D?line=4'>5</a>\u001b[0m     \u001b[39mraise\u001b[39;00m \u001b[39mTypeError\u001b[39;00m(\u001b[39m\"\u001b[39m\u001b[39mDatatype Mismatch Error: Only integers are allowed\u001b[39m\u001b[39m\"\u001b[39m) \u001b[39m###TypeError is a constructor of\u001b[39;00m\n\u001b[0;32m      <a href='vscode-notebook-cell:/c%3A/Users/joelv/Desktop/projects%202/SE/8-1-22%28SE%20final%29.ipynb#Y126sZmlsZQ%3D%3D?line=5'>6</a>\u001b[0m \u001b[39mprint\u001b[39m(\u001b[39m\"\u001b[39m\u001b[39mHurray! My ranks is \u001b[39m\u001b[39m\"\u001b[39m, Rank)\n",
      "\u001b[1;31mTypeError\u001b[0m: Datatype Mismatch Error: Only integers are allowed"
     ]
    }
   ],
   "source": [
    "Rank=\"1\"\n",
    "###WHAT HAPPENS IF THE NEXT LINE IS UNCOMMENTED???\n",
    "#Rank = 1\n",
    "if not type(Rank) is int:\n",
    "    raise TypeError(\"Datatype Mismatch Error: Only integers are allowed\") ###TypeError is a constructor of\n",
    "print(\"Hurray! My ranks is \", Rank)"
   ]
  },
  {
   "cell_type": "code",
   "execution_count": 2,
   "metadata": {},
   "outputs": [
    {
     "ename": "Exception",
     "evalue": "savings cant be negative",
     "output_type": "error",
     "traceback": [
      "\u001b[1;31m---------------------------------------------------------------------------\u001b[0m",
      "\u001b[1;31mException\u001b[0m                                 Traceback (most recent call last)",
      "\u001b[1;32mc:\\Users\\joelv\\Desktop\\projects 2\\SE\\8-1-22(SE final).ipynb Cell 69\u001b[0m in \u001b[0;36m<cell line: 3>\u001b[1;34m()\u001b[0m\n\u001b[0;32m      <a href='vscode-notebook-cell:/c%3A/Users/joelv/Desktop/projects%202/SE/8-1-22%28SE%20final%29.ipynb#Y125sZmlsZQ%3D%3D?line=0'>1</a>\u001b[0m savings \u001b[39m=\u001b[39m \u001b[39m-\u001b[39m\u001b[39m90\u001b[39m\n\u001b[0;32m      <a href='vscode-notebook-cell:/c%3A/Users/joelv/Desktop/projects%202/SE/8-1-22%28SE%20final%29.ipynb#Y125sZmlsZQ%3D%3D?line=2'>3</a>\u001b[0m \u001b[39mif\u001b[39;00m savings\u001b[39m<\u001b[39m\u001b[39m0\u001b[39m:\n\u001b[1;32m----> <a href='vscode-notebook-cell:/c%3A/Users/joelv/Desktop/projects%202/SE/8-1-22%28SE%20final%29.ipynb#Y125sZmlsZQ%3D%3D?line=3'>4</a>\u001b[0m     \u001b[39mraise\u001b[39;00m \u001b[39mException\u001b[39;00m(\u001b[39m\"\u001b[39m\u001b[39msavings cant be negative\u001b[39m\u001b[39m\"\u001b[39m) \u001b[39m###TypeError is a constructor of\u001b[39;00m\n\u001b[0;32m      <a href='vscode-notebook-cell:/c%3A/Users/joelv/Desktop/projects%202/SE/8-1-22%28SE%20final%29.ipynb#Y125sZmlsZQ%3D%3D?line=4'>5</a>\u001b[0m \u001b[39mprint\u001b[39m(\u001b[39m\"\u001b[39m\u001b[39mHurray! My bank savings is \u001b[39m\u001b[39m\"\u001b[39m, Rank)\n",
      "\u001b[1;31mException\u001b[0m: savings cant be negative"
     ]
    }
   ],
   "source": [
    "savings = -90\n",
    "\n",
    "if savings<0:\n",
    "    raise Exception(\"savings cant be negative\") ###TypeError is a constructor of\n",
    "print(\"Hurray! My bank savings is \", Rank)\n"
   ]
  },
  {
   "cell_type": "code",
   "execution_count": 4,
   "metadata": {},
   "outputs": [
    {
     "name": "stdout",
     "output_type": "stream",
     "text": [
      "45\n",
      "Hello the result is: 2.2222222222222223\n",
      "Nothing went wrong\n",
      "The value of X you entered is: 45\n"
     ]
    }
   ],
   "source": [
    "try:\n",
    "    x=input(\"enter x value\")\n",
    "    print(x)\n",
    "    x=int(x)\n",
    "    print(\"Hello the result is:\", 100/x)\n",
    "except:\n",
    "    print(\"Something went wrong\")\n",
    "else:\n",
    "    print(\"Nothing went wrong\")\n",
    "finally:\n",
    "    print(\"The value of X you entered is:\", x)"
   ]
  },
  {
   "cell_type": "code",
   "execution_count": null,
   "metadata": {},
   "outputs": [],
   "source": []
  }
 ],
 "metadata": {
  "kernelspec": {
   "display_name": "Python 3 (ipykernel)",
   "language": "python",
   "name": "python3"
  },
  "language_info": {
   "codemirror_mode": {
    "name": "ipython",
    "version": 3
   },
   "file_extension": ".py",
   "mimetype": "text/x-python",
   "name": "python",
   "nbconvert_exporter": "python",
   "pygments_lexer": "ipython3",
   "version": "3.10.5"
  },
  "vscode": {
   "interpreter": {
    "hash": "546f13b69da2962342bc38bd9c14a62503869531149da76b165cebcf3f8efe14"
   }
  }
 },
 "nbformat": 4,
 "nbformat_minor": 2
}