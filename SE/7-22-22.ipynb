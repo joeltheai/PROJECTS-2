{
 "cells": [
  {
   "cell_type": "markdown",
   "metadata": {},
   "source": [
    "### Program 1"
   ]
  },
  {
   "cell_type": "markdown",
   "metadata": {},
   "source": [
    "#### Joel Varghese\n",
    "#### 2140232\n",
    "#### 22-7-22"
   ]
  },
  {
   "cell_type": "markdown",
   "metadata": {},
   "source": [
    "In this practical, we have to apply various aspects of Python like Lists, Tuples, Loops, operators, etc.\n",
    "in order to create a program for the analysis in the Banking domain."
   ]
  },
  {
   "cell_type": "markdown",
   "metadata": {},
   "source": [
    "A time deposit or term deposit is a deposit in a financial institution with a specific maturity date or a period to maturity, commonly referred to as its \"term\". Time deposits differ from at call deposits, such as savings or checking accounts, which can be withdrawn at any time, without any notice or penalty."
   ]
  },
  {
   "cell_type": "markdown",
   "metadata": {},
   "source": [
    "Lets say we have a huge dataset describing the information of people who have a term deposit with the bank with each row representing each people. We can extract the information of each people into a list for further modification."
   ]
  },
  {
   "cell_type": "code",
   "execution_count": 2,
   "metadata": {},
   "outputs": [
    {
     "data": {
      "text/plain": [
       "['Jacob Thomas', 'Male', '33', 'self-employed', 'single', 1467]"
      ]
     },
     "execution_count": 2,
     "metadata": {},
     "output_type": "execute_result"
    }
   ],
   "source": [
    "N1 = [\"Jacob Thomas\", \"Male\",\"33\",\"self-employed\",\"single\",1467]\n",
    "\n",
    "N1"
   ]
  },
  {
   "cell_type": "markdown",
   "metadata": {},
   "source": [
    "here the variable N1 consists of the information regarding name, gender, age, job description, marital status, account balance.\n",
    "\n",
    "now inorder to access the name and marital status of the person we can use the following code."
   ]
  },
  {
   "cell_type": "code",
   "execution_count": 2,
   "metadata": {},
   "outputs": [
    {
     "name": "stdout",
     "output_type": "stream",
     "text": [
      "Jacob Thomas single\n"
     ]
    }
   ],
   "source": [
    "print(N1[0],N1[4])"
   ]
  },
  {
   "cell_type": "markdown",
   "metadata": {},
   "source": [
    "Now lets say that this person has gotten married within the time he first made a term deposit to now. we need to change the status from \"single\" to \"married\". For this we can use the insert and remove function."
   ]
  },
  {
   "cell_type": "code",
   "execution_count": 6,
   "metadata": {},
   "outputs": [
    {
     "data": {
      "text/plain": [
       "['Jacob Thomas', 'Male', '33', 'self-employed', 1467]"
      ]
     },
     "execution_count": 6,
     "metadata": {},
     "output_type": "execute_result"
    }
   ],
   "source": [
    "N1.remove(\"single\")\n",
    "N1"
   ]
  },
  {
   "cell_type": "code",
   "execution_count": 7,
   "metadata": {},
   "outputs": [
    {
     "data": {
      "text/plain": [
       "['Jacob Thomas', 'Male', '33', 'self-employed', 'married', 1467]"
      ]
     },
     "execution_count": 7,
     "metadata": {},
     "output_type": "execute_result"
    }
   ],
   "source": [
    "N1.insert(4,\"married\")\n",
    "N1\n"
   ]
  },
  {
   "cell_type": "markdown",
   "metadata": {},
   "source": [
    "lets say this person has deposited an addition 500 rupees to his bank account. we can make the change as follows."
   ]
  },
  {
   "cell_type": "code",
   "execution_count": 9,
   "metadata": {},
   "outputs": [
    {
     "data": {
      "text/plain": [
       "['Jacob Thomas', 'Male', '33', 'self-employed', 'married', 1967]"
      ]
     },
     "execution_count": 9,
     "metadata": {},
     "output_type": "execute_result"
    }
   ],
   "source": [
    "N1[5] = N1[5] + 500\n",
    "N1"
   ]
  },
  {
   "cell_type": "markdown",
   "metadata": {},
   "source": [
    "Now if we add information about education level we can use the append function."
   ]
  },
  {
   "cell_type": "code",
   "execution_count": 10,
   "metadata": {},
   "outputs": [],
   "source": [
    "N1.append(\"secondary education\")"
   ]
  },
  {
   "cell_type": "code",
   "execution_count": 11,
   "metadata": {},
   "outputs": [
    {
     "data": {
      "text/plain": [
       "['Jacob Thomas',\n",
       " 'Male',\n",
       " '33',\n",
       " 'self-employed',\n",
       " 'married',\n",
       " 1967,\n",
       " 'secondary education']"
      ]
     },
     "execution_count": 11,
     "metadata": {},
     "output_type": "execute_result"
    }
   ],
   "source": [
    "N1"
   ]
  },
  {
   "cell_type": "markdown",
   "metadata": {},
   "source": [
    "Now lets say we keep information of different people in the form of another list. This can be used to represent a sample of the dataset."
   ]
  },
  {
   "cell_type": "code",
   "execution_count": 12,
   "metadata": {},
   "outputs": [],
   "source": [
    "dataset = [[\"Jacob Thomas\", \"Male\",\"33\",\"self-employed\",\"single\",1467],\\\n",
    "    [\"Jenny Will\", \"Female\",\"24\",\"student\",\"single\",1200],\\\n",
    "        [\"Adam jones\", \"Male\", \"45\",\"management\",\"married\",20000],\n",
    "        [\"Linda joseph\",\"Female\",\"28\", \"admin\",\"married\",5000]]"
   ]
  },
  {
   "cell_type": "markdown",
   "metadata": {},
   "source": [
    "here the ages are in string format and need to be inverted to an int. we can do this using a loop."
   ]
  },
  {
   "cell_type": "code",
   "execution_count": 13,
   "metadata": {},
   "outputs": [],
   "source": [
    "for i in dataset:\n",
    "    i[2] = int(i[2])"
   ]
  },
  {
   "cell_type": "code",
   "execution_count": 14,
   "metadata": {},
   "outputs": [
    {
     "data": {
      "text/plain": [
       "[['Jacob Thomas', 'Male', 33, 'self-employed', 'single', 1467],\n",
       " ['Jenny Will', 'Female', 24, 'student', 'single', 1200],\n",
       " ['Adam jones', 'Male', 45, 'management', 'married', 20000],\n",
       " ['Linda joseph', 'Female', 28, 'admin', 'married', 5000]]"
      ]
     },
     "execution_count": 14,
     "metadata": {},
     "output_type": "execute_result"
    }
   ],
   "source": [
    "dataset"
   ]
  },
  {
   "cell_type": "markdown",
   "metadata": {},
   "source": [
    "Now lets say a year has passed since the creation of this dataset and all the ages need to b updated. we can again update each entry using a for loop."
   ]
  },
  {
   "cell_type": "code",
   "execution_count": 15,
   "metadata": {},
   "outputs": [],
   "source": [
    "for i in dataset:\n",
    "    i[2] = i[2] + 1"
   ]
  },
  {
   "cell_type": "code",
   "execution_count": 16,
   "metadata": {},
   "outputs": [
    {
     "data": {
      "text/plain": [
       "[['Jacob Thomas', 'Male', 34, 'self-employed', 'single', 1467],\n",
       " ['Jenny Will', 'Female', 25, 'student', 'single', 1200],\n",
       " ['Adam jones', 'Male', 46, 'management', 'married', 20000],\n",
       " ['Linda joseph', 'Female', 29, 'admin', 'married', 5000]]"
      ]
     },
     "execution_count": 16,
     "metadata": {},
     "output_type": "execute_result"
    }
   ],
   "source": [
    "dataset"
   ]
  },
  {
   "cell_type": "markdown",
   "metadata": {},
   "source": [
    "Now lets say want to display the name and job description of people who are married. we can do this using cinditional statements like \"if\"."
   ]
  },
  {
   "cell_type": "code",
   "execution_count": 18,
   "metadata": {},
   "outputs": [
    {
     "name": "stdout",
     "output_type": "stream",
     "text": [
      "Adam jones - management\n",
      "Linda joseph - admin\n"
     ]
    }
   ],
   "source": [
    "for i in dataset:\n",
    "    if (i[4] ==\"married\"):\n",
    "        print(i[0],\"-\",i[3])"
   ]
  },
  {
   "cell_type": "markdown",
   "metadata": {},
   "source": [
    "Now if we want to print all the information about female account holders we can do as follows."
   ]
  },
  {
   "cell_type": "code",
   "execution_count": 24,
   "metadata": {},
   "outputs": [
    {
     "name": "stdout",
     "output_type": "stream",
     "text": [
      "Jenny Will . Female . 25 . student . single . 1200 . \n",
      "Linda joseph . Female . 29 . admin . married . 5000 . \n"
     ]
    }
   ],
   "source": [
    "for i in dataset:\n",
    "    if (i[1] ==\"Female\"):\n",
    "        for j in i:\n",
    "            print(j,end = \" . \")\n",
    "        print()"
   ]
  },
  {
   "cell_type": "markdown",
   "metadata": {},
   "source": [
    "Now we can add the date these account holders made an account using the append function usinf a tuple."
   ]
  },
  {
   "cell_type": "code",
   "execution_count": 25,
   "metadata": {},
   "outputs": [],
   "source": [
    "for i in dataset:\n",
    "    i.append((19,7,2022))"
   ]
  },
  {
   "cell_type": "code",
   "execution_count": 26,
   "metadata": {},
   "outputs": [
    {
     "data": {
      "text/plain": [
       "[['Jacob Thomas', 'Male', 34, 'self-employed', 'single', 1467, (19, 7, 2022)],\n",
       " ['Jenny Will', 'Female', 25, 'student', 'single', 1200, (19, 7, 2022)],\n",
       " ['Adam jones', 'Male', 46, 'management', 'married', 20000, (19, 7, 2022)],\n",
       " ['Linda joseph', 'Female', 29, 'admin', 'married', 5000, (19, 7, 2022)]]"
      ]
     },
     "execution_count": 26,
     "metadata": {},
     "output_type": "execute_result"
    }
   ],
   "source": [
    "dataset"
   ]
  }
 ],
 "metadata": {
  "kernelspec": {
   "display_name": "Python 3 (ipykernel)",
   "language": "python",
   "name": "python3"
  },
  "language_info": {
   "codemirror_mode": {
    "name": "ipython",
    "version": 3
   },
   "file_extension": ".py",
   "mimetype": "text/x-python",
   "name": "python",
   "nbconvert_exporter": "python",
   "pygments_lexer": "ipython3",
   "version": "3.8.10"
  },
  "orig_nbformat": 4,
  "vscode": {
   "interpreter": {
    "hash": "546f13b69da2962342bc38bd9c14a62503869531149da76b165cebcf3f8efe14"
   }
  }
 },
 "nbformat": 4,
 "nbformat_minor": 2
}
