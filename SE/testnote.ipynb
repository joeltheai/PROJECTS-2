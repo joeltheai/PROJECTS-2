{
 "cells": [
  {
   "cell_type": "markdown",
   "metadata": {},
   "source": [
    "\n",
    "# Module Creation (12 - 8 -22)"
   ]
  },
  {
   "cell_type": "code",
   "execution_count": 10,
   "metadata": {},
   "outputs": [],
   "source": [
    "import module1\n"
   ]
  },
  {
   "cell_type": "code",
   "execution_count": 67,
   "metadata": {},
   "outputs": [],
   "source": [
    "from module1 import client,employee\n",
    "\n",
    "n1 = client(\"joel\",\"varghese\",\"M\",9000)\n",
    "n2 = client(\"jo\",\"anna\",\"F\",9000)\n",
    "n3 = client(\"christopher\",\"columbus\",\"M\",9000)\n",
    "n4 = client(\"rem\",\"doe\",\"F\",10000)\n",
    "n5 = client(\"kevin\",\"spacey\",\"M\",8000)\n",
    "n6 = client(\"nila\",\"rajashekar\",\"F\",9900)\n"
   ]
  },
  {
   "cell_type": "code",
   "execution_count": 68,
   "metadata": {},
   "outputs": [
    {
     "name": "stdout",
     "output_type": "stream",
     "text": [
      "full name of first client :  Joel Varghese\n",
      "savings : \n",
      "9000\n",
      "savings after applying interest :\n",
      "9360\n"
     ]
    }
   ],
   "source": [
    "\n",
    "# displaying full name and applying interest to the savings\n",
    "\n",
    "print(\"full name of first client : \",n1.fullname())\n",
    "\n",
    "print(\"savings : \")\n",
    "print(n1.savings)\n",
    "\n",
    "print(\"savings after applying interest :\")\n",
    "n1.apply_interest()\n",
    "print(n1.savings)"
   ]
  },
  {
   "cell_type": "code",
   "execution_count": 5,
   "metadata": {},
   "outputs": [
    {
     "name": "stdout",
     "output_type": "stream",
     "text": [
      "Joel Varghese\n",
      "joel.varghese1000@company.com\n",
      "Jo Anna\n",
      "jo.anna1001@company.com\n",
      "Kevin Spacey\n",
      "kevin.spacey1004@company.com\n"
     ]
    }
   ],
   "source": [
    "# printing fullnames and emails\n",
    "print(n1.fullname())\n",
    "print(n1.email())\n",
    "\n",
    "print(n2.fullname())\n",
    "print(n2.email())\n",
    "\n",
    "print(n5.fullname())\n",
    "print(n5.email())\n"
   ]
  },
  {
   "cell_type": "code",
   "execution_count": 6,
   "metadata": {},
   "outputs": [
    {
     "name": "stdout",
     "output_type": "stream",
     "text": [
      "fred.luxemborg1000@company.com\n",
      "Fred Luxemborg\n",
      "Clients under Fred Luxemborg with their emails\n",
      "-> Joel Varghese - joel.varghese1000@company.com\n",
      "-> Christopher Columbus - christopher.columbus1002@company.com\n",
      "\n"
     ]
    }
   ],
   "source": [
    "# creating an employee instance and assigning clients to the employee\n",
    "\n",
    "e1 = employee(\"fred\",\"luxemborg\",\"M\",[n1,n3])\n",
    "print(e1.email())\n",
    "print(e1.fullname())\n",
    "print(e1.print_client())"
   ]
  },
  {
   "cell_type": "code",
   "execution_count": 7,
   "metadata": {},
   "outputs": [
    {
     "name": "stdout",
     "output_type": "stream",
     "text": [
      "Clients under Fred Luxemborg with their emails\n",
      "-> Joel Varghese - joel.varghese1000@company.com\n",
      "-> Christopher Columbus - christopher.columbus1002@company.com\n",
      "-> Kevin Spacey - kevin.spacey1004@company.com\n",
      "\n"
     ]
    }
   ],
   "source": [
    "# adding a client to employee\n",
    "\n",
    "e1.add_client(n5)\n",
    "print(e1.print_client())\n",
    "\n"
   ]
  },
  {
   "cell_type": "code",
   "execution_count": 8,
   "metadata": {},
   "outputs": [
    {
     "name": "stdout",
     "output_type": "stream",
     "text": [
      "Clients under Fred Luxemborg with their emails\n",
      "-> Christopher Columbus - christopher.columbus1002@company.com\n",
      "-> Kevin Spacey - kevin.spacey1004@company.com\n",
      "\n"
     ]
    }
   ],
   "source": [
    "\n",
    "e1.remove_client(n1)\n",
    "print(e1.print_client())"
   ]
  },
  {
   "cell_type": "code",
   "execution_count": 9,
   "metadata": {},
   "outputs": [
    {
     "name": "stdout",
     "output_type": "stream",
     "text": [
      "Joel Varghese\n",
      "Christopher Columbus\n",
      "Kevin Spacey\n"
     ]
    }
   ],
   "source": [
    "for i in client.name_list:\n",
    "    if i.gender == \"M\":\n",
    "        print(i.fullname())"
   ]
  }
 ],
 "metadata": {
  "kernelspec": {
   "display_name": "Python 3 (ipykernel)",
   "language": "python",
   "name": "python3"
  },
  "language_info": {
   "codemirror_mode": {
    "name": "ipython",
    "version": 3
   },
   "file_extension": ".py",
   "mimetype": "text/x-python",
   "name": "python",
   "nbconvert_exporter": "python",
   "pygments_lexer": "ipython3",
   "version": "3.10.5"
  },
  "vscode": {
   "interpreter": {
    "hash": "546f13b69da2962342bc38bd9c14a62503869531149da76b165cebcf3f8efe14"
   }
  }
 },
 "nbformat": 4,
 "nbformat_minor": 2
}
