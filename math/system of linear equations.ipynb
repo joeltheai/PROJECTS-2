{
 "cells": [
  {
   "cell_type": "markdown",
   "metadata": {},
   "source": [
    "# system of linear equations\n"
   ]
  },
  {
   "cell_type": "markdown",
   "metadata": {},
   "source": [
    "a linear equation in variables x1,x2,..xn is an equation of the form a1x1, a2x2,...an,xn and $b$ are constants.\n",
    "\n",
    "the constants ai is called the coefficient of xi\n"
   ]
  },
  {
   "cell_type": "markdown",
   "metadata": {},
   "source": [
    "A system of linear equations is a finite collection of linear equations in the same variables.\n",
    "\n",
    "linear wquations in $n$ variables $x_1, x_2. \\ldots. x_n$ <br>\n",
    "\n",
    "$a_{11}x_1 + a_{12}x_2 + \\ldots + a_{1n}x_n = b_1$ <br>\n",
    "\n",
    "$a_{21}x_1 + a_{22}x_2 + \\ldots + a_{2n}x_n = b_2$ <br>\n",
    "\n",
    "$\\ldots$ <br>\n",
    "\n",
    "$a_{m1}x_1 + a_{m2}x_2 + \\ldots + a_{mn}x_n = b_m$ <br>\n"
   ]
  },
  {
   "cell_type": "markdown",
   "metadata": {},
   "source": [
    "A solution of a linear system is an assignment of values to the variables $x_1, x_2 \\ldots, x_n$ such that each of the equations is satisfied. The set of all solutions of a linear system is called the solution set of the system\n"
   ]
  },
  {
   "cell_type": "markdown",
   "metadata": {},
   "source": [
    "in a matrix notation a linear system is $AX = B$, where <br>\n",
    "\n",
    "$A = \\begin{bmatrix}\n",
    "a*{11} & a*{12} & \\ldots & a*{1n} \\\\\n",
    "a*{11} & a*{12} & \\ldots & a*{1n} \\\\\n",
    "& \\ldots & \\\\\n",
    "a*{m1} & a*{m2} & \\ldots & a\\_{mn} \\\\\n",
    "\\end{bmatrix} $ is the coefficient matrix , <br>\n",
    "\n",
    "$X = \\begin{bmatrix}\n",
    "x_1 \\\\\n",
    "x_2 \\\\\n",
    "\\vdots \\\\\n",
    "x_n \\\\\n",
    "\\end{bmatrix} $ and\n",
    "$B = \\begin{bmatrix}\n",
    "xb1 \\\\\n",
    "b_2 \\\\\n",
    "\\vdots \\\\\n",
    "b_n \\\\\n",
    "\\end{bmatrix} $.\n"
   ]
  },
  {
   "cell_type": "markdown",
   "metadata": {},
   "source": [
    "python has numpy.linalg.solve() to solve these sytem of linear equations\n",
    "\n",
    "syntax\n",
    "\n",
    "numpy.linalg.solve(A,B)\n"
   ]
  },
  {
   "cell_type": "markdown",
   "metadata": {},
   "source": [
    "Q. Find all solutions for the linear system <br>\n",
    "\n",
    "$x_1 + 2x_2 - x_3 = 1$ <br>\n",
    "$2x_1 + x_2 + 4x_3 = 2$ <br>\n",
    "$3x_1 + 3x_2 + 4x_3 = 1$\n"
   ]
  },
  {
   "cell_type": "code",
   "execution_count": 4,
   "metadata": {},
   "outputs": [
    {
     "name": "stdout",
     "output_type": "stream",
     "text": [
      "[ 7. -4. -2.]\n"
     ]
    }
   ],
   "source": [
    "import numpy as np\n",
    "A = np.array([[1, 2, -1], [2, 1, 4], [3, 3, 4]])\n",
    "B = np.array([1, 2, 1])\n",
    "\n",
    "print(np.linalg.solve(A, B))\n"
   ]
  },
  {
   "cell_type": "code",
   "execution_count": 8,
   "metadata": {},
   "outputs": [
    {
     "ename": "ValueError",
     "evalue": "solve: Input operand 1 has a mismatch in its core dimension 0, with gufunc signature (m,m),(m,n)->(m,n) (size 1 is different from 3)",
     "output_type": "error",
     "traceback": [
      "\u001b[1;31m---------------------------------------------------------------------------\u001b[0m",
      "\u001b[1;31mValueError\u001b[0m                                Traceback (most recent call last)",
      "\u001b[1;32mc:\\Users\\joelv\\Desktop\\projects 2\\math\\system of linear equations.ipynb Cell 9\u001b[0m in \u001b[0;36m<cell line: 4>\u001b[1;34m()\u001b[0m\n\u001b[0;32m      <a href='vscode-notebook-cell:/c%3A/Users/joelv/Desktop/projects%202/math/system%20of%20linear%20equations.ipynb#X11sZmlsZQ%3D%3D?line=0'>1</a>\u001b[0m C \u001b[39m=\u001b[39m np\u001b[39m.\u001b[39mmatrix([[\u001b[39m1\u001b[39m,\u001b[39m2\u001b[39m,\u001b[39m-\u001b[39m\u001b[39m1\u001b[39m],[\u001b[39m2\u001b[39m,\u001b[39m1\u001b[39m,\u001b[39m4\u001b[39m],[\u001b[39m3\u001b[39m,\u001b[39m3\u001b[39m,\u001b[39m4\u001b[39m]])\n\u001b[0;32m      <a href='vscode-notebook-cell:/c%3A/Users/joelv/Desktop/projects%202/math/system%20of%20linear%20equations.ipynb#X11sZmlsZQ%3D%3D?line=1'>2</a>\u001b[0m B \u001b[39m=\u001b[39m np\u001b[39m.\u001b[39mmatrix([\u001b[39m1\u001b[39m,\u001b[39m2\u001b[39m,\u001b[39m1\u001b[39m])\n\u001b[1;32m----> <a href='vscode-notebook-cell:/c%3A/Users/joelv/Desktop/projects%202/math/system%20of%20linear%20equations.ipynb#X11sZmlsZQ%3D%3D?line=3'>4</a>\u001b[0m \u001b[39mprint\u001b[39m(np\u001b[39m.\u001b[39;49mlinalg\u001b[39m.\u001b[39;49msolve(C,B))\n",
      "File \u001b[1;32m<__array_function__ internals>:180\u001b[0m, in \u001b[0;36msolve\u001b[1;34m(*args, **kwargs)\u001b[0m\n",
      "File \u001b[1;32mc:\\Users\\joelv\\AppData\\Local\\Programs\\Python\\Python310\\lib\\site-packages\\numpy\\linalg\\linalg.py:400\u001b[0m, in \u001b[0;36msolve\u001b[1;34m(a, b)\u001b[0m\n\u001b[0;32m    398\u001b[0m signature \u001b[39m=\u001b[39m \u001b[39m'\u001b[39m\u001b[39mDD->D\u001b[39m\u001b[39m'\u001b[39m \u001b[39mif\u001b[39;00m isComplexType(t) \u001b[39melse\u001b[39;00m \u001b[39m'\u001b[39m\u001b[39mdd->d\u001b[39m\u001b[39m'\u001b[39m\n\u001b[0;32m    399\u001b[0m extobj \u001b[39m=\u001b[39m get_linalg_error_extobj(_raise_linalgerror_singular)\n\u001b[1;32m--> 400\u001b[0m r \u001b[39m=\u001b[39m gufunc(a, b, signature\u001b[39m=\u001b[39;49msignature, extobj\u001b[39m=\u001b[39;49mextobj)\n\u001b[0;32m    402\u001b[0m \u001b[39mreturn\u001b[39;00m wrap(r\u001b[39m.\u001b[39mastype(result_t, copy\u001b[39m=\u001b[39m\u001b[39mFalse\u001b[39;00m))\n",
      "\u001b[1;31mValueError\u001b[0m: solve: Input operand 1 has a mismatch in its core dimension 0, with gufunc signature (m,m),(m,n)->(m,n) (size 1 is different from 3)"
     ]
    }
   ],
   "source": [
    "C = np.matrix([[1, 2, -1], [2, 1, 4], [3, 3, 4]])\n",
    "B = np.matrix([1, 2, 1])\n",
    "\n",
    "print(np.linalg.solve(C, B))\n"
   ]
  },
  {
   "cell_type": "markdown",
   "metadata": {},
   "source": [
    "this is because $B$ is a $m \\times 1$ matrix in the matrix equivalent of linear system of equations\n"
   ]
  },
  {
   "cell_type": "code",
   "execution_count": 8,
   "metadata": {},
   "outputs": [
    {
     "name": "stdout",
     "output_type": "stream",
     "text": [
      "[[ 7.]\n",
      " [-4.]\n",
      " [-2.]]\n"
     ]
    }
   ],
   "source": [
    "A = np.matrix([[1, 2, -1], [2, 1, 4], [3, 3, 4]])\n",
    "B = np.matrix([[1], [2], [1]])\n",
    "\n",
    "print(np.linalg.solve(A, B))\n"
   ]
  },
  {
   "cell_type": "markdown",
   "metadata": {},
   "source": [
    "The function np.linalg.solve() works only if A is a non-singular matrix\n"
   ]
  },
  {
   "cell_type": "code",
   "execution_count": 1,
   "metadata": {},
   "outputs": [
    {
     "ename": "NameError",
     "evalue": "name 'np' is not defined",
     "output_type": "error",
     "traceback": [
      "\u001b[1;31m---------------------------------------------------------------------------\u001b[0m",
      "\u001b[1;31mNameError\u001b[0m                                 Traceback (most recent call last)",
      "\u001b[1;32mc:\\Users\\joelv\\Desktop\\projects 2\\math\\system of linear equations.ipynb Cell 13\u001b[0m in \u001b[0;36m<cell line: 1>\u001b[1;34m()\u001b[0m\n\u001b[1;32m----> <a href='vscode-notebook-cell:/c%3A/Users/joelv/Desktop/projects%202/math/system%20of%20linear%20equations.ipynb#X15sZmlsZQ%3D%3D?line=0'>1</a>\u001b[0m A \u001b[39m=\u001b[39m np\u001b[39m.\u001b[39mmatrix([[\u001b[39m1\u001b[39m,\u001b[39m-\u001b[39m\u001b[39m1\u001b[39m,\u001b[39m1\u001b[39m,\u001b[39m-\u001b[39m\u001b[39m1\u001b[39m],[\u001b[39m1\u001b[39m,\u001b[39m-\u001b[39m\u001b[39m1\u001b[39m,\u001b[39m1\u001b[39m,\u001b[39m1\u001b[39m],[\u001b[39m4\u001b[39m,\u001b[39m-\u001b[39m\u001b[39m4\u001b[39m,\u001b[39m4\u001b[39m,\u001b[39m0\u001b[39m],[\u001b[39m-\u001b[39m\u001b[39m2\u001b[39m,\u001b[39m2\u001b[39m,\u001b[39m-\u001b[39m\u001b[39m2\u001b[39m,\u001b[39m1\u001b[39m]])\n\u001b[0;32m      <a href='vscode-notebook-cell:/c%3A/Users/joelv/Desktop/projects%202/math/system%20of%20linear%20equations.ipynb#X15sZmlsZQ%3D%3D?line=1'>2</a>\u001b[0m B \u001b[39m=\u001b[39m np\u001b[39m.\u001b[39mmatrix([[\u001b[39m2\u001b[39m],[\u001b[39m0\u001b[39m],[\u001b[39m4\u001b[39m],[\u001b[39m-\u001b[39m\u001b[39m3\u001b[39m]])\n\u001b[0;32m      <a href='vscode-notebook-cell:/c%3A/Users/joelv/Desktop/projects%202/math/system%20of%20linear%20equations.ipynb#X15sZmlsZQ%3D%3D?line=3'>4</a>\u001b[0m \u001b[39mprint\u001b[39m(np\u001b[39m.\u001b[39mlinalg\u001b[39m.\u001b[39msolve(A,B))\n",
      "\u001b[1;31mNameError\u001b[0m: name 'np' is not defined"
     ]
    }
   ],
   "source": [
    "A = np.matrix([[1, -1, 1, -1], [1, -1, 1, 1], [4, -4, 4, 0], [-2, 2, -2, 1]])\n",
    "B = np.matrix([[2], [0], [4], [-3]])\n",
    "\n",
    "print(np.linalg.solve(A, B))\n"
   ]
  },
  {
   "cell_type": "markdown",
   "metadata": {},
   "source": [
    "this is because determinant of A is 0\n"
   ]
  },
  {
   "cell_type": "markdown",
   "metadata": {},
   "source": [
    "linalg.solve() only works oif the matrix is a square matrix\n"
   ]
  },
  {
   "cell_type": "code",
   "execution_count": 12,
   "metadata": {},
   "outputs": [
    {
     "ename": "LinAlgError",
     "evalue": "Last 2 dimensions of the array must be square",
     "output_type": "error",
     "traceback": [
      "\u001b[1;31m---------------------------------------------------------------------------\u001b[0m",
      "\u001b[1;31mLinAlgError\u001b[0m                               Traceback (most recent call last)",
      "\u001b[1;32mc:\\Users\\joelv\\Desktop\\projects 2\\math\\8-06-22.ipynb Cell 86\u001b[0m in \u001b[0;36m<cell line: 4>\u001b[1;34m()\u001b[0m\n\u001b[0;32m      <a href='vscode-notebook-cell:/c%3A/Users/joelv/Desktop/projects%202/math/8-06-22.ipynb#Y153sZmlsZQ%3D%3D?line=0'>1</a>\u001b[0m A \u001b[39m=\u001b[39m np\u001b[39m.\u001b[39mmatrix([[\u001b[39m1\u001b[39m,\u001b[39m-\u001b[39m\u001b[39m1\u001b[39m,\u001b[39m1\u001b[39m,\u001b[39m-\u001b[39m\u001b[39m1\u001b[39m],[\u001b[39m1\u001b[39m,\u001b[39m-\u001b[39m\u001b[39m1\u001b[39m,\u001b[39m1\u001b[39m,\u001b[39m1\u001b[39m],[\u001b[39m4\u001b[39m,\u001b[39m-\u001b[39m\u001b[39m4\u001b[39m,\u001b[39m4\u001b[39m,\u001b[39m0\u001b[39m]])\n\u001b[0;32m      <a href='vscode-notebook-cell:/c%3A/Users/joelv/Desktop/projects%202/math/8-06-22.ipynb#Y153sZmlsZQ%3D%3D?line=1'>2</a>\u001b[0m B \u001b[39m=\u001b[39m np\u001b[39m.\u001b[39mmatrix([[\u001b[39m2\u001b[39m],[\u001b[39m0\u001b[39m],[\u001b[39m4\u001b[39m]])\n\u001b[1;32m----> <a href='vscode-notebook-cell:/c%3A/Users/joelv/Desktop/projects%202/math/8-06-22.ipynb#Y153sZmlsZQ%3D%3D?line=3'>4</a>\u001b[0m \u001b[39mprint\u001b[39m(np\u001b[39m.\u001b[39;49mlinalg\u001b[39m.\u001b[39;49msolve(A,B))\n",
      "File \u001b[1;32m<__array_function__ internals>:180\u001b[0m, in \u001b[0;36msolve\u001b[1;34m(*args, **kwargs)\u001b[0m\n",
      "File \u001b[1;32mc:\\Users\\joelv\\AppData\\Local\\Programs\\Python\\Python310\\lib\\site-packages\\numpy\\linalg\\linalg.py:387\u001b[0m, in \u001b[0;36msolve\u001b[1;34m(a, b)\u001b[0m\n\u001b[0;32m    385\u001b[0m a, _ \u001b[39m=\u001b[39m _makearray(a)\n\u001b[0;32m    386\u001b[0m _assert_stacked_2d(a)\n\u001b[1;32m--> 387\u001b[0m _assert_stacked_square(a)\n\u001b[0;32m    388\u001b[0m b, wrap \u001b[39m=\u001b[39m _makearray(b)\n\u001b[0;32m    389\u001b[0m t, result_t \u001b[39m=\u001b[39m _commonType(a, b)\n",
      "File \u001b[1;32mc:\\Users\\joelv\\AppData\\Local\\Programs\\Python\\Python310\\lib\\site-packages\\numpy\\linalg\\linalg.py:204\u001b[0m, in \u001b[0;36m_assert_stacked_square\u001b[1;34m(*arrays)\u001b[0m\n\u001b[0;32m    202\u001b[0m m, n \u001b[39m=\u001b[39m a\u001b[39m.\u001b[39mshape[\u001b[39m-\u001b[39m\u001b[39m2\u001b[39m:]\n\u001b[0;32m    203\u001b[0m \u001b[39mif\u001b[39;00m m \u001b[39m!=\u001b[39m n:\n\u001b[1;32m--> 204\u001b[0m     \u001b[39mraise\u001b[39;00m LinAlgError(\u001b[39m'\u001b[39m\u001b[39mLast 2 dimensions of the array must be square\u001b[39m\u001b[39m'\u001b[39m)\n",
      "\u001b[1;31mLinAlgError\u001b[0m: Last 2 dimensions of the array must be square"
     ]
    }
   ],
   "source": [
    "A = np.matrix([[1, -1, 1, -1], [1, -1, 1, 1], [4, -4, 4, 0]])\n",
    "B = np.matrix([[2], [0], [4]])\n",
    "\n",
    "print(np.linalg.solve(A, B))\n"
   ]
  },
  {
   "cell_type": "code",
   "execution_count": null,
   "metadata": {},
   "outputs": [],
   "source": []
  },
  {
   "cell_type": "markdown",
   "metadata": {},
   "source": [
    "## Exercise problems\n"
   ]
  },
  {
   "cell_type": "markdown",
   "metadata": {},
   "source": [
    "### questions\n"
   ]
  },
  {
   "cell_type": "markdown",
   "metadata": {},
   "source": [
    "1.  write a program to solve any system of linear equations(user input), check whether the coefficient matrix is singular or not. If singular , print no solution. If non singular then print the inverse exst and solve the system of equation\n"
   ]
  },
  {
   "cell_type": "code",
   "execution_count": 1,
   "metadata": {},
   "outputs": [
    {
     "name": "stdout",
     "output_type": "stream",
     "text": [
      "Enter coeefficirnts of  first equation : 1 2 -1\n",
      "Enter coeefficirnts of  second equation : 2 1 4\n",
      "Enter coeefficirnts of  third equation : 3 3 4\n",
      "Enter the three constants in order: -1 2 1\n",
      "[ 1.66666667e+00 -1.33333333e+00 -2.22044605e-16]\n",
      "uding inverse method =  [ 1.66666667 -1.33333333  0.        ]\n"
     ]
    }
   ],
   "source": [
    "import numpy as np\n",
    "l = [int(x)\n",
    "     for x in input(\"Enter coeefficirnts of  first equation : \").split()]\n",
    "m = [int(x)\n",
    "     for x in input(\"Enter coeefficirnts of  second equation : \").split()]\n",
    "n = [int(x)\n",
    "     for x in input(\"Enter coeefficirnts of  third equation : \").split()]\n",
    "\n",
    "p = [int(x) for x in input(\"Enter the three constants in order: \").split()]\n",
    "\n",
    "\n",
    "A = np.array([l, m, n])\n",
    "B = np.array(p)\n",
    "if (A.shape[0] == A.shape[1]):\n",
    "    de = np.linalg.det(A)\n",
    "    if de == 0:\n",
    "        print(\"determinant :\\n\", de)\n",
    "        print(\"therefore no solution\")\n",
    "    else:\n",
    "        print(np.linalg.solve(A, B))\n",
    "\n",
    "        # using inverse method X = A^-1 * B\n",
    "\n",
    "        x = np.linalg.inv(A).dot(B)\n",
    "        print(\"uding inverse method = \", x)\n",
    "else:\n",
    "    print(\"no solution- not square matrix\")\n"
   ]
  },
  {
   "cell_type": "markdown",
   "metadata": {},
   "source": [
    "2. solve the following system of linear equations\n",
    "   - $x_1 + 2x_2 - x_3 = -1$\n",
    "   - $2x_1 + x_2 + 4x_3 = 2$\n",
    "   - $3x_1 + 3x_2 + 4x_3 = 1$\n"
   ]
  },
  {
   "cell_type": "code",
   "execution_count": 23,
   "metadata": {},
   "outputs": [
    {
     "name": "stdout",
     "output_type": "stream",
     "text": [
      "[ 1.66666667e+00 -1.33333333e+00 -2.22044605e-16]\n"
     ]
    }
   ],
   "source": [
    "import numpy as np\n",
    "A = np.array([[1, 2, -1], [2, 1, 4], [3, 3, 4]])\n",
    "B = np.array([-1, 2, 1])\n",
    "de = np.linalg.det(A)\n",
    "if de == 0:\n",
    "\n",
    "    print(\"determinant :\\n\", de)\n",
    "    print(\"therefore no solution\")\n",
    "else:\n",
    "    print(np.linalg.solve(A, B))\n"
   ]
  },
  {
   "cell_type": "code",
   "execution_count": 22,
   "metadata": {},
   "outputs": [
    {
     "data": {
      "text/plain": [
       "array([ 1.66666667, -1.33333333,  0.        ])"
      ]
     },
     "execution_count": 22,
     "metadata": {},
     "output_type": "execute_result"
    }
   ],
   "source": [
    "# using inverse method X = A^-1 * B\n",
    "\n",
    "x = np.linalg.inv(A).dot(B)\n",
    "x\n"
   ]
  },
  {
   "cell_type": "markdown",
   "metadata": {},
   "source": [
    "3. solve\n",
    "   - $x_1 - x_2 + x_3 - x_4 = 2$\n",
    "   - $x_1 - x_2 + x_3 + x_4 = 0$\n",
    "   - $4x_1 - 4x_2 + 4x_3 = 4$\n",
    "   - $-2x_1 + 2x_2 - 2x_3 + x_4 = -3$\n"
   ]
  },
  {
   "cell_type": "code",
   "execution_count": 5,
   "metadata": {},
   "outputs": [
    {
     "name": "stdout",
     "output_type": "stream",
     "text": [
      "determinant :\n",
      " 0.0\n",
      "therefore no solution\n"
     ]
    }
   ],
   "source": [
    "A = np.matrix([[1, -1, 1, -1], [1, -1, 1, 1], [4, -4, 4, 0], [-2, 2, -2, 1]])\n",
    "B = np.matrix([[2], [0], [4], [-3]])\n",
    "de = np.linalg.det(A)\n",
    "\n",
    "if de == 0:\n",
    "\n",
    "    print(\"determinant :\\n\", de)\n",
    "    print(\"therefore no solution\")\n",
    "else:\n",
    "    print(np.linalg.solve(A, B))\n"
   ]
  },
  {
   "cell_type": "markdown",
   "metadata": {},
   "source": [
    "4. solve\n",
    "   - $x_1 - 2x_2 - x_3 = 1$\n",
    "   - $2x_1 + x_2 - 5x_3 = 2$\n",
    "   - $3x_1 + 3x_2 + 4x_3 = 1$\n"
   ]
  },
  {
   "cell_type": "code",
   "execution_count": 2,
   "metadata": {},
   "outputs": [
    {
     "name": "stdout",
     "output_type": "stream",
     "text": [
      "[ 0.64516129 -0.09677419 -0.16129032]\n",
      "uding inverse method =  [ 0.64516129 -0.09677419 -0.16129032]\n"
     ]
    }
   ],
   "source": [
    "import numpy as np\n",
    "A = np.array([[1, -2, -1], [2, 1, -5], [3, 3, 4]])\n",
    "B = np.array([1, 2, 1])\n",
    "de = np.linalg.det(A)\n",
    "if de == 0:\n",
    "\n",
    "    print(\"determinant :\\n\", de)\n",
    "    print(\"therefore no solution\")\n",
    "else:\n",
    "    print(np.linalg.solve(A, B))\n",
    "\n",
    "\n",
    "x = np.linalg.inv(A).dot(B)\n",
    "print(\"uding inverse method = \", x)\n"
   ]
  },
  {
   "cell_type": "markdown",
   "metadata": {},
   "source": [
    "5. solve\n",
    "   - $x_1 + 2x_2 + x_3 = 4$\n",
    "   - $4x_1 + 5x_2 + 6x_3 = 7$\n",
    "   - $7x_1 + 8x_2 + 9x_3 = 10$\n"
   ]
  },
  {
   "cell_type": "code",
   "execution_count": 28,
   "metadata": {},
   "outputs": [
    {
     "name": "stdout",
     "output_type": "stream",
     "text": [
      "[-2.00000000e+00  3.00000000e+00 -1.74463618e-16]\n",
      "uding inverse method =  [-2.00000000e+00  3.00000000e+00 -3.88578059e-16]\n"
     ]
    }
   ],
   "source": [
    "import numpy as np\n",
    "A = np.array([[1, 2, -1], [4, 5, 6], [7, 8, 9]])\n",
    "B = np.array([4, 7, 10])\n",
    "de = np.linalg.det(A)\n",
    "if de == 0:\n",
    "\n",
    "    print(\"determinant :\\n\", de)\n",
    "    print(\"therefore no solution\")\n",
    "else:\n",
    "    print(np.linalg.solve(A, B))\n",
    "\n",
    "# using inverse method X = A^-1 * B\n",
    "\n",
    "x = np.linalg.inv(A).dot(B)\n",
    "print(\"uding inverse method = \", x)\n"
   ]
  },
  {
   "cell_type": "markdown",
   "metadata": {},
   "source": [
    "5. solve\n",
    "   - $x_1 + 3x_2 - 5x_3 = 1$\n",
    "   - $4x_1 + 2x_2 + x_3 = 2$\n"
   ]
  },
  {
   "cell_type": "code",
   "execution_count": 38,
   "metadata": {},
   "outputs": [
    {
     "name": "stdout",
     "output_type": "stream",
     "text": [
      "no solution- not square matrix\n"
     ]
    }
   ],
   "source": [
    "import numpy as np\n",
    "A = np.array([[1, 3, -5], [4, 2, 1]])\n",
    "B = np.array([1, 2])\n",
    "if (A.shape[0] == A.shape[1]):\n",
    "    de = np.linalg.det(A)\n",
    "    if de == 0:\n",
    "        print(\"determinant :\\n\", de)\n",
    "        print(\"therefore no solution\")\n",
    "    else:\n",
    "        print(np.linalg.solve(A, B))\n",
    "\n",
    "        # using inverse method X = A^-1 * B\n",
    "\n",
    "        x = np.linalg.inv(A).dot(B)\n",
    "        print(\"uding inverse method = \", x)\n",
    "else:\n",
    "    print(\"no solution- not square matrix\")\n"
   ]
  },
  {
   "cell_type": "markdown",
   "metadata": {},
   "source": [
    "6. suppose a fruit seller sold 20 mangoes + 10 oranges in one day for 350 dollars. next day 17 mangoes + 22 oranges for 500 dollars. find the prices of one mango and one orange\n"
   ]
  },
  {
   "cell_type": "code",
   "execution_count": 29,
   "metadata": {},
   "outputs": [
    {
     "name": "stdout",
     "output_type": "stream",
     "text": [
      "[10. 15.]\n",
      "uding inverse method =  [10. 15.]\n"
     ]
    }
   ],
   "source": [
    "import numpy as np\n",
    "A = np.array([[20, 10], [17, 22]])\n",
    "B = np.array([350, 500])\n",
    "de = np.linalg.det(A)\n",
    "if de == 0:\n",
    "\n",
    "    print(\"determinant :\\n\", de)\n",
    "    print(\"therefore no solution\")\n",
    "else:\n",
    "    print(np.linalg.solve(A, B))\n",
    "\n",
    "# using inverse method X = A^-1 * B\n",
    "\n",
    "x = np.linalg.inv(A).dot(B)\n",
    "print(\"uding inverse method = \", x)\n"
   ]
  }
 ],
 "metadata": {
  "kernelspec": {
   "display_name": "Python 3 (ipykernel)",
   "language": "python",
   "name": "python3"
  },
  "language_info": {
   "codemirror_mode": {
    "name": "ipython",
    "version": 3
   },
   "file_extension": ".py",
   "mimetype": "text/x-python",
   "name": "python",
   "nbconvert_exporter": "python",
   "pygments_lexer": "ipython3",
   "version": "3.10.5"
  },
  "vscode": {
   "interpreter": {
    "hash": "546f13b69da2962342bc38bd9c14a62503869531149da76b165cebcf3f8efe14"
   }
  }
 },
 "nbformat": 4,
 "nbformat_minor": 2
}
