{
 "cells": [
  {
   "cell_type": "markdown",
   "metadata": {},
   "source": [
    "evaluate the following using .format operator x^(y-1) + y^(x-1)/(xy)^1/2 + log(root(x+y-1))"
   ]
  },
  {
   "cell_type": "code",
   "execution_count": 1,
   "metadata": {},
   "outputs": [
    {
     "name": "stdout",
     "output_type": "stream",
     "text": [
      "enter  x : 23\n",
      "enter x : 3\n",
      "9.1e+08\n"
     ]
    }
   ],
   "source": [
    "import math as m\n",
    "\n",
    "x = int(input(\"enter  x : \"))\n",
    "y = int(input(\"enter  y : \"))\n",
    "\n",
    "\n",
    "a = x**(y-1) + (y**(x-1))/((x*y)**1/2) + m.log(m.sqrt(x+y-1))\n",
    "\n",
    "print(\"{0:0.2}\".format(a))"
   ]
  },
  {
   "cell_type": "code",
   "execution_count": 2,
   "metadata": {},
   "outputs": [
    {
     "name": "stdout",
     "output_type": "stream",
     "text": [
      "my\n",
      "name\n",
      "is\n",
      "joel\n",
      "varghese\n",
      "im\n",
      "in\n",
      "python\n"
     ]
    }
   ],
   "source": [
    "s = \"hello my name is joel varghese and im in class doing python\"\n",
    "\n",
    "p = s.split(\" \")\n",
    "\n",
    "for i in p:\n",
    "    if len(i)%2 == 0:\n",
    "        print(i)"
   ]
  },
  {
   "cell_type": "code",
   "execution_count": 4,
   "metadata": {},
   "outputs": [
    {
     "name": "stdout",
     "output_type": "stream",
     "text": [
      "1. Square\n",
      "2. Triangle\n",
      "3. Rectangle\n",
      "4. Circle4\n",
      "Enter the radius: 45\n",
      "The area is 6361.725123519331 unit squares.\n"
     ]
    }
   ],
   "source": [
    "import math\n",
    "\n",
    "\n",
    "def a_sq():\n",
    "    s = eval(input(\"Enter the side: \"))\n",
    "    return s**2\n",
    "\n",
    "def a_tri():\n",
    "    b = eval(input(\"Enter the base: \"))\n",
    "    h = eval(input(\"Enter the height: \"))\n",
    "    return 0.5 * b * h\n",
    "\n",
    "def a_rec():\n",
    "    b = eval(input(\"Enter the length: \"))\n",
    "    h = eval(input(\"Enter the breadth: \"))\n",
    "    return b * h\n",
    "\n",
    "def a_circle():\n",
    "    r = eval(input(\"Enter the radius: \"))\n",
    "    return math.pi*(r**2)\n",
    "\n",
    "l = (a_sq, a_tri, a_rec, a_circle)\n",
    "print(\"The area is\", l[int(input(\"1. Square\\n2. Triangle\\n3. Rectangle\\n4. Circle\")) - 1](), \"unit squares.\")\n",
    "\n"
   ]
  },
  {
   "cell_type": "code",
   "execution_count": 13,
   "metadata": {},
   "outputs": [
    {
     "name": "stdout",
     "output_type": "stream",
     "text": [
      "20\n"
     ]
    }
   ],
   "source": [
    "ppp = \"geography is not my favourate subject because i love physics\"\n",
    "\n",
    "c = 0\n",
    "v = (\"a\",\"e\",\"i\",\"o\",\"u\")\n",
    "\n",
    "for i in ppp:\n",
    "    if i.lower() in v:\n",
    "        c+=1\n",
    "\n",
    "print(c)"
   ]
  },
  {
   "cell_type": "code",
   "execution_count": null,
   "metadata": {},
   "outputs": [],
   "source": []
  },
  {
   "cell_type": "code",
   "execution_count": 1,
   "metadata": {},
   "outputs": [
    {
     "name": "stdout",
     "output_type": "stream",
     "text": [
      "1 1 1 1 1 2 2 2 2 3 3 3 4 4 5 "
     ]
    }
   ],
   "source": [
    "for i in range (1,6): print((str(i)+\" \")*(6-i),end='')"
   ]
  },
  {
   "cell_type": "code",
   "execution_count": 12,
   "metadata": {},
   "outputs": [
    {
     "ename": "TypeError",
     "evalue": "unsupported operand type(s) for +: 'int' and 'str'",
     "output_type": "error",
     "traceback": [
      "\u001b[1;31m---------------------------------------------------------------------------\u001b[0m",
      "\u001b[1;31mTypeError\u001b[0m                                 Traceback (most recent call last)",
      "\u001b[1;32mc:\\Users\\joelv\\Desktop\\projects 2\\math\\30-7-22.ipynb Cell 7\u001b[0m in \u001b[0;36m<cell line: 1>\u001b[1;34m()\u001b[0m\n\u001b[1;32m----> <a href='vscode-notebook-cell:/c%3A/Users/joelv/Desktop/projects%202/math/30-7-22.ipynb#ch0000008?line=0'>1</a>\u001b[0m \u001b[39msum\u001b[39;49m((\u001b[39m\"\u001b[39;49m\u001b[39m2\u001b[39;49m\u001b[39m\"\u001b[39;49m\u001b[39m*\u001b[39;49m(i\u001b[39m+\u001b[39;49m\u001b[39m1\u001b[39;49m) \u001b[39mfor\u001b[39;49;00m i \u001b[39min\u001b[39;49;00m \u001b[39mrange\u001b[39;49m(\u001b[39mint\u001b[39;49m(\u001b[39minput\u001b[39;49m(\u001b[39m\"\u001b[39;49m\u001b[39menter the number of terms : \u001b[39;49m\u001b[39m\"\u001b[39;49m)))))\n",
      "\u001b[1;31mTypeError\u001b[0m: unsupported operand type(s) for +: 'int' and 'str'"
     ]
    }
   ],
   "source": []
  },
  {
   "cell_type": "code",
   "execution_count": 4,
   "metadata": {},
   "outputs": [
    {
     "data": {
      "text/plain": [
       "2493824"
      ]
     },
     "execution_count": 4,
     "metadata": {},
     "output_type": "execute_result"
    }
   ],
   "source": [
    "h"
   ]
  },
  {
   "cell_type": "code",
   "execution_count": 24,
   "metadata": {},
   "outputs": [
    {
     "name": "stdout",
     "output_type": "stream",
     "text": [
      "basic salary :  15000\n",
      "Gross salary :  25500.0\n"
     ]
    }
   ],
   "source": [
    "b = int(input(\"enter the salary : \"))\n",
    "\n",
    "if b <= 10000:\n",
    "    s = b + b*0.2 + b*0.4 - b*0.05\n",
    "elif b <= 20000:\n",
    "    s = b + b*0.25 + b*0.5 - b*0.05\n",
    "else:\n",
    "    s = b + b*0.3 + b*0.55 - b*0.06\n",
    "print(\"basic salary : \", b)\n",
    "print(\"Gross salary : \", s)"
   ]
  }
 ],
 "metadata": {
  "kernelspec": {
   "display_name": "Python 3 (ipykernel)",
   "language": "python",
   "name": "python3"
  },
  "language_info": {
   "codemirror_mode": {
    "name": "ipython",
    "version": 3
   },
   "file_extension": ".py",
   "mimetype": "text/x-python",
   "name": "python",
   "nbconvert_exporter": "python",
   "pygments_lexer": "ipython3",
   "version": "3.10.5"
  },
  "vscode": {
   "interpreter": {
    "hash": "546f13b69da2962342bc38bd9c14a62503869531149da76b165cebcf3f8efe14"
   }
  }
 },
 "nbformat": 4,
 "nbformat_minor": 2
}
