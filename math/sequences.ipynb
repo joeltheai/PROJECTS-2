{
 "cells": [
  {
   "cell_type": "markdown",
   "metadata": {},
   "source": [
    "### Joel varghese\n",
    "### 2140232\n",
    "### sequence exercises"
   ]
  },
  {
   "cell_type": "code",
   "execution_count": 1,
   "metadata": {},
   "outputs": [
    {
     "name": "stdout",
     "output_type": "stream",
     "text": [
      "[1, 2, 3, 4, 0, 0, 0, -1, 4]\n",
      "no of odd :  3\n",
      "no of even :  6\n",
      "no of positive :  5\n",
      "no of negative :  1\n",
      "no of zeroes :  3\n"
     ]
    }
   ],
   "source": [
    "d = eval(input(\"Enter a list of integers : \"))\n",
    "print(d)\n",
    "\n",
    "p = []\n",
    "n = []\n",
    "o = []\n",
    "e = []\n",
    "z = []\n",
    "\n",
    "for i in d:\n",
    "    if i ==0:\n",
    "        z.append(i)\n",
    "    if i%2 == 0:\n",
    "        e.append(i)\n",
    "    if i %2 != 0:\n",
    "        o.append(i)\n",
    "    if i>0:\n",
    "        p.append(i)\n",
    "    if i<0:\n",
    "        n.append(i)\n",
    "        \n",
    "\n",
    "print(\"no of odd : \", len(o))\n",
    "\n",
    "print(\"no of even : \", len(e))\n",
    "print(\"no of positive : \", len(p))\n",
    "print(\"no of negative : \", len(n))\n",
    "print(\"no of zeroes : \", len(o))\n",
    "\n"
   ]
  },
  {
   "cell_type": "code",
   "execution_count": 3,
   "metadata": {},
   "outputs": [
    {
     "name": "stdout",
     "output_type": "stream",
     "text": [
      "[1, 2, 3, 4]\n",
      "the list is not the same as its reverse\n"
     ]
    }
   ],
   "source": [
    "d = eval(input(\"Enter a list of integers : \"))\n",
    "print(d)\n",
    "\n",
    "if d == d[::-1]:\n",
    "    print(\"The list is same as its reverse\")\n",
    "else:\n",
    "    print(\"the list is not the same as its reverse\")\n"
   ]
  },
  {
   "cell_type": "code",
   "execution_count": 7,
   "metadata": {},
   "outputs": [
    {
     "name": "stdout",
     "output_type": "stream",
     "text": [
      "shifa is so frustrated with python classes right now\n",
      "\n",
      "is\n",
      "so\n",
      "frustrated\n",
      "with\n",
      "python\n"
     ]
    }
   ],
   "source": [
    "s = input(\"Enter a string: \")\n",
    "print(s)\n",
    "n = int(input(\"Enter a value for n : \"))\n",
    "\n",
    "l = s.split()\n",
    "print()\n",
    "for i in l:\n",
    "    if len(i)%n == 0:\n",
    "        print(i)"
   ]
  },
  {
   "cell_type": "code",
   "execution_count": 9,
   "metadata": {},
   "outputs": [
    {
     "name": "stdout",
     "output_type": "stream",
     "text": [
      "[1, 2, 5, 33]\n",
      "[1, 2, 77, 9, 4]\n",
      "[1, 2]\n"
     ]
    }
   ],
   "source": [
    "d = eval(input(\"Enter a list 1 : \"))\n",
    "print(d)\n",
    "\n",
    "\n",
    "\n",
    "j = eval(input(\"Enter a list 2 : \"))\n",
    "print(j)\n",
    "\n",
    "g = []\n",
    "\n",
    "for i in d:\n",
    "    if i in j:\n",
    "        g.append(i)\n",
    "        \n",
    "        \n",
    "print(g) "
   ]
  },
  {
   "cell_type": "code",
   "execution_count": 11,
   "metadata": {},
   "outputs": [
    {
     "name": "stdout",
     "output_type": "stream",
     "text": [
      "yes joel yes is yes good yes at yes python \n"
     ]
    }
   ],
   "source": [
    "s = input(\"Enter a string : \")\n",
    "\n",
    "k = s.split()\n",
    "\n",
    "d = input(\"Enter a word : \")\n",
    "\n",
    "l = \"\"\n",
    "p = []\n",
    "\n",
    "for i in k:\n",
    "    p.append(d)\n",
    "    p.append(i)\n",
    "    \n",
    "for i in p:\n",
    "    l += i + \" \"\n",
    "print(l)"
   ]
  }
 ],
 "metadata": {
  "kernelspec": {
   "display_name": "Python 3.10.5 64-bit",
   "language": "python",
   "name": "python3"
  },
  "language_info": {
   "codemirror_mode": {
    "name": "ipython",
    "version": 3
   },
   "file_extension": ".py",
   "mimetype": "text/x-python",
   "name": "python",
   "nbconvert_exporter": "python",
   "pygments_lexer": "ipython3",
   "version": "3.10.5"
  },
  "orig_nbformat": 4,
  "vscode": {
   "interpreter": {
    "hash": "546f13b69da2962342bc38bd9c14a62503869531149da76b165cebcf3f8efe14"
   }
  }
 },
 "nbformat": 4,
 "nbformat_minor": 2
}
