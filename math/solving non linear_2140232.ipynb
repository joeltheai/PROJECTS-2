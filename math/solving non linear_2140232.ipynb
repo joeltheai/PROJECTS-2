{
 "cells": [
{
   "cell_type": "markdown",
   "metadata": {},
   "source": [
    "# Solving non Linear equations \n",
    "\n",
    "The solution to  non linear equations is through matrix operations while for nonlinear they require solvers such as scipy optimize and fsolve to numerically find the solution\n",
    "Q1. **Solve the equation** $f(x) = x^{2}-5$\n",
    "\n",
    "\n",
    "\n",
    "Solving a non linear eq involves first putting it inthe  form of f(x)=0\n",
    "\n",
    "\n",
    "We know the function f and we want to find the valur of x that gives f(x)=0\n",
    "\n",
    "\n",
    "To solve this \n",
    "- define the function f(x)\n",
    "- set an initial guess for x.\n",
    "- we need to import a library:from scipy.optimize import fsolve\n",
    "- call the func fsolve: x=fsolve(f,x0)\n",
    "- f is the name of the function ur solving and x0 is ur initial guess\n",
    "\n",
    "\n"
   ]
  },
  {
   "cell_type": "markdown",
   "metadata": {},
   "source": [
    "## Funtion in single variables"
   ]
  },
  {
   "cell_type": "code",
   "execution_count": 14,
   "metadata": {},
   "outputs": [],
   "source": [
    "import numpy as np\n",
    "import matplotlib.pyplot as plt\n",
    "\n",
    "%matplotlib inline\n",
    "\n",
    "from scipy.optimize import fsolve"
   ]
  },
  {
   "cell_type": "code",
   "execution_count": 9,
   "metadata": {},
   "outputs": [
    {
     "name": "stdout",
     "output_type": "stream",
     "text": [
      "[2.23606798] [-1.77635684e-15]\n"
     ]
    }
   ],
   "source": [
    "from re import X\n",
    "\n",
    "\n",
    "def f(x):\n",
    "    return x**2 - 5\n",
    "\n",
    "x = fsolve(f,2)\n",
    "\n",
    "print(x,f(x))\n"
   ]
  },
  {
   "cell_type": "markdown",
   "metadata": {},
   "source": [
    "## function in muliple variables\n",
    "\n",
    "Q2. **solve the function** $x^{2} + y^{2} = 16"
   ]
  },
  {
   "cell_type": "code",
   "execution_count": 21,
   "metadata": {},
   "outputs": [
    {
     "name": "stdout",
     "output_type": "stream",
     "text": [
      "[1. 1.] [-14.   1.]\n"
     ]
    }
   ],
   "source": [
    "def myf(z):\n",
    "    x = z[0]\n",
    "    y = z[1]\n",
    "\n",
    "    F = np.empty((2))\n",
    "    F[0] = x**2 + y**2 - 16\n",
    "    return F\n",
    "\n",
    "zguess = np.array([1,1])\n",
    "\n",
    "z = fsolve(myf,zguess)\n",
    "\n",
    "print(z,myf(z))"
   ]
  },
  {
   "cell_type": "markdown",
   "metadata": {},
   "source": [
    "## Exercises\n",
    "### solve single equations with one variable\n",
    "\n",
    "1. $x^{2} + x + 1 = 3$\n",
    "2. $y + 2*Cos(y) = 0$ "
   ]
  },
  {
   "cell_type": "markdown",
   "metadata": {},
   "source": []
  },
  {
   "cell_type": "code",
   "execution_count": 4,
   "metadata": {},
   "outputs": [
    {
     "name": "stdout",
     "output_type": "stream",
     "text": [
      "[2.] [0.]\n"
     ]
    }
   ],
   "source": [
    "import numpy as np\n",
    "import matplotlib.pyplot as plt\n",
    "\n",
    "%matplotlib inline\n",
    "\n",
    "from scipy.optimize import fsolve\n",
    "from re import X\n",
    "\n",
    "\n",
    "def f(x):\n",
    "    return x**2 - x - 2\n",
    "\n",
    "x = fsolve(f,2)\n",
    "\n",
    "print(x,f(x))\n"
   ]
  },
  {
   "cell_type": "code",
   "execution_count": 25,
   "metadata": {},
   "outputs": [
    {
     "name": "stdout",
     "output_type": "stream",
     "text": [
      "[1.02986653] [0.]\n"
     ]
    }
   ],
   "source": [
    "import math\n",
    "import numpy as np\n",
    "import matplotlib.pyplot as plt\n",
    "\n",
    "%matplotlib inline\n",
    "\n",
    "from scipy.optimize import fsolve\n",
    "from re import X\n",
    "\n",
    "\n",
    "def f(y):\n",
    "    return y - 2*math.cos(y) \n",
    "\n",
    "y = fsolve(f,2)\n",
    "\n",
    "print(y,f(y))\n"
   ]
  },
  {
   "cell_type": "code",
   "execution_count": null,
   "metadata": {},
   "outputs": [],
   "source": []
  }
 ],
 "metadata": {
  "kernelspec": {
   "display_name": "Python 3 (ipykernel)",
   "language": "python",
   "name": "python3"
  },
  "language_info": {
   "codemirror_mode": {
    "name": "ipython",
    "version": 3
   },
   "file_extension": ".py",
   "mimetype": "text/x-python",
   "name": "python",
   "nbconvert_exporter": "python",
   "pygments_lexer": "ipython3",
   "version": "3.10.5"
  },
  "vscode": {
   "interpreter": {
    "hash": "546f13b69da2962342bc38bd9c14a62503869531149da76b165cebcf3f8efe14"
   }
  }
 },
 "nbformat": 4,
 "nbformat_minor": 2
}