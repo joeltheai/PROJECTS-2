{
 "cells": [
  {
   "cell_type": "markdown",
   "metadata": {},
   "source": [
    "# question - 5"
   ]
  },
  {
   "cell_type": "markdown",
   "metadata": {},
   "source": [
    "## sum demonstration"
   ]
  },
  {
   "cell_type": "code",
   "execution_count": 7,
   "metadata": {},
   "outputs": [
    {
     "name": "stdout",
     "output_type": "stream",
     "text": [
      "number of rows : 2\n",
      "number of columns : 2\n",
      "enter a row :1,2\n",
      "enter a row :2,3\n",
      "first matrix : \n",
      " [[1 2]\n",
      " [2 3]]\n",
      "number of rows : 2\n",
      "number of columns : 2\n",
      "enter a row :4,5\n",
      "enter a row :5,6\n",
      "second matrix : \n",
      " [[4 5]\n",
      " [5 6]]\n",
      "Enter a choice (1-sum,2-diff,3-product,4-det,5-transpose) : 1\n",
      "sum = \n",
      "\n",
      "[[5 7]\n",
      " [7 9]]\n"
     ]
    }
   ],
   "source": [
    "import numpy as np\n",
    "\n",
    "r = int(input(\"number of rows : \"))\n",
    "c = int(input(\"number of columns : \"))\n",
    "\n",
    "l = []\n",
    "\n",
    "for i in range(r):\n",
    "    l_ = eval(input(\"enter a row :\"))\n",
    "    l.append(l_)\n",
    "m1 = np.matrix(l)\n",
    "print(\"first matrix : \\n\",m1)\n",
    "\n",
    "r1 = int(input(\"number of rows : \"))\n",
    "c1= int(input(\"number of columns : \"))\n",
    "\n",
    "l1 = []\n",
    "\n",
    "for i in range(r):\n",
    "    l_1 = eval(input(\"enter a row :\"))\n",
    "    l1.append(l_1)\n",
    "m2 = np.matrix(l1)\n",
    "print(\"second matrix : \\n\",m2)\n",
    "\n",
    "co = int(input(\"Enter a choice (1-sum,2-diff,3-product,4-det,5-transpose) : \"))\n",
    "\n",
    "if co ==1:\n",
    "    if (r,c) == (r1,c1):\n",
    "        print(\"sum = \\n\")\n",
    "        print(m1+m2)\n",
    "    else:\n",
    "        print(\"sum not possible\")\n",
    "elif co ==2:\n",
    "    if (r,c) == (r1,c1):\n",
    "        print(\"difference = \\n\")\n",
    "        print(m1-m2)\n",
    "    else:\n",
    "        print(\"difference not possible\")\n",
    "elif co == 3:\n",
    "    if c == r1:\n",
    "        print(\"dot product = \\n\",m1.dot(m2))\n",
    "    else:\n",
    "        print(\"not possible\")\n",
    "\n",
    "elif co ==4:\n",
    "    print(\"the determinants are :\")\n",
    "    if r==c:\n",
    "        \n",
    "        print(np.linalg.det(m1))\n",
    "    if r1 == c1:    \n",
    "        print(np.linalg.det(m2))\n",
    "else:\n",
    "    print(\"the transpose are :\")\n",
    "    print(np.transpose(m1))\n",
    "    print(np.transpose(m2))\n",
    "    "
   ]
  },
  {
   "cell_type": "markdown",
   "metadata": {},
   "source": [
    "### transpose demonstration"
   ]
  },
  {
   "cell_type": "code",
   "execution_count": 9,
   "metadata": {},
   "outputs": [
    {
     "name": "stdout",
     "output_type": "stream",
     "text": [
      "number of rows : 2\n",
      "number of columns : 2\n",
      "enter a row :1,2\n",
      "enter a row :3,4\n",
      "first matrix : \n",
      " [[1 2]\n",
      " [3 4]]\n",
      "number of rows : 2\n",
      "number of columns : 2\n",
      "enter a row :4,5\n",
      "enter a row :5,6\n",
      "second matrix : \n",
      " [[4 5]\n",
      " [5 6]]\n",
      "Enter a choice (1-sum,2-diff,3-product,4-det,5-transpose) : 5\n",
      "the transpose are :\n",
      "[[1 3]\n",
      " [2 4]]\n",
      "[[4 5]\n",
      " [5 6]]\n"
     ]
    }
   ],
   "source": [
    "import numpy as np\n",
    "\n",
    "r = int(input(\"number of rows : \"))\n",
    "c = int(input(\"number of columns : \"))\n",
    "\n",
    "l = []\n",
    "\n",
    "for i in range(r):\n",
    "    l_ = eval(input(\"enter a row :\"))\n",
    "    l.append(l_)\n",
    "m1 = np.matrix(l)\n",
    "print(\"first matrix : \\n\",m1)\n",
    "\n",
    "r1 = int(input(\"number of rows : \"))\n",
    "c1= int(input(\"number of columns : \"))\n",
    "\n",
    "l1 = []\n",
    "\n",
    "for i in range(r):\n",
    "    l_1 = eval(input(\"enter a row :\"))\n",
    "    l1.append(l_1)\n",
    "m2 = np.matrix(l1)\n",
    "print(\"second matrix : \\n\",m2)\n",
    "\n",
    "co = int(input(\"Enter a choice (1-sum,2-diff,3-product,4-det,5-transpose) : \"))\n",
    "\n",
    "if co ==1:\n",
    "    if (r,c) == (r1,c1):\n",
    "        print(\"sum = \\n\")\n",
    "        print(m1+m2)\n",
    "    else:\n",
    "        print(\"sum not possible\")\n",
    "elif co ==2:\n",
    "    if (r,c) == (r1,c1):\n",
    "        print(\"difference = \\n\")\n",
    "        print(m1-m2)\n",
    "    else:\n",
    "        print(\"difference not possible\")\n",
    "elif co == 3:\n",
    "    if c == r1:\n",
    "        print(\"dot product = \\n\",m1.dot(m2))\n",
    "    else:\n",
    "        print(\"not possible\")\n",
    "\n",
    "elif co ==4:\n",
    "    print(\"the determinants are :\")\n",
    "    if r==c:\n",
    "        \n",
    "        print(np.linalg.det(m1))\n",
    "    if r1 == c1:    \n",
    "        print(np.linalg.det(m2))\n",
    "else:\n",
    "    print(\"the transpose are :\")\n",
    "    print(np.transpose(m1))\n",
    "    print(np.transpose(m2))\n",
    "    "
   ]
  },
  {
   "cell_type": "markdown",
   "metadata": {},
   "source": [
    "# question 6"
   ]
  },
  {
   "cell_type": "code",
   "execution_count": 14,
   "metadata": {},
   "outputs": [
    {
     "name": "stdout",
     "output_type": "stream",
     "text": [
      "intersection points in (x,y) form are : \n",
      "[(1, -2), (2, 1)]\n"
     ]
    }
   ],
   "source": [
    "from sympy import *\n",
    "\n",
    "x, y = symbols('x,y')\n",
    "eq1 = Eq(x**2+y**2,5)\n",
    "eq2 = Eq(y,x*3 -5)\n",
    "sol = solve([eq1,eq2],[x,y])\n",
    "print(\"intersection points in (x,y) form are : \")\n",
    "print(sol)"
   ]
  }
 ],
 "metadata": {
  "kernelspec": {
   "display_name": "Python 3.10.5 64-bit",
   "language": "python",
   "name": "python3"
  },
  "language_info": {
   "codemirror_mode": {
    "name": "ipython",
    "version": 3
   },
   "file_extension": ".py",
   "mimetype": "text/x-python",
   "name": "python",
   "nbconvert_exporter": "python",
   "pygments_lexer": "ipython3",
   "version": "3.10.5"
  },
  "vscode": {
   "interpreter": {
    "hash": "546f13b69da2962342bc38bd9c14a62503869531149da76b165cebcf3f8efe14"
   }
  }
 },
 "nbformat": 4,
 "nbformat_minor": 2
}
