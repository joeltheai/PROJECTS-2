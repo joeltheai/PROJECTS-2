{
 "cells": [
  {
   "cell_type": "markdown",
   "metadata": {},
   "source": [
    "# Rank of a Matrix"
   ]
  },
  {
   "cell_type": "code",
   "execution_count": 9,
   "metadata": {},
   "outputs": [
    {
     "name": "stdout",
     "output_type": "stream",
     "text": [
      "[[1. 0. 0. 0.]\n",
      " [0. 1. 0. 0.]\n",
      " [0. 0. 1. 0.]\n",
      " [0. 0. 0. 1.]]\n",
      "rank =  4\n"
     ]
    }
   ],
   "source": [
    "from numpy.linalg import matrix_rank\n",
    "\n",
    "i = np.eye(4)\n",
    "\n",
    "print(i)\n",
    "\n",
    "r = matrix_rank(i)\n",
    "\n",
    "print(\"rank = \",r)"
   ]
  },
  {
   "cell_type": "code",
   "execution_count": 18,
   "metadata": {},
   "outputs": [
    {
     "name": "stdout",
     "output_type": "stream",
     "text": [
      "[[1. 0. 0. 0.]\n",
      " [0. 1. 0. 0.]\n",
      " [0. 0. 1. 0.]\n",
      " [0. 0. 0. 0.]]\n",
      "rank =  3\n"
     ]
    }
   ],
   "source": [
    "i = np.eye(4)\n",
    "i[3,3] = 0\n",
    "\n",
    "print(i)\n",
    "r = matrix_rank(i)\n",
    "\n",
    "print(\"rank = \",r)\n"
   ]
  },
  {
   "cell_type": "code",
   "execution_count": 21,
   "metadata": {},
   "outputs": [
    {
     "name": "stdout",
     "output_type": "stream",
     "text": [
      "[[1. 1. 1. 1.]\n",
      " [1. 1. 1. 1.]\n",
      " [1. 1. 1. 1.]\n",
      " [1. 1. 1. 1.]]\n",
      "rank =  1\n"
     ]
    }
   ],
   "source": [
    "from numpy.linalg import matrix_rank\n",
    "\n",
    "i = np.ones((4,4))\n",
    "\n",
    "print(i)\n",
    "r = matrix_rank(i)\n",
    "\n",
    "print(\"rank = \",r)"
   ]
  },
  {
   "cell_type": "code",
   "execution_count": 20,
   "metadata": {},
   "outputs": [
    {
     "name": "stdout",
     "output_type": "stream",
     "text": [
      "[[ 0 -1 -2]\n",
      " [ 8  9 10]\n",
      " [ 8  8  8]]\n",
      "rank =  2\n"
     ]
    }
   ],
   "source": [
    "p = np.matrix([[1,1,-1],[2,-3,4],[3,-2,3]])\n",
    "q = np.matrix([[-1,-2,-1],[6,12,6],[5,10,5]])\n",
    "\n",
    "print(p+q)\n",
    "r = matrix_rank(p+q)\n",
    "\n",
    "print(\"rank = \",r)\n"
   ]
  },
  {
   "cell_type": "code",
   "execution_count": 24,
   "metadata": {},
   "outputs": [
    {
     "name": "stdout",
     "output_type": "stream",
     "text": [
      "[[ 2 -1  3]\n",
      " [ 1  0  1]\n",
      " [ 1  1  4]]\n",
      "rank =  3\n",
      "\n",
      "[[ 2  1  1]\n",
      " [-1  0  1]\n",
      " [ 3  1  4]]\n",
      "rank =  3\n"
     ]
    }
   ],
   "source": [
    "b = np.matrix([[2,-1,3],[1,0,1],[1,1,4]])\n",
    "print(b)\n",
    "r = matrix_rank(b)\n",
    "\n",
    "print(\"rank = \",r)\n",
    "print()\n",
    "bt = np.transpose(b)\n",
    "\n",
    "print(bt)\n",
    "r = matrix_rank(bt)\n",
    "\n",
    "print(\"rank = \",r)\n"
   ]
  },
  {
   "cell_type": "code",
   "execution_count": 26,
   "metadata": {},
   "outputs": [
    {
     "name": "stdout",
     "output_type": "stream",
     "text": [
      "[[ 1  1 -1]\n",
      " [ 2 -3  4]\n",
      " [ 3 -2  3]]\n",
      "rank =  2\n",
      "eigen values :  [ 1.00000000e+00+0.00000000e+00j -2.24492778e-16+4.40332636e-08j\n",
      " -2.24492778e-16-4.40332636e-08j]\n"
     ]
    }
   ],
   "source": [
    "#show rank of p is no of non zero eigen values\n",
    "p = np.matrix([[1,1,-1],[2,-3,4],[3,-2,3]])\n",
    "\n",
    "print(p)\n",
    "r = matrix_rank(p)\n",
    "\n",
    "print(\"rank = \",r)\n",
    "\n",
    "\n",
    "eig = np.linalg.eigvals(p)\n",
    "\n",
    "print(\"eigen values : \",eig)\n",
    "\n"
   ]
  }
 ],
 "metadata": {
  "kernelspec": {
   "display_name": "Python 3 (ipykernel)",
   "language": "python",
   "name": "python3"
  },
  "language_info": {
   "codemirror_mode": {
    "name": "ipython",
    "version": 3
   },
   "file_extension": ".py",
   "mimetype": "text/x-python",
   "name": "python",
   "nbconvert_exporter": "python",
   "pygments_lexer": "ipython3",
   "version": "3.10.5"
  },
  "vscode": {
   "interpreter": {
    "hash": "546f13b69da2962342bc38bd9c14a62503869531149da76b165cebcf3f8efe14"
   }
  }
 },
 "nbformat": 4,
 "nbformat_minor": 2
}
