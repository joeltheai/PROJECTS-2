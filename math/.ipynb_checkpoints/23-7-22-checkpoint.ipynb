{
 "cells": [
  {
   "cell_type": "markdown",
   "metadata": {},
   "source": [
    "1. write a calculator program"
   ]
  },
  {
   "cell_type": "code",
   "execution_count": 1,
   "metadata": {},
   "outputs": [
    {
     "name": "stdout",
     "output_type": "stream",
     "text": [
      "Enter 2 numbers with an operator(+,-,/,*) in between : 56 /7\n",
      "8.0\n"
     ]
    }
   ],
   "source": [
    "i = eval(input(\"Enter 2 numbers with an operator(+,-,/,*) in between : \"))\n",
    "\n",
    "print(i)\n"
   ]
  },
  {
   "cell_type": "markdown",
   "metadata": {},
   "source": [
    "2. find roots of a quadratic equation"
   ]
  },
  {
   "cell_type": "code",
   "execution_count": 2,
   "metadata": {},
   "outputs": [
    {
     "name": "stdout",
     "output_type": "stream",
     "text": [
      "ax^2 + bx + c \n",
      "Enter a: 1\n",
      "Enter b: 5\n",
      "Enter c: 6\n",
      "the equation is : 1x^2 +  5x +  6\n",
      "The first root:  -2.0\n",
      "The second root:  -3.0\n"
     ]
    }
   ],
   "source": [
    "print(\"ax^2 + bx + c \")\n",
    "a = int(input(\"Enter a: \"))\n",
    "b = int(input(\"Enter b: \"))\n",
    "c = int(input(\"Enter c: \"))\n",
    "print(\"the equation is :\",str(a)+\"x^2 + \",str(b)+\"x + \",str(c) )\n",
    "\n",
    "d = b**2-4*a*c\n",
    "d1 = d**0.5\n",
    "if(d < 0):\n",
    "    print(\"The roots are imaginary. \")\n",
    "else:\n",
    "    r0 = (-b+d1)/2*a\n",
    "    r1 = (-b-d1)/2*a\n",
    "    print(\"The first root: \", round(r0, 2))\n",
    "    print(\"The second root: \", round(r1, 2))\n"
   ]
  },
  {
   "cell_type": "markdown",
   "metadata": {},
   "source": [
    "3. check if a given number is perfect or not"
   ]
  },
  {
   "cell_type": "code",
   "execution_count": 3,
   "metadata": {},
   "outputs": [
    {
     "name": "stdout",
     "output_type": "stream",
     "text": [
      "Enter a number : 4\n",
      "not a perfect number\n"
     ]
    }
   ],
   "source": [
    "d = int(input(\"Enter a number : \"))\n",
    "l = []\n",
    "for i in range(1,d):\n",
    "    if d%i == 0:\n",
    "        l.append(i)\n",
    "\n",
    "if sum(l) == d:\n",
    "    print(\"it is a perfect number\")\n",
    "else:\n",
    "    print(\"not a perfect number\")"
   ]
  },
  {
   "cell_type": "markdown",
   "metadata": {},
   "source": [
    "4. check if a number is perfect square"
   ]
  },
  {
   "cell_type": "code",
   "execution_count": 4,
   "metadata": {},
   "outputs": [
    {
     "name": "stdout",
     "output_type": "stream",
     "text": [
      "enter a number : 4\n",
      "it is a perfect square\n"
     ]
    }
   ],
   "source": [
    "import math as m\n",
    "f = float(input(\"enter a number : \"))\n",
    "k = m.sqrt(f)\n",
    "\n",
    "if k%1 == 0:\n",
    "    print(\"it is a perfect square\")\n",
    "else:\n",
    "    print(\"it is not a perfect square\")\n",
    "\n"
   ]
  },
  {
   "cell_type": "markdown",
   "metadata": {},
   "source": [
    "5. find pefect squares between 2 given numbers"
   ]
  },
  {
   "cell_type": "code",
   "execution_count": 5,
   "metadata": {},
   "outputs": [
    {
     "name": "stdout",
     "output_type": "stream",
     "text": [
      "enter the lower bound : 1\n",
      "enter the upper bounf : 100\n",
      "The perfect squares are :  [1, 4, 9, 16, 25, 36, 49, 64, 81, 100]\n"
     ]
    }
   ],
   "source": [
    "import math as m\n",
    "a = int(input(\"enter the lower bound : \"))\n",
    "b = int(input(\"enter the upper bounf : \"))\n",
    "\n",
    "\n",
    "p = []\n",
    "for i in range(a,b+1):\n",
    "    q = m.sqrt(i)\n",
    "    if q%1 == 0:\n",
    "        p.append(i)\n",
    "\n",
    "\n",
    "print(\"The perfect squares are : \", p)\n"
   ]
  }
 ],
 "metadata": {
  "kernelspec": {
   "display_name": "Python 3 (ipykernel)",
   "language": "python",
   "name": "python3"
  },
  "language_info": {
   "codemirror_mode": {
    "name": "ipython",
    "version": 3
   },
   "file_extension": ".py",
   "mimetype": "text/x-python",
   "name": "python",
   "nbconvert_exporter": "python",
   "pygments_lexer": "ipython3",
   "version": "3.10.5"
  },
  "vscode": {
   "interpreter": {
    "hash": "546f13b69da2962342bc38bd9c14a62503869531149da76b165cebcf3f8efe14"
   }
  }
 },
 "nbformat": 4,
 "nbformat_minor": 2
}
