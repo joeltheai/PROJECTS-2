{
 "cells": [
  {
   "cell_type": "markdown",
   "metadata": {},
   "source": [
    "# Matrices"
   ]
  },
  {
   "cell_type": "markdown",
   "metadata": {},
   "source": [
    "matrix is a 2 dimensional array where numbers, symbols or expressions are arranges into rows and columns. using the concept of lists, one can easily define a matrix in python.\n",
    "<br>\n",
    "\n",
    "we define 2 matrices A and B"
   ]
  },
  {
   "cell_type": "code",
   "execution_count": 1,
   "metadata": {},
   "outputs": [
    {
     "name": "stdout",
     "output_type": "stream",
     "text": [
      "[[1, 2, 3], [4, 5, 6], [7, 8, 9]]\n",
      "[[9, 8, 7], [6, 5, 4], [3, 2, 1]]\n"
     ]
    }
   ],
   "source": [
    "A = [[1,2,3],[4,5,6],[7,8,9]]\n",
    "B = [[9,8,7],[6,5,4],[3,2,1]]\n",
    "\n",
    "print(A)\n",
    "print(B)"
   ]
  },
  {
   "cell_type": "code",
   "execution_count": 4,
   "metadata": {},
   "outputs": [
    {
     "name": "stdout",
     "output_type": "stream",
     "text": [
      "[[1, 2, 3], [4, 5, 6], [7, 8, 9], [9, 8, 7], [6, 5, 4], [3, 2, 1]]\n",
      "[[9, 8, 7], [6, 5, 4], [3, 2, 1], [9, 8, 7], [6, 5, 4], [3, 2, 1]]\n"
     ]
    }
   ],
   "source": [
    "# from sympy import pprint\n",
    "\n",
    "print(A + B)\n",
    "print(2*B)"
   ]
  },
  {
   "cell_type": "code",
   "execution_count": 10,
   "metadata": {},
   "outputs": [
    {
     "ename": "TypeError",
     "evalue": "can't multiply sequence by non-int of type 'list'",
     "output_type": "error",
     "traceback": [
      "\u001b[1;31m---------------------------------------------------------------------------\u001b[0m",
      "\u001b[1;31mTypeError\u001b[0m                                 Traceback (most recent call last)",
      "\u001b[1;32mc:\\Users\\joelv\\Desktop\\projects 2\\math\\8-06-22.ipynb Cell 5\u001b[0m in \u001b[0;36m<cell line: 1>\u001b[1;34m()\u001b[0m\n\u001b[1;32m----> <a href='vscode-notebook-cell:/c%3A/Users/joelv/Desktop/projects%202/math/8-06-22.ipynb#X10sZmlsZQ%3D%3D?line=0'>1</a>\u001b[0m \u001b[39mprint\u001b[39m(A\u001b[39m*\u001b[39;49mB)\n",
      "\u001b[1;31mTypeError\u001b[0m: can't multiply sequence by non-int of type 'list'"
     ]
    }
   ],
   "source": [
    "A*B #multiplication of lists containing lists isnot possible"
   ]
  },
  {
   "cell_type": "code",
   "execution_count": 11,
   "metadata": {},
   "outputs": [
    {
     "ename": "TypeError",
     "evalue": "unsupported operand type(s) for ** or pow(): 'list' and 'int'",
     "output_type": "error",
     "traceback": [
      "\u001b[1;31m---------------------------------------------------------------------------\u001b[0m",
      "\u001b[1;31mTypeError\u001b[0m                                 Traceback (most recent call last)",
      "\u001b[1;32mc:\\Users\\joelv\\Desktop\\projects 2\\math\\8-06-22.ipynb Cell 6\u001b[0m in \u001b[0;36m<cell line: 1>\u001b[1;34m()\u001b[0m\n\u001b[1;32m----> <a href='vscode-notebook-cell:/c%3A/Users/joelv/Desktop/projects%202/math/8-06-22.ipynb#X11sZmlsZQ%3D%3D?line=0'>1</a>\u001b[0m A\u001b[39m*\u001b[39;49m\u001b[39m*\u001b[39;49m\u001b[39m2\u001b[39;49m\n",
      "\u001b[1;31mTypeError\u001b[0m: unsupported operand type(s) for ** or pow(): 'list' and 'int'"
     ]
    }
   ],
   "source": [
    "A**2 #** or pow() doesnot work for list of lists"
   ]
  },
  {
   "cell_type": "code",
   "execution_count": 12,
   "metadata": {},
   "outputs": [],
   "source": [
    "A[0].append(10)"
   ]
  },
  {
   "cell_type": "code",
   "execution_count": 13,
   "metadata": {},
   "outputs": [
    {
     "data": {
      "text/plain": [
       "[[1, 2, 3, 10], [4, 5, 6], [7, 8, 9]]"
      ]
     },
     "execution_count": 13,
     "metadata": {},
     "output_type": "execute_result"
    }
   ],
   "source": [
    "A"
   ]
  },
  {
   "cell_type": "markdown",
   "metadata": {},
   "source": [
    "the matrix A being defined as a list of lists, python supports adding of single element to rows or columns, which falsifies the very definition of a matrix"
   ]
  },
  {
   "cell_type": "markdown",
   "metadata": {},
   "source": [
    "thorugh all the above command we can see that even though it is possible to define a matrix as a list of lists, matrix manipulation is not straight forward as desired"
   ]
  },
  {
   "cell_type": "markdown",
   "metadata": {},
   "source": [
    "## Numpy package"
   ]
  },
  {
   "cell_type": "markdown",
   "metadata": {},
   "source": [
    "numpy is a library consisting of multidimensional array objects and package of functions for processing those arrays. Numpy stands for Numerical Python. The following operations can be performed in numpy\n",
    "\n",
    "- Mathematical and logical operations on arrays\n",
    "- fourier tranforms and routines for shape manipulation\n",
    "- operations related to linear algebra\n"
   ]
  },
  {
   "cell_type": "code",
   "execution_count": 2,
   "metadata": {},
   "outputs": [],
   "source": [
    "import numpy as np"
   ]
  },
  {
   "cell_type": "markdown",
   "metadata": {},
   "source": [
    "numpy provides matrix() and array() functions"
   ]
  },
  {
   "cell_type": "code",
   "execution_count": 15,
   "metadata": {},
   "outputs": [
    {
     "name": "stdout",
     "output_type": "stream",
     "text": [
      "[[1 2 3]\n",
      " [4 5 6]\n",
      " [7 8 9]]\n"
     ]
    }
   ],
   "source": [
    "A1 = np.array([[1,2,3],[4,5,6],[7,8,9]])\n",
    "\n",
    "print(A1)"
   ]
  },
  {
   "cell_type": "code",
   "execution_count": 16,
   "metadata": {},
   "outputs": [
    {
     "name": "stdout",
     "output_type": "stream",
     "text": [
      "[[1 2 3]\n",
      " [4 5 6]\n",
      " [7 8 9]]\n"
     ]
    }
   ],
   "source": [
    "M1 = np.matrix([[1,2,3],[4,5,6],[7,8,9]])\n",
    "\n",
    "print(M1)"
   ]
  },
  {
   "cell_type": "markdown",
   "metadata": {},
   "source": [
    "**the difference between array() and matrix() ?**\n",
    "\n",
    "- array() provides n-dimensional array while matrix() is strictly 2-d\n",
    "- the * and ** operator performs elementwise in array while in matrix they are used for multiplication and finding powers"
   ]
  },
  {
   "cell_type": "markdown",
   "metadata": {},
   "source": [
    "common errrors"
   ]
  },
  {
   "cell_type": "code",
   "execution_count": 17,
   "metadata": {},
   "outputs": [
    {
     "ename": "TypeError",
     "evalue": "Field elements must be 2- or 3-tuples, got '4'",
     "output_type": "error",
     "traceback": [
      "\u001b[1;31m---------------------------------------------------------------------------\u001b[0m",
      "\u001b[1;31mTypeError\u001b[0m                                 Traceback (most recent call last)",
      "\u001b[1;32mc:\\Users\\joelv\\Desktop\\projects 2\\math\\8-06-22.ipynb Cell 19\u001b[0m in \u001b[0;36m<cell line: 1>\u001b[1;34m()\u001b[0m\n\u001b[1;32m----> <a href='vscode-notebook-cell:/c%3A/Users/joelv/Desktop/projects%202/math/8-06-22.ipynb#X25sZmlsZQ%3D%3D?line=0'>1</a>\u001b[0m N \u001b[39m=\u001b[39m np\u001b[39m.\u001b[39;49mmatrix([\u001b[39m1\u001b[39;49m,\u001b[39m2\u001b[39;49m,\u001b[39m3\u001b[39;49m],[\u001b[39m4\u001b[39;49m,\u001b[39m5\u001b[39;49m,\u001b[39m6\u001b[39;49m],[\u001b[39m7\u001b[39;49m,\u001b[39m8\u001b[39;49m,\u001b[39m9\u001b[39;49m])\n",
      "File \u001b[1;32mc:\\Users\\joelv\\AppData\\Local\\Programs\\Python\\Python310\\lib\\site-packages\\numpy\\matrixlib\\defmatrix.py:145\u001b[0m, in \u001b[0;36mmatrix.__new__\u001b[1;34m(subtype, data, dtype, copy)\u001b[0m\n\u001b[0;32m    142\u001b[0m     data \u001b[39m=\u001b[39m _convert_from_string(data)\n\u001b[0;32m    144\u001b[0m \u001b[39m# now convert data to an array\u001b[39;00m\n\u001b[1;32m--> 145\u001b[0m arr \u001b[39m=\u001b[39m N\u001b[39m.\u001b[39;49marray(data, dtype\u001b[39m=\u001b[39;49mdtype, copy\u001b[39m=\u001b[39;49mcopy)\n\u001b[0;32m    146\u001b[0m ndim \u001b[39m=\u001b[39m arr\u001b[39m.\u001b[39mndim\n\u001b[0;32m    147\u001b[0m shape \u001b[39m=\u001b[39m arr\u001b[39m.\u001b[39mshape\n",
      "\u001b[1;31mTypeError\u001b[0m: Field elements must be 2- or 3-tuples, got '4'"
     ]
    }
   ],
   "source": [
    "N = np.matrix([1,2,3],[4,5,6],[7,8,9])"
   ]
  },
  {
   "cell_type": "markdown",
   "metadata": {},
   "source": [
    "## Matrix manipulation"
   ]
  },
  {
   "cell_type": "code",
   "execution_count": 20,
   "metadata": {},
   "outputs": [
    {
     "data": {
      "text/plain": [
       "(3, 3)"
      ]
     },
     "execution_count": 20,
     "metadata": {},
     "output_type": "execute_result"
    }
   ],
   "source": [
    "# shape function for order\n",
    "\n",
    "M1.shape"
   ]
  },
  {
   "cell_type": "code",
   "execution_count": 22,
   "metadata": {},
   "outputs": [
    {
     "name": "stdout",
     "output_type": "stream",
     "text": [
      "3\n",
      "3\n"
     ]
    }
   ],
   "source": [
    "print(M1.shape[0]) #no of rows\n",
    "print(M1.shape[1]) #no of columns"
   ]
  },
  {
   "cell_type": "code",
   "execution_count": 23,
   "metadata": {},
   "outputs": [
    {
     "data": {
      "text/plain": [
       "9"
      ]
     },
     "execution_count": 23,
     "metadata": {},
     "output_type": "execute_result"
    }
   ],
   "source": [
    "# size function for number of elements\n",
    "M1.size"
   ]
  },
  {
   "cell_type": "code",
   "execution_count": 24,
   "metadata": {},
   "outputs": [
    {
     "data": {
      "text/plain": [
       "array([[0., 0., 0., 0.],\n",
       "       [0., 0., 0., 0.],\n",
       "       [0., 0., 0., 0.],\n",
       "       [0., 0., 0., 0.]])"
      ]
     },
     "execution_count": 24,
     "metadata": {},
     "output_type": "execute_result"
    }
   ],
   "source": [
    "# function zeroes creates an array of zeroes\n",
    "np.zeros((4,4))"
   ]
  },
  {
   "cell_type": "code",
   "execution_count": 25,
   "metadata": {},
   "outputs": [
    {
     "data": {
      "text/plain": [
       "array([[1., 1., 1., 1.],\n",
       "       [1., 1., 1., 1.],\n",
       "       [1., 1., 1., 1.],\n",
       "       [1., 1., 1., 1.]])"
      ]
     },
     "execution_count": 25,
     "metadata": {},
     "output_type": "execute_result"
    }
   ],
   "source": [
    "np.ones((4,4))"
   ]
  },
  {
   "cell_type": "markdown",
   "metadata": {},
   "source": [
    "zeros provide an array of zeros and not a matrix\n",
    "\n",
    "the zeroes and ones function gives float value by default\n",
    "<br>\n",
    "np.zeros((4,4),int)\n"
   ]
  },
  {
   "cell_type": "code",
   "execution_count": 28,
   "metadata": {},
   "outputs": [
    {
     "data": {
      "text/plain": [
       "array([[0, 0, 0, 0],\n",
       "       [0, 0, 0, 0],\n",
       "       [0, 0, 0, 0],\n",
       "       [0, 0, 0, 0]])"
      ]
     },
     "execution_count": 28,
     "metadata": {},
     "output_type": "execute_result"
    }
   ],
   "source": [
    "np.zeros((4,4),int)"
   ]
  },
  {
   "cell_type": "code",
   "execution_count": 30,
   "metadata": {},
   "outputs": [
    {
     "data": {
      "text/plain": [
       "array([[1, 1, 1, 1],\n",
       "       [1, 1, 1, 1],\n",
       "       [1, 1, 1, 1],\n",
       "       [1, 1, 1, 1]])"
      ]
     },
     "execution_count": 30,
     "metadata": {},
     "output_type": "execute_result"
    }
   ],
   "source": [
    "np.ones((4,4),dtype = int)"
   ]
  },
  {
   "cell_type": "markdown",
   "metadata": {},
   "source": [
    "## Matrix operations"
   ]
  },
  {
   "cell_type": "code",
   "execution_count": 3,
   "metadata": {},
   "outputs": [],
   "source": [
    "d = np.matrix([[1,2,3],[4,5,6],[7,8,9]])\n",
    "\n",
    "e = np.matrix([[1,2,3],[4,5,6],[7,8,9]])\n",
    "\n",
    "f = np.matrix([[1,2,3],[4,5,6],[7,8,9]])"
   ]
  },
  {
   "cell_type": "code",
   "execution_count": 33,
   "metadata": {},
   "outputs": [
    {
     "data": {
      "text/plain": [
       "matrix([[ 2,  4,  6],\n",
       "        [ 8, 10, 12],\n",
       "        [14, 16, 18]])"
      ]
     },
     "execution_count": 33,
     "metadata": {},
     "output_type": "execute_result"
    }
   ],
   "source": [
    "d + e"
   ]
  },
  {
   "cell_type": "code",
   "execution_count": 35,
   "metadata": {},
   "outputs": [
    {
     "data": {
      "text/plain": [
       "matrix([[ 2,  4,  6],\n",
       "        [ 8, 10, 12],\n",
       "        [14, 16, 18]])"
      ]
     },
     "execution_count": 35,
     "metadata": {},
     "output_type": "execute_result"
    }
   ],
   "source": [
    "np.add(d,e)"
   ]
  },
  {
   "cell_type": "code",
   "execution_count": 36,
   "metadata": {},
   "outputs": [
    {
     "data": {
      "text/plain": [
       "matrix([[0, 0, 0],\n",
       "        [0, 0, 0],\n",
       "        [0, 0, 0]])"
      ]
     },
     "execution_count": 36,
     "metadata": {},
     "output_type": "execute_result"
    }
   ],
   "source": [
    "d - e"
   ]
  },
  {
   "cell_type": "code",
   "execution_count": 37,
   "metadata": {},
   "outputs": [
    {
     "data": {
      "text/plain": [
       "matrix([[ 1,  4,  9],\n",
       "        [16, 25, 36],\n",
       "        [49, 64, 81]])"
      ]
     },
     "execution_count": 37,
     "metadata": {},
     "output_type": "execute_result"
    }
   ],
   "source": [
    "np.multiply(d,e)"
   ]
  },
  {
   "cell_type": "code",
   "execution_count": 47,
   "metadata": {},
   "outputs": [
    {
     "data": {
      "text/plain": [
       "matrix([[ 30,  36,  42],\n",
       "        [ 66,  81,  96],\n",
       "        [102, 126, 150]])"
      ]
     },
     "execution_count": 47,
     "metadata": {},
     "output_type": "execute_result"
    }
   ],
   "source": [
    "d.dot(f) # matrix multiplication"
   ]
  },
  {
   "cell_type": "code",
   "execution_count": 48,
   "metadata": {},
   "outputs": [
    {
     "data": {
      "text/plain": [
       "matrix([[1., 1., 1.],\n",
       "        [1., 1., 1.],\n",
       "        [1., 1., 1.]])"
      ]
     },
     "execution_count": 48,
     "metadata": {},
     "output_type": "execute_result"
    }
   ],
   "source": [
    "e/d"
   ]
  },
  {
   "cell_type": "code",
   "execution_count": 49,
   "metadata": {},
   "outputs": [
    {
     "data": {
      "text/plain": [
       "matrix([[1., 1., 1.],\n",
       "        [1., 1., 1.],\n",
       "        [1., 1., 1.]])"
      ]
     },
     "execution_count": 49,
     "metadata": {},
     "output_type": "execute_result"
    }
   ],
   "source": [
    "np.divide(e,d)"
   ]
  },
  {
   "cell_type": "markdown",
   "metadata": {},
   "source": [
    "### Transpose of a matrix"
   ]
  },
  {
   "cell_type": "code",
   "execution_count": 4,
   "metadata": {},
   "outputs": [
    {
     "data": {
      "text/plain": [
       "matrix([[1, 4, 7],\n",
       "        [2, 5, 8],\n",
       "        [3, 6, 9]])"
      ]
     },
     "execution_count": 4,
     "metadata": {},
     "output_type": "execute_result"
    }
   ],
   "source": [
    "d.transpose()"
   ]
  },
  {
   "cell_type": "code",
   "execution_count": 5,
   "metadata": {},
   "outputs": [
    {
     "data": {
      "text/plain": [
       "matrix([[1, 4, 7],\n",
       "        [2, 5, 8],\n",
       "        [3, 6, 9]])"
      ]
     },
     "execution_count": 5,
     "metadata": {},
     "output_type": "execute_result"
    }
   ],
   "source": [
    "np.transpose(d)"
   ]
  },
  {
   "cell_type": "code",
   "execution_count": 6,
   "metadata": {},
   "outputs": [
    {
     "data": {
      "text/plain": [
       "matrix([[1, 4, 7],\n",
       "        [2, 5, 8],\n",
       "        [3, 6, 9]])"
      ]
     },
     "execution_count": 6,
     "metadata": {},
     "output_type": "execute_result"
    }
   ],
   "source": [
    "d.T"
   ]
  },
  {
   "cell_type": "markdown",
   "metadata": {},
   "source": [
    "### Upper and lower triangular matrix"
   ]
  },
  {
   "cell_type": "code",
   "execution_count": 7,
   "metadata": {},
   "outputs": [
    {
     "data": {
      "text/plain": [
       "array([[1, 2, 3],\n",
       "       [0, 5, 6],\n",
       "       [0, 0, 9]])"
      ]
     },
     "execution_count": 7,
     "metadata": {},
     "output_type": "execute_result"
    }
   ],
   "source": [
    "ut = np.triu(d)\n",
    "ut"
   ]
  },
  {
   "cell_type": "code",
   "execution_count": 8,
   "metadata": {},
   "outputs": [
    {
     "data": {
      "text/plain": [
       "array([[1, 0, 0],\n",
       "       [4, 5, 0],\n",
       "       [7, 8, 9]])"
      ]
     },
     "execution_count": 8,
     "metadata": {},
     "output_type": "execute_result"
    }
   ],
   "source": [
    "lt = np.tril(d)\n",
    "lt"
   ]
  },
  {
   "cell_type": "markdown",
   "metadata": {},
   "source": [
    "## numpy.linalg\n",
    "\n",
    "linear algebra module\n",
    "\n",
    "- rank, determinant, trace, inverse etc of an array\n",
    "- eigen values of matrices\n",
    "- matrix and vector products\n",
    "- solve linear equations"
   ]
  },
  {
   "cell_type": "markdown",
   "metadata": {},
   "source": [
    "### determinant"
   ]
  },
  {
   "cell_type": "code",
   "execution_count": 9,
   "metadata": {},
   "outputs": [
    {
     "data": {
      "text/plain": [
       "0.0"
      ]
     },
     "execution_count": 9,
     "metadata": {},
     "output_type": "execute_result"
    }
   ],
   "source": [
    "det = np.linalg.det(d)\n",
    "det"
   ]
  },
  {
   "cell_type": "markdown",
   "metadata": {},
   "source": [
    "### inverse of matrix"
   ]
  },
  {
   "cell_type": "code",
   "execution_count": 11,
   "metadata": {},
   "outputs": [
    {
     "data": {
      "text/plain": [
       "matrix([[ 9., -2.],\n",
       "        [-4.,  1.]])"
      ]
     },
     "execution_count": 11,
     "metadata": {},
     "output_type": "execute_result"
    }
   ],
   "source": [
    "x = np.matrix([[1,2],[4,9]])\n",
    "x**-1"
   ]
  },
  {
   "cell_type": "code",
   "execution_count": 12,
   "metadata": {},
   "outputs": [
    {
     "data": {
      "text/plain": [
       "matrix([[ 9., -2.],\n",
       "        [-4.,  1.]])"
      ]
     },
     "execution_count": 12,
     "metadata": {},
     "output_type": "execute_result"
    }
   ],
   "source": [
    "np.linalg.inv(x)"
   ]
  },
  {
   "cell_type": "markdown",
   "metadata": {},
   "source": [
    "### eigen values"
   ]
  },
  {
   "cell_type": "code",
   "execution_count": 16,
   "metadata": {},
   "outputs": [
    {
     "name": "stdout",
     "output_type": "stream",
     "text": [
      "[[1 2 3]\n",
      " [4 5 6]\n",
      " [7 8 9]]\n"
     ]
    },
    {
     "data": {
      "text/plain": [
       "array([ 1.61168440e+01, -1.11684397e+00, -9.75918483e-16])"
      ]
     },
     "execution_count": 16,
     "metadata": {},
     "output_type": "execute_result"
    }
   ],
   "source": [
    "print(d)\n",
    "\n",
    "np.linalg.eigvals(d)"
   ]
  },
  {
   "cell_type": "code",
   "execution_count": 17,
   "metadata": {},
   "outputs": [
    {
     "data": {
      "text/plain": [
       "array([1., 9., 8.])"
      ]
     },
     "execution_count": 17,
     "metadata": {},
     "output_type": "execute_result"
    }
   ],
   "source": [
    "h = np.matrix([[1,0,0],[0,9,0],[0,0,8]])\n",
    "\n",
    "np.linalg.eigvals(h)"
   ]
  },
  {
   "cell_type": "code",
   "execution_count": null,
   "metadata": {},
   "outputs": [],
   "source": []
  },
  {
   "cell_type": "markdown",
   "metadata": {},
   "source": [
    "# Identity matrix\n",
    "verify the following properties by suitable examples\n",
    "- symmetric transpose of identity matrix is itself\n",
    "- identity matrix is nonsimgular\n",
    "- inverse of identity matrix is itself\n",
    "- eigenvalues are all 1's\n",
    "- multiplying any matrix by the unit matrix , gives the marix itself\n",
    "- We always get an identity after multiplying two inverse matrices"
   ]
  },
  {
   "cell_type": "code",
   "execution_count": 1,
   "metadata": {},
   "outputs": [],
   "source": [
    "import numpy as np"
   ]
  },
  {
   "cell_type": "code",
   "execution_count": 6,
   "metadata": {},
   "outputs": [
    {
     "name": "stdout",
     "output_type": "stream",
     "text": [
      "identity matrix =\n",
      "  [[1 0 0]\n",
      " [0 1 0]\n",
      " [0 0 1]]\n",
      "transpose of  matrix =\n",
      "  [[1 0 0]\n",
      " [0 1 0]\n",
      " [0 0 1]]\n",
      "determinant :\n",
      "  1.0\n",
      "inverse = \n",
      " [[1. 0. 0.]\n",
      " [0. 1. 0.]\n",
      " [0. 0. 1.]]\n",
      "eigen values :  [1. 1. 1.]\n",
      "a = \n",
      " [[1 0 0]\n",
      " [0 5 0]\n",
      " [0 0 9]]\n",
      "a*i = \n",
      " [[1 0 0]\n",
      " [0 5 0]\n",
      " [0 0 9]]\n"
     ]
    }
   ],
   "source": [
    "i = np.matrix([[1,0,0],[0,1,0],[0,0,1]])\n",
    "\n",
    "print(\"identity matrix =\\n \",i)\n",
    "\n",
    "trans = np.transpose(i)\n",
    "\n",
    "print(\"transpose of  matrix =\\n \",i)\n",
    "\n",
    "de = np.linalg.det(i)\n",
    "\n",
    "print(\"determinant :\\n \", de)\n",
    "\n",
    "inv = np.linalg.inv(i)\n",
    "\n",
    "print(\"inverse = \\n\", inv)\n",
    "\n",
    "eig = np.linalg.eigvals(i)\n",
    "\n",
    "print(\"eigen values : \",eig)\n",
    "\n",
    "a = np.matrix([[1,0,0],[0,5,0],[0,0,9]])\n",
    "\n",
    "print(\"a = \\n\",a)\n",
    "\n",
    "print(\"a*i = \\n\",a*i)\n",
    "\n",
    "a_i = np.linalg.inv(a)\n"
   ]
  },
  {
   "cell_type": "markdown",
   "metadata": {},
   "source": [
    "# Diagonal Matrix\n",
    "\n",
    "\n",
    "verify the properties :\n",
    "- addition, multiplication of diagonal matrix gives a diagonal matrix again:\n",
    "- symmetric transpose of matrix is itself\n",
    "- determinant of diag(ai ) = a1*a2...\n",
    "- identity matrix is nonsingular if diagonal entries are all on zero\n",
    "- diag(ai..)^-1 = diaag(a1^-1,....an^-1)\n",
    "- eigen values are diagonal entries"
   ]
  },
  {
   "cell_type": "code",
   "execution_count": 10,
   "metadata": {},
   "outputs": [
    {
     "name": "stdout",
     "output_type": "stream",
     "text": [
      "d1 = \n",
      " [[1 0 0]\n",
      " [0 2 0]\n",
      " [0 0 3]]\n",
      "d2 = \n",
      " [[4 0 0]\n",
      " [0 5 0]\n",
      " [0 0 6]]\n",
      "d1 + d2 = \n",
      " [[5 0 0]\n",
      " [0 7 0]\n",
      " [0 0 9]]\n",
      "d1 * d2 = \n",
      " [[ 4  0  0]\n",
      " [ 0 10  0]\n",
      " [ 0  0 18]]\n",
      "transpose = \n",
      " [[1 0 0]\n",
      " [0 2 0]\n",
      " [0 0 3]]\n"
     ]
    }
   ],
   "source": [
    "d1 = np.matrix([[1,0,0],[0,2,0],[0,0,3]])\n",
    "d2 = np.matrix([[4,0,0],[0,5,0],[0,0,6]])\n",
    "print(\"d1 = \\n\",d1)\n",
    "print(\"d2 = \\n\",d2)\n",
    "\n",
    "d = d1 + d2\n",
    "c = d1 * d2\n",
    "\n",
    "print(\"d1 + d2 = \\n\",d)\n",
    "print(\"d1 * d2 = \\n\", c)\n",
    "\n",
    "tra = np.transpose(d1)\n",
    "print(\"transpose = \\n\",d1)\n",
    "\n",
    "#find inverse and eigen values of the same\n",
    "\n"
   ]
  },
  {
   "cell_type": "markdown",
   "metadata": {},
   "source": [
    "# Upper triangular matrix\n",
    "- adding returns utm\n",
    "- multiplying results in utm\n",
    "- transpose will be ltm\n",
    "- inverse remains utm\n",
    "- determinant od diag(a1...an)  = a1*a2*....an\n",
    "- eigen values are diagonal entries"
   ]
  },
  {
   "cell_type": "code",
   "execution_count": 13,
   "metadata": {},
   "outputs": [
    {
     "name": "stdout",
     "output_type": "stream",
     "text": [
      "u1 = \n",
      " [[1 4 5]\n",
      " [0 2 6]\n",
      " [0 0 3]]\n",
      "u2 = \n",
      " [[4 1 2]\n",
      " [0 5 3]\n",
      " [0 0 6]]\n",
      "u1 + u2 = \n",
      " [[5 5 7]\n",
      " [0 7 9]\n",
      " [0 0 9]]\n",
      "u1 * u2 = \n",
      " [[ 4 21 44]\n",
      " [ 0 10 42]\n",
      " [ 0  0 18]]\n",
      "transpose = \n",
      " [[1 4 5]\n",
      " [0 2 6]\n",
      " [0 0 3]]\n",
      "determinant =\n",
      " 6.0\n"
     ]
    }
   ],
   "source": [
    "u1 = np.matrix([[1,4,5],[0,2,6],[0,0,3]])\n",
    "u2 = np.matrix([[4,1,2],[0,5,3],[0,0,6]])\n",
    "\n",
    "print(\"u1 = \\n\",u1)\n",
    "print(\"u2 = \\n\",u2)\n",
    " \n",
    "u = u1 + u2\n",
    "c = u1 * u2\n",
    " \n",
    "print(\"u1 + u2 = \\n\",u)\n",
    "print(\"u1 * u2 = \\n\", c)\n",
    " \n",
    "tra = np.transpose(u1)\n",
    "print(\"transpose = \\n\",u1)\n",
    "\n",
    "de = np.linalg.det(u1)\n",
    "\n",
    "print(\"determinant =\\n\",de)\n",
    "\n",
    "\n",
    "\n"
   ]
  },
  {
   "cell_type": "markdown",
   "metadata": {},
   "source": [
    "# Singular Matrix\n",
    "- det is 0\n",
    "- a non-invertible matrix is reffered to as singlular matrix, i.e, when the determinant of a matrix is zero, we cannot find its inverse, there will be multiplicative inverse for the matrix\n",
    "- Product of singular and non singular matri gives singular matrix\n",
    "   "
   ]
  },
  {
   "cell_type": "code",
   "execution_count": 8,
   "metadata": {},
   "outputs": [
    {
     "name": "stdout",
     "output_type": "stream",
     "text": [
      "singular =\n",
      " [[1 4 7]\n",
      " [1 4 7]\n",
      " [2 3 0]]\n",
      "transpose of  matrix =\n",
      " [[1 1 2]\n",
      " [4 4 3]\n",
      " [7 7 0]]\n",
      "determinant :\n",
      " 0.0\n",
      "eigen values :  [ 8.92261629e+00 -4.81385765e-17 -3.92261629e+00]\n",
      "a = \n",
      " [[1 0 0]\n",
      " [0 5 0]\n",
      " [0 0 9]]\n",
      "a*s =\n",
      " [[ 1  4  7]\n",
      " [ 5 20 35]\n",
      " [18 27  0]]\n",
      "determinant of a*s =  0.0\n"
     ]
    }
   ],
   "source": [
    "import numpy as np\n",
    "\n",
    "s = np.matrix([[1,4,7],[1,4,7],[2,3,0]])\n",
    "\n",
    "\n",
    "print(\"singular =\\n\",s)\n",
    "\n",
    "trans = np.transpose(s)\n",
    "\n",
    "print(\"transpose of  matrix =\\n\",trans)\n",
    "\n",
    "de = np.linalg.det(s)\n",
    "\n",
    "print(\"determinant :\\n\", de)\n",
    "\n",
    "# inv = np.linalg.inv(s)\n",
    "\n",
    "# print(\"inverse = \\n\", inv)\n",
    "\n",
    "eig = np.linalg.eigvals(s)\n",
    "\n",
    "print(\"eigen values : \",eig)\n",
    "\n",
    "a = np.matrix([[1,0,0],[0,5,0],[0,0,9]])\n",
    "print(\"a = \\n\",a)\n",
    "\n",
    "print(\"a*s =\\n\",a*s)\n",
    "d = np.linalg.det(a*s)\n",
    "print(\"determinant of a*s = \",d)\n",
    "\n"
   ]
  },
  {
   "cell_type": "markdown",
   "metadata": {},
   "source": [
    "# Rank of a Matrix"
   ]
  },
  {
   "cell_type": "code",
   "execution_count": 9,
   "metadata": {},
   "outputs": [
    {
     "name": "stdout",
     "output_type": "stream",
     "text": [
      "[[1. 0. 0. 0.]\n",
      " [0. 1. 0. 0.]\n",
      " [0. 0. 1. 0.]\n",
      " [0. 0. 0. 1.]]\n",
      "rank =  4\n"
     ]
    }
   ],
   "source": [
    "from numpy.linalg import matrix_rank\n",
    "\n",
    "i = np.eye(4)\n",
    "\n",
    "print(i)\n",
    "\n",
    "r = matrix_rank(i)\n",
    "\n",
    "print(\"rank = \",r)"
   ]
  },
  {
   "cell_type": "code",
   "execution_count": 18,
   "metadata": {},
   "outputs": [
    {
     "name": "stdout",
     "output_type": "stream",
     "text": [
      "[[1. 0. 0. 0.]\n",
      " [0. 1. 0. 0.]\n",
      " [0. 0. 1. 0.]\n",
      " [0. 0. 0. 0.]]\n",
      "rank =  3\n"
     ]
    }
   ],
   "source": [
    "i = np.eye(4)\n",
    "i[3,3] = 0\n",
    "\n",
    "print(i)\n",
    "r = matrix_rank(i)\n",
    "\n",
    "print(\"rank = \",r)\n"
   ]
  },
  {
   "cell_type": "code",
   "execution_count": 20,
   "metadata": {},
   "outputs": [
    {
     "name": "stdout",
     "output_type": "stream",
     "text": [
      "[[ 0 -1 -2]\n",
      " [ 8  9 10]\n",
      " [ 8  8  8]]\n",
      "rank =  2\n"
     ]
    }
   ],
   "source": [
    "p = np.matrix([[1,1,-1],[2,-3,4],[3,-2,3]])\n",
    "q = np.matrix([[-1,-2,-1],[6,12,6],[5,10,5]])\n",
    "\n",
    "print(p+q)\n",
    "r = matrix_rank(p+q)\n",
    "\n",
    "print(\"rank = \",r)\n"
   ]
  },
  {
   "cell_type": "code",
   "execution_count": 21,
   "metadata": {},
   "outputs": [
    {
     "name": "stdout",
     "output_type": "stream",
     "text": [
      "[[1. 1. 1. 1.]\n",
      " [1. 1. 1. 1.]\n",
      " [1. 1. 1. 1.]\n",
      " [1. 1. 1. 1.]]\n",
      "rank =  1\n"
     ]
    }
   ],
   "source": [
    "from numpy.linalg import matrix_rank\n",
    "\n",
    "i = np.ones((4,4))\n",
    "\n",
    "print(i)\n",
    "r = matrix_rank(i)\n",
    "\n",
    "print(\"rank = \",r)"
   ]
  },
  {
   "cell_type": "code",
   "execution_count": 24,
   "metadata": {},
   "outputs": [
    {
     "name": "stdout",
     "output_type": "stream",
     "text": [
      "[[ 2 -1  3]\n",
      " [ 1  0  1]\n",
      " [ 1  1  4]]\n",
      "rank =  3\n",
      "\n",
      "[[ 2  1  1]\n",
      " [-1  0  1]\n",
      " [ 3  1  4]]\n",
      "rank =  3\n"
     ]
    }
   ],
   "source": [
    "b = np.matrix([[2,-1,3],[1,0,1],[1,1,4]])\n",
    "print(b)\n",
    "r = matrix_rank(b)\n",
    "\n",
    "print(\"rank = \",r)\n",
    "print()\n",
    "bt = np.transpose(b)\n",
    "\n",
    "print(bt)\n",
    "r = matrix_rank(bt)\n",
    "\n",
    "print(\"rank = \",r)\n"
   ]
  },
  {
   "cell_type": "code",
   "execution_count": 26,
   "metadata": {},
   "outputs": [
    {
     "name": "stdout",
     "output_type": "stream",
     "text": [
      "[[ 1  1 -1]\n",
      " [ 2 -3  4]\n",
      " [ 3 -2  3]]\n",
      "rank =  2\n",
      "eigen values :  [ 1.00000000e+00+0.00000000e+00j -2.24492778e-16+4.40332636e-08j\n",
      " -2.24492778e-16-4.40332636e-08j]\n"
     ]
    }
   ],
   "source": [
    "#show rank of p is no of non zero eigen values\n",
    "p = np.matrix([[1,1,-1],[2,-3,4],[3,-2,3]])\n",
    "\n",
    "print(p)\n",
    "r = matrix_rank(p)\n",
    "\n",
    "print(\"rank = \",r)\n",
    "\n",
    "\n",
    "eig = np.linalg.eigvals(p)\n",
    "\n",
    "print(\"eigen values : \",eig)\n",
    "\n"
   ]
  },
  {
   "cell_type": "markdown",
   "metadata": {},
   "source": [
    "# system of linear equations"
   ]
  },
  {
   "cell_type": "markdown",
   "metadata": {},
   "source": [
    "a linear equation in variables x1,x2,..xn is an equation of the form a1x1, a2x2,...an,xn and $b$ are constants.\n",
    "\n",
    "the constants ai is called the coefficient of xi"
   ]
  },
  {
   "cell_type": "markdown",
   "metadata": {},
   "source": [
    "A system of linear equations is a finite collection of linear equations in the same variables.\n",
    "\n",
    "linear wquations in $n$ variables $x_1, x_2. \\ldots. x_n$ <br>\n",
    "\n",
    "$a_{11}x_1 + a_{12}x_2 + \\ldots + a_{1n}x_n = b_1$ <br>\n",
    "\n",
    "$a_{21}x_1 + a_{22}x_2 + \\ldots + a_{2n}x_n = b_2$ <br>\n",
    "\n",
    "$\\ldots$ <br>\n",
    "\n",
    "$a_{m1}x_1 + a_{m2}x_2 + \\ldots + a_{mn}x_n = b_m$ <br>"
   ]
  },
  {
   "cell_type": "markdown",
   "metadata": {},
   "source": [
    " A solution of a linear system is an assignment of values to the variables $x_1, x_2 \\ldots, x_n$ such that each of the equations is satisfied. The set of all solutions of a linear system is called the solution set of the system"
   ]
  },
  {
   "cell_type": "markdown",
   "metadata": {},
   "source": [
    "in a matrix notation a linear system is $AX = B$, where <br>\n",
    "\n",
    "$A = \\begin{bmatrix}\n",
    "a_{11} & a_{12} & \\ldots & a_{1n} \\\\ \n",
    "a_{11} & a_{12} & \\ldots & a_{1n} \\\\ \n",
    "    & \\ldots & \\\\\n",
    "a_{m1} & a_{m2} & \\ldots & a_{mn} \\\\ \n",
    "\\end{bmatrix} $ is the coefficient matrix , <br>\n",
    "\n",
    "$X = \\begin{bmatrix}\n",
    "x_1 \\\\\n",
    "x_2 \\\\\n",
    "\\vdots \\\\\n",
    "x_n \\\\\n",
    "\\end{bmatrix} $ and\n",
    "$B = \\begin{bmatrix}\n",
    "xb1 \\\\\n",
    "b_2 \\\\\n",
    "\\vdots \\\\\n",
    "b_n \\\\\n",
    "\\end{bmatrix} $.\n"
   ]
  },
  {
   "cell_type": "markdown",
   "metadata": {},
   "source": [
    "python has numpy.linalg.solve() to solve these sytem of linear equations\n",
    "\n",
    "syntax\n",
    "\n",
    "numpy.linalg.solve(A,B)\n"
   ]
  },
  {
   "cell_type": "markdown",
   "metadata": {},
   "source": [
    "Q. Find all solutions for the linear system <br>\n",
    "\n",
    "$x_1 + 2x_2 - x_3 = 1$ <br>\n",
    "$2x_1 + x_2 + 4x_3 = 2$ <br>\n",
    "$3x_1 + 3x_2 + 4x_3 = 1$\n"
   ]
  },
  {
   "cell_type": "code",
   "execution_count": 4,
   "metadata": {},
   "outputs": [
    {
     "name": "stdout",
     "output_type": "stream",
     "text": [
      "[ 7. -4. -2.]\n"
     ]
    }
   ],
   "source": [
    "import numpy as np\n",
    "A = np.array([[1,2,-1],[2,1,4],[3,3,4]])\n",
    "B = np.array([1,2,1])\n",
    "\n",
    "print(np.linalg.solve(A,B))\n",
    "\n"
   ]
  },
  {
   "cell_type": "code",
   "execution_count": 5,
   "metadata": {},
   "outputs": [
    {
     "ename": "ValueError",
     "evalue": "solve: Input operand 1 has a mismatch in its core dimension 0, with gufunc signature (m,m),(m,n)->(m,n) (size 1 is different from 3)",
     "output_type": "error",
     "traceback": [
      "\u001b[1;31m---------------------------------------------------------------------------\u001b[0m",
      "\u001b[1;31mValueError\u001b[0m                                Traceback (most recent call last)",
      "\u001b[1;32mc:\\Users\\joelv\\Desktop\\projects 2\\math\\8-06-22.ipynb Cell 79\u001b[0m in \u001b[0;36m<cell line: 4>\u001b[1;34m()\u001b[0m\n\u001b[0;32m      <a href='vscode-notebook-cell:/c%3A/Users/joelv/Desktop/projects%202/math/8-06-22.ipynb#Y145sZmlsZQ%3D%3D?line=0'>1</a>\u001b[0m A \u001b[39m=\u001b[39m np\u001b[39m.\u001b[39mmatrix([[\u001b[39m1\u001b[39m,\u001b[39m2\u001b[39m,\u001b[39m-\u001b[39m\u001b[39m1\u001b[39m],[\u001b[39m2\u001b[39m,\u001b[39m1\u001b[39m,\u001b[39m4\u001b[39m],[\u001b[39m3\u001b[39m,\u001b[39m3\u001b[39m,\u001b[39m4\u001b[39m]])\n\u001b[0;32m      <a href='vscode-notebook-cell:/c%3A/Users/joelv/Desktop/projects%202/math/8-06-22.ipynb#Y145sZmlsZQ%3D%3D?line=1'>2</a>\u001b[0m B \u001b[39m=\u001b[39m np\u001b[39m.\u001b[39mmatrix([\u001b[39m1\u001b[39m,\u001b[39m2\u001b[39m,\u001b[39m1\u001b[39m])\n\u001b[1;32m----> <a href='vscode-notebook-cell:/c%3A/Users/joelv/Desktop/projects%202/math/8-06-22.ipynb#Y145sZmlsZQ%3D%3D?line=3'>4</a>\u001b[0m \u001b[39mprint\u001b[39m(np\u001b[39m.\u001b[39;49mlinalg\u001b[39m.\u001b[39;49msolve(A,B))\n",
      "File \u001b[1;32m<__array_function__ internals>:180\u001b[0m, in \u001b[0;36msolve\u001b[1;34m(*args, **kwargs)\u001b[0m\n",
      "File \u001b[1;32mc:\\Users\\joelv\\AppData\\Local\\Programs\\Python\\Python310\\lib\\site-packages\\numpy\\linalg\\linalg.py:400\u001b[0m, in \u001b[0;36msolve\u001b[1;34m(a, b)\u001b[0m\n\u001b[0;32m    398\u001b[0m signature \u001b[39m=\u001b[39m \u001b[39m'\u001b[39m\u001b[39mDD->D\u001b[39m\u001b[39m'\u001b[39m \u001b[39mif\u001b[39;00m isComplexType(t) \u001b[39melse\u001b[39;00m \u001b[39m'\u001b[39m\u001b[39mdd->d\u001b[39m\u001b[39m'\u001b[39m\n\u001b[0;32m    399\u001b[0m extobj \u001b[39m=\u001b[39m get_linalg_error_extobj(_raise_linalgerror_singular)\n\u001b[1;32m--> 400\u001b[0m r \u001b[39m=\u001b[39m gufunc(a, b, signature\u001b[39m=\u001b[39;49msignature, extobj\u001b[39m=\u001b[39;49mextobj)\n\u001b[0;32m    402\u001b[0m \u001b[39mreturn\u001b[39;00m wrap(r\u001b[39m.\u001b[39mastype(result_t, copy\u001b[39m=\u001b[39m\u001b[39mFalse\u001b[39;00m))\n",
      "\u001b[1;31mValueError\u001b[0m: solve: Input operand 1 has a mismatch in its core dimension 0, with gufunc signature (m,m),(m,n)->(m,n) (size 1 is different from 3)"
     ]
    }
   ],
   "source": [
    "A = np.matrix([[1,2,-1],[2,1,4],[3,3,4]])\n",
    "B = np.matrix([1,2,1])\n",
    "\n",
    "print(np.linalg.solve(A,B))"
   ]
  },
  {
   "cell_type": "markdown",
   "metadata": {},
   "source": [
    "this is because $B$ is a $m \\times 1$ matrix in the matrix equivalent of linear system of equations"
   ]
  },
  {
   "cell_type": "code",
   "execution_count": 8,
   "metadata": {},
   "outputs": [
    {
     "name": "stdout",
     "output_type": "stream",
     "text": [
      "[[ 7.]\n",
      " [-4.]\n",
      " [-2.]]\n"
     ]
    }
   ],
   "source": [
    "A = np.matrix([[1,2,-1],[2,1,4],[3,3,4]])\n",
    "B = np.matrix([[1],[2],[1]])\n",
    "\n",
    "print(np.linalg.solve(A,B))"
   ]
  },
  {
   "cell_type": "markdown",
   "metadata": {},
   "source": [
    " The function np.linalg.solve() works only if A is a non-singular matrix"
   ]
  },
  {
   "cell_type": "code",
   "execution_count": 10,
   "metadata": {},
   "outputs": [
    {
     "ename": "LinAlgError",
     "evalue": "Singular matrix",
     "output_type": "error",
     "traceback": [
      "\u001b[1;31m---------------------------------------------------------------------------\u001b[0m",
      "\u001b[1;31mLinAlgError\u001b[0m                               Traceback (most recent call last)",
      "\u001b[1;32mc:\\Users\\joelv\\Desktop\\projects 2\\math\\8-06-22.ipynb Cell 83\u001b[0m in \u001b[0;36m<cell line: 4>\u001b[1;34m()\u001b[0m\n\u001b[0;32m      <a href='vscode-notebook-cell:/c%3A/Users/joelv/Desktop/projects%202/math/8-06-22.ipynb#Y152sZmlsZQ%3D%3D?line=0'>1</a>\u001b[0m A \u001b[39m=\u001b[39m np\u001b[39m.\u001b[39mmatrix([[\u001b[39m1\u001b[39m,\u001b[39m-\u001b[39m\u001b[39m1\u001b[39m,\u001b[39m1\u001b[39m,\u001b[39m-\u001b[39m\u001b[39m1\u001b[39m],[\u001b[39m1\u001b[39m,\u001b[39m-\u001b[39m\u001b[39m1\u001b[39m,\u001b[39m1\u001b[39m,\u001b[39m1\u001b[39m],[\u001b[39m4\u001b[39m,\u001b[39m-\u001b[39m\u001b[39m4\u001b[39m,\u001b[39m4\u001b[39m,\u001b[39m0\u001b[39m],[\u001b[39m-\u001b[39m\u001b[39m2\u001b[39m,\u001b[39m2\u001b[39m,\u001b[39m-\u001b[39m\u001b[39m2\u001b[39m,\u001b[39m1\u001b[39m]])\n\u001b[0;32m      <a href='vscode-notebook-cell:/c%3A/Users/joelv/Desktop/projects%202/math/8-06-22.ipynb#Y152sZmlsZQ%3D%3D?line=1'>2</a>\u001b[0m B \u001b[39m=\u001b[39m np\u001b[39m.\u001b[39mmatrix([[\u001b[39m2\u001b[39m],[\u001b[39m0\u001b[39m],[\u001b[39m4\u001b[39m],[\u001b[39m-\u001b[39m\u001b[39m3\u001b[39m]])\n\u001b[1;32m----> <a href='vscode-notebook-cell:/c%3A/Users/joelv/Desktop/projects%202/math/8-06-22.ipynb#Y152sZmlsZQ%3D%3D?line=3'>4</a>\u001b[0m \u001b[39mprint\u001b[39m(np\u001b[39m.\u001b[39;49mlinalg\u001b[39m.\u001b[39;49msolve(A,B))\n",
      "File \u001b[1;32m<__array_function__ internals>:180\u001b[0m, in \u001b[0;36msolve\u001b[1;34m(*args, **kwargs)\u001b[0m\n",
      "File \u001b[1;32mc:\\Users\\joelv\\AppData\\Local\\Programs\\Python\\Python310\\lib\\site-packages\\numpy\\linalg\\linalg.py:400\u001b[0m, in \u001b[0;36msolve\u001b[1;34m(a, b)\u001b[0m\n\u001b[0;32m    398\u001b[0m signature \u001b[39m=\u001b[39m \u001b[39m'\u001b[39m\u001b[39mDD->D\u001b[39m\u001b[39m'\u001b[39m \u001b[39mif\u001b[39;00m isComplexType(t) \u001b[39melse\u001b[39;00m \u001b[39m'\u001b[39m\u001b[39mdd->d\u001b[39m\u001b[39m'\u001b[39m\n\u001b[0;32m    399\u001b[0m extobj \u001b[39m=\u001b[39m get_linalg_error_extobj(_raise_linalgerror_singular)\n\u001b[1;32m--> 400\u001b[0m r \u001b[39m=\u001b[39m gufunc(a, b, signature\u001b[39m=\u001b[39;49msignature, extobj\u001b[39m=\u001b[39;49mextobj)\n\u001b[0;32m    402\u001b[0m \u001b[39mreturn\u001b[39;00m wrap(r\u001b[39m.\u001b[39mastype(result_t, copy\u001b[39m=\u001b[39m\u001b[39mFalse\u001b[39;00m))\n",
      "File \u001b[1;32mc:\\Users\\joelv\\AppData\\Local\\Programs\\Python\\Python310\\lib\\site-packages\\numpy\\linalg\\linalg.py:89\u001b[0m, in \u001b[0;36m_raise_linalgerror_singular\u001b[1;34m(err, flag)\u001b[0m\n\u001b[0;32m     88\u001b[0m \u001b[39mdef\u001b[39;00m \u001b[39m_raise_linalgerror_singular\u001b[39m(err, flag):\n\u001b[1;32m---> 89\u001b[0m     \u001b[39mraise\u001b[39;00m LinAlgError(\u001b[39m\"\u001b[39m\u001b[39mSingular matrix\u001b[39m\u001b[39m\"\u001b[39m)\n",
      "\u001b[1;31mLinAlgError\u001b[0m: Singular matrix"
     ]
    }
   ],
   "source": [
    "A = np.matrix([[1,-1,1,-1],[1,-1,1,1],[4,-4,4,0],[-2,2,-2,1]])\n",
    "B = np.matrix([[2],[0],[4],[-3]])\n",
    "\n",
    "print(np.linalg.solve(A,B))"
   ]
  },
  {
   "cell_type": "markdown",
   "metadata": {},
   "source": [
    "this is because determinant of A is 0"
   ]
  },
  {
   "cell_type": "markdown",
   "metadata": {},
   "source": [
    "linalg.solve() only works oif the matrix is a square matrix"
   ]
  },
  {
   "cell_type": "code",
   "execution_count": 12,
   "metadata": {},
   "outputs": [
    {
     "ename": "LinAlgError",
     "evalue": "Last 2 dimensions of the array must be square",
     "output_type": "error",
     "traceback": [
      "\u001b[1;31m---------------------------------------------------------------------------\u001b[0m",
      "\u001b[1;31mLinAlgError\u001b[0m                               Traceback (most recent call last)",
      "\u001b[1;32mc:\\Users\\joelv\\Desktop\\projects 2\\math\\8-06-22.ipynb Cell 86\u001b[0m in \u001b[0;36m<cell line: 4>\u001b[1;34m()\u001b[0m\n\u001b[0;32m      <a href='vscode-notebook-cell:/c%3A/Users/joelv/Desktop/projects%202/math/8-06-22.ipynb#Y153sZmlsZQ%3D%3D?line=0'>1</a>\u001b[0m A \u001b[39m=\u001b[39m np\u001b[39m.\u001b[39mmatrix([[\u001b[39m1\u001b[39m,\u001b[39m-\u001b[39m\u001b[39m1\u001b[39m,\u001b[39m1\u001b[39m,\u001b[39m-\u001b[39m\u001b[39m1\u001b[39m],[\u001b[39m1\u001b[39m,\u001b[39m-\u001b[39m\u001b[39m1\u001b[39m,\u001b[39m1\u001b[39m,\u001b[39m1\u001b[39m],[\u001b[39m4\u001b[39m,\u001b[39m-\u001b[39m\u001b[39m4\u001b[39m,\u001b[39m4\u001b[39m,\u001b[39m0\u001b[39m]])\n\u001b[0;32m      <a href='vscode-notebook-cell:/c%3A/Users/joelv/Desktop/projects%202/math/8-06-22.ipynb#Y153sZmlsZQ%3D%3D?line=1'>2</a>\u001b[0m B \u001b[39m=\u001b[39m np\u001b[39m.\u001b[39mmatrix([[\u001b[39m2\u001b[39m],[\u001b[39m0\u001b[39m],[\u001b[39m4\u001b[39m]])\n\u001b[1;32m----> <a href='vscode-notebook-cell:/c%3A/Users/joelv/Desktop/projects%202/math/8-06-22.ipynb#Y153sZmlsZQ%3D%3D?line=3'>4</a>\u001b[0m \u001b[39mprint\u001b[39m(np\u001b[39m.\u001b[39;49mlinalg\u001b[39m.\u001b[39;49msolve(A,B))\n",
      "File \u001b[1;32m<__array_function__ internals>:180\u001b[0m, in \u001b[0;36msolve\u001b[1;34m(*args, **kwargs)\u001b[0m\n",
      "File \u001b[1;32mc:\\Users\\joelv\\AppData\\Local\\Programs\\Python\\Python310\\lib\\site-packages\\numpy\\linalg\\linalg.py:387\u001b[0m, in \u001b[0;36msolve\u001b[1;34m(a, b)\u001b[0m\n\u001b[0;32m    385\u001b[0m a, _ \u001b[39m=\u001b[39m _makearray(a)\n\u001b[0;32m    386\u001b[0m _assert_stacked_2d(a)\n\u001b[1;32m--> 387\u001b[0m _assert_stacked_square(a)\n\u001b[0;32m    388\u001b[0m b, wrap \u001b[39m=\u001b[39m _makearray(b)\n\u001b[0;32m    389\u001b[0m t, result_t \u001b[39m=\u001b[39m _commonType(a, b)\n",
      "File \u001b[1;32mc:\\Users\\joelv\\AppData\\Local\\Programs\\Python\\Python310\\lib\\site-packages\\numpy\\linalg\\linalg.py:204\u001b[0m, in \u001b[0;36m_assert_stacked_square\u001b[1;34m(*arrays)\u001b[0m\n\u001b[0;32m    202\u001b[0m m, n \u001b[39m=\u001b[39m a\u001b[39m.\u001b[39mshape[\u001b[39m-\u001b[39m\u001b[39m2\u001b[39m:]\n\u001b[0;32m    203\u001b[0m \u001b[39mif\u001b[39;00m m \u001b[39m!=\u001b[39m n:\n\u001b[1;32m--> 204\u001b[0m     \u001b[39mraise\u001b[39;00m LinAlgError(\u001b[39m'\u001b[39m\u001b[39mLast 2 dimensions of the array must be square\u001b[39m\u001b[39m'\u001b[39m)\n",
      "\u001b[1;31mLinAlgError\u001b[0m: Last 2 dimensions of the array must be square"
     ]
    }
   ],
   "source": [
    "A = np.matrix([[1,-1,1,-1],[1,-1,1,1],[4,-4,4,0]])\n",
    "B = np.matrix([[2],[0],[4]])\n",
    "\n",
    "print(np.linalg.solve(A,B))"
   ]
  },
  {
   "cell_type": "code",
   "execution_count": null,
   "metadata": {},
   "outputs": [],
   "source": []
  },
  {
   "cell_type": "markdown",
   "metadata": {},
   "source": [
    "## Exercise problems"
   ]
  },
  {
   "cell_type": "markdown",
   "metadata": {},
   "source": [
    "### questions"
   ]
  },
  {
   "cell_type": "markdown",
   "metadata": {},
   "source": [
    "1.  write a program to solve any system of linear equations(user input), check whether the coefficient matrix is singular or not. If singular , print no solution. If non singular then print the inverse exst and solve the system of equation"
   ]
  },
  {
   "cell_type": "code",
   "execution_count": null,
   "metadata": {},
   "outputs": [],
   "source": [
    "l = []\n",
    "m = []\n",
    "n = []\n",
    "p = []\n",
    "\n",
    "\n",
    "\n",
    "import numpy as np\n",
    "A = np.array([[1,3,-5],[4,2,1]])\n",
    "B = np.array([1,2])\n",
    "if  (A.shape[0] == A.shape[1]):\n",
    "    de = np.linalg.det(A)\n",
    "    if de ==0:\n",
    "        print(\"determinant :\\n\", de)\n",
    "        print(\"therefore no solution\")\n",
    "    else:\n",
    "        print(np.linalg.solve(A,B))\n",
    "\n",
    "        # using inverse method X = A^-1 * B\n",
    "\n",
    "        x =np.linalg.inv(A).dot(B)\n",
    "        print(\"uding inverse method = \" ,x)\n",
    "else:\n",
    "    print(\"no solution- not square matrix\")"
   ]
  },
  {
   "cell_type": "markdown",
   "metadata": {},
   "source": [
    "2. solve the following system of linear equations \n",
    "    - $x_1 + 2x_2 - x_3 = -1$\n",
    "    - $2x_1 + x_2 + 4x_3 = 2$\n",
    "    - $3x_1 + 3x_2 + 4x_3 = 1$"
   ]
  },
  {
   "cell_type": "code",
   "execution_count": 23,
   "metadata": {},
   "outputs": [
    {
     "name": "stdout",
     "output_type": "stream",
     "text": [
      "[ 1.66666667e+00 -1.33333333e+00 -2.22044605e-16]\n"
     ]
    }
   ],
   "source": [
    "import numpy as np\n",
    "A = np.array([[1,2,-1],[2,1,4],[3,3,4]])\n",
    "B = np.array([-1,2,1])\n",
    "de = np.linalg.det(A)\n",
    "if de ==0:\n",
    "\n",
    "    print(\"determinant :\\n\", de)\n",
    "    print(\"therefore no solution\")\n",
    "else:\n",
    "    print(np.linalg.solve(A,B))"
   ]
  },
  {
   "cell_type": "code",
   "execution_count": 22,
   "metadata": {},
   "outputs": [
    {
     "data": {
      "text/plain": [
       "array([ 1.66666667, -1.33333333,  0.        ])"
      ]
     },
     "execution_count": 22,
     "metadata": {},
     "output_type": "execute_result"
    }
   ],
   "source": [
    "# using inverse method X = A^-1 * B\n",
    "\n",
    "x =np.linalg.inv(A).dot(B)\n",
    "x"
   ]
  },
  {
   "cell_type": "markdown",
   "metadata": {},
   "source": [
    "3. solve\n",
    "    - $x_1 - x_2 + x_3 - x_4 = 2$\n",
    "    - $x_1 - x_2 + x_3 + x_4 = 0$\n",
    "    - $4x_1 - 4x_2 + 4x_3 = 4$\n",
    "    - $-2x_1 + 2x_2 - 2x_3 + x_4 = -3$"
   ]
  },
  {
   "cell_type": "code",
   "execution_count": 5,
   "metadata": {},
   "outputs": [
    {
     "name": "stdout",
     "output_type": "stream",
     "text": [
      "determinant :\n",
      " 0.0\n",
      "therefore no solution\n"
     ]
    }
   ],
   "source": [
    "A = np.matrix([[1,-1,1,-1],[1,-1,1,1],[4,-4,4,0],[-2,2,-2,1]])\n",
    "B = np.matrix([[2],[0],[4],[-3]])\n",
    "de = np.linalg.det(A)\n",
    "\n",
    "if de ==0:\n",
    "\n",
    "    print(\"determinant :\\n\", de)\n",
    "    print(\"therefore no solution\")\n",
    "else:\n",
    "    print(np.linalg.solve(A,B))"
   ]
  },
  {
   "cell_type": "markdown",
   "metadata": {},
   "source": [
    "4. solve\n",
    "    - $x_1 - 2x_2 - x_3 = 1$\n",
    "    - $2x_1 + x_2 - 5x_3 = 2$\n",
    "    - $3x_1 + 3x_2 + 4x_3 = 1$"
   ]
  },
  {
   "cell_type": "code",
   "execution_count": 27,
   "metadata": {},
   "outputs": [
    {
     "name": "stdout",
     "output_type": "stream",
     "text": [
      "[ 0.64516129 -0.09677419 -0.16129032]\n",
      "uding inverse method =  [ 0.64516129 -0.09677419 -0.16129032]\n"
     ]
    }
   ],
   "source": [
    "import numpy as np\n",
    "A = np.array([[1,-2,-1],[2,1,-5],[3,3,4]])\n",
    "B = np.array([1,2,1])\n",
    "de = np.linalg.det(A)\n",
    "if de ==0:\n",
    "\n",
    "    print(\"determinant :\\n\", de)\n",
    "    print(\"therefore no solution\")\n",
    "else:\n",
    "    print(np.linalg.solve(A,B))\n",
    "\n",
    "# using inverse method X = A^-1 * B\n",
    "\n",
    "x =np.linalg.inv(A).dot(B)\n",
    "print(\"uding inverse method = \" ,x)"
   ]
  },
  {
   "cell_type": "markdown",
   "metadata": {},
   "source": [
    "5. solve\n",
    "    - $x_1 + 2x_2 + x_3 = 4$\n",
    "    - $4x_1 + 5x_2 + 6x_3 = 7$\n",
    "    - $7x_1 + 8x_2 + 9x_3 = 10$"
   ]
  },
  {
   "cell_type": "code",
   "execution_count": 28,
   "metadata": {},
   "outputs": [
    {
     "name": "stdout",
     "output_type": "stream",
     "text": [
      "[-2.00000000e+00  3.00000000e+00 -1.74463618e-16]\n",
      "uding inverse method =  [-2.00000000e+00  3.00000000e+00 -3.88578059e-16]\n"
     ]
    }
   ],
   "source": [
    "import numpy as np\n",
    "A = np.array([[1,2,-1],[4,5,6],[7,8,9]])\n",
    "B = np.array([4,7,10])\n",
    "de = np.linalg.det(A)\n",
    "if de ==0:\n",
    "\n",
    "    print(\"determinant :\\n\", de)\n",
    "    print(\"therefore no solution\")\n",
    "else:\n",
    "    print(np.linalg.solve(A,B))\n",
    "\n",
    "# using inverse method X = A^-1 * B\n",
    "\n",
    "x =np.linalg.inv(A).dot(B)\n",
    "print(\"uding inverse method = \" ,x)"
   ]
  },
  {
   "cell_type": "markdown",
   "metadata": {},
   "source": [
    "5. solve\n",
    "    - $x_1 + 3x_2 - 5x_3 = 1$\n",
    "    - $4x_1 + 2x_2 + x_3 = 2$"
   ]
  },
  {
   "cell_type": "code",
   "execution_count": 38,
   "metadata": {},
   "outputs": [
    {
     "name": "stdout",
     "output_type": "stream",
     "text": [
      "no solution- not square matrix\n"
     ]
    }
   ],
   "source": [
    "import numpy as np\n",
    "A = np.array([[1,3,-5],[4,2,1]])\n",
    "B = np.array([1,2])\n",
    "if  (A.shape[0] == A.shape[1]):\n",
    "    de = np.linalg.det(A)\n",
    "    if de ==0:\n",
    "        print(\"determinant :\\n\", de)\n",
    "        print(\"therefore no solution\")\n",
    "    else:\n",
    "        print(np.linalg.solve(A,B))\n",
    "\n",
    "        # using inverse method X = A^-1 * B\n",
    "\n",
    "        x =np.linalg.inv(A).dot(B)\n",
    "        print(\"uding inverse method = \" ,x)\n",
    "else:\n",
    "    print(\"no solution- not square matrix\")"
   ]
  },
  {
   "cell_type": "markdown",
   "metadata": {},
   "source": [
    "6. suppose a fruit seller sold 20 mangoes + 10 oranges in one day for 350 dollars. next day 17 mangoes + 22 oranges for 500 dollars. find the prices of one mango and one orange"
   ]
  },
  {
   "cell_type": "code",
   "execution_count": 1,
   "metadata": {},
   "outputs": [
    {
     "name": "stdout",
     "output_type": "stream",
     "text": [
      "[10. 15.]\n",
      "uding inverse method =  [10. 15.]\n"
     ]
    }
   ],
   "source": [
    "import numpy as np\n",
    "A = np.array([[20,10],[17,22]])\n",
    "B = np.array([350,500])\n",
    "de = np.linalg.det(A)\n",
    "if de ==0:\n",
    "\n",
    "    print(\"determinant :\\n\", de)\n",
    "    print(\"therefore no solution\")\n",
    "else:\n",
    "    print(np.linalg.solve(A,B))\n",
    "\n",
    "# using inverse method X = A^-1 * B\n",
    "\n",
    "x =np.linalg.inv(A).dot(B)\n",
    "print(\"uding inverse method = \" ,x)"
   ]
  },
  {
   "cell_type": "markdown",
   "metadata": {},
   "source": [
    "# Solving non Linear equations \n",
    "\n",
    "The solution to  non linear equations is through matrix operations while for nonlinear they require solvers such as scipy optimize and fsolve to numerically find the solution\n",
    "Q1. **Solve the equation** $f(x) = x^{2}-5$\n",
    "\n",
    "\n",
    "\n",
    "Solving a non linear eq involves first putting it inthe  form of f(x)=0\n",
    "\n",
    "\n",
    "We know the function f and we want to find the valur of x that gives f(x)=0\n",
    "\n",
    "\n",
    "To solve this \n",
    "- define the function f(x)\n",
    "- set an initial guess for x.\n",
    "- we need to import a library:from scipy.optimize import fsolve\n",
    "- call the func fsolve: x=fsolve(f,x0)\n",
    "- f is the name of the function ur solving and x0 is ur initial guess\n",
    "\n",
    "\n"
   ]
  },
  {
   "cell_type": "markdown",
   "metadata": {},
   "source": [
    "## Funtion in single variables"
   ]
  },
  {
   "cell_type": "code",
   "execution_count": 14,
   "metadata": {},
   "outputs": [],
   "source": [
    "import numpy as np\n",
    "import matplotlib.pyplot as plt\n",
    "\n",
    "%matplotlib inline\n",
    "\n",
    "from scipy.optimize import fsolve"
   ]
  },
  {
   "cell_type": "code",
   "execution_count": 9,
   "metadata": {},
   "outputs": [
    {
     "name": "stdout",
     "output_type": "stream",
     "text": [
      "[2.23606798] [-1.77635684e-15]\n"
     ]
    }
   ],
   "source": [
    "from re import X\n",
    "\n",
    "\n",
    "def f(x):\n",
    "    return x**2 - 5\n",
    "\n",
    "x = fsolve(f,2)\n",
    "\n",
    "print(x,f(x))\n"
   ]
  },
  {
   "cell_type": "markdown",
   "metadata": {},
   "source": [
    "## function in muliple variables\n",
    "\n",
    "Q2. **solve the function** $x^{2} + y^{2} = 16"
   ]
  },
  {
   "cell_type": "code",
   "execution_count": 21,
   "metadata": {},
   "outputs": [
    {
     "name": "stdout",
     "output_type": "stream",
     "text": [
      "[1. 1.] [-14.   1.]\n"
     ]
    }
   ],
   "source": [
    "def myf(z):\n",
    "    x = z[0]\n",
    "    y = z[1]\n",
    "\n",
    "    F = np.empty((2))\n",
    "    F[0] = x**2 + y**2 - 16\n",
    "    return F\n",
    "\n",
    "zguess = np.array([1,1])\n",
    "\n",
    "z = fsolve(myf,zguess)\n",
    "\n",
    "print(z,myf(z))"
   ]
  },
  {
   "cell_type": "markdown",
   "metadata": {},
   "source": [
    "## Exercises\n",
    "### solve single equations with one variable\n",
    "\n",
    "1. $x^{2} + x + 1 = 3$\n",
    "2. $y + 2*Cos(y) = 0$ "
   ]
  },
  {
   "cell_type": "markdown",
   "metadata": {},
   "source": []
  },
  {
   "cell_type": "code",
   "execution_count": 4,
   "metadata": {},
   "outputs": [
    {
     "name": "stdout",
     "output_type": "stream",
     "text": [
      "[2.] [0.]\n"
     ]
    }
   ],
   "source": [
    "import numpy as np\n",
    "import matplotlib.pyplot as plt\n",
    "\n",
    "%matplotlib inline\n",
    "\n",
    "from scipy.optimize import fsolve\n",
    "from re import X\n",
    "\n",
    "\n",
    "def f(x):\n",
    "    return x**2 - x - 2\n",
    "\n",
    "x = fsolve(f,2)\n",
    "\n",
    "print(x,f(x))\n"
   ]
  },
  {
   "cell_type": "code",
   "execution_count": 25,
   "metadata": {},
   "outputs": [
    {
     "name": "stdout",
     "output_type": "stream",
     "text": [
      "[1.02986653] [0.]\n"
     ]
    }
   ],
   "source": [
    "import math\n",
    "import numpy as np\n",
    "import matplotlib.pyplot as plt\n",
    "\n",
    "%matplotlib inline\n",
    "\n",
    "from scipy.optimize import fsolve\n",
    "from re import X\n",
    "\n",
    "\n",
    "def f(y):\n",
    "    return y - 2*math.cos(y) \n",
    "\n",
    "y = fsolve(f,2)\n",
    "\n",
    "print(y,f(y))\n"
   ]
  },
  {
   "cell_type": "markdown",
   "metadata": {},
   "source": [
    "# Sequence\n",
    "what is a sequence?\n",
    "\n",
    "A sequence is the generic term for an ordered set"
   ]
  },
  {
   "cell_type": "code",
   "execution_count": 1,
   "metadata": {},
   "outputs": [
    {
     "data": {
      "text/latex": [
       "$\\displaystyle n^{2}$"
      ],
      "text/plain": [
       "n**2"
      ]
     },
     "execution_count": 1,
     "metadata": {},
     "output_type": "execute_result"
    }
   ],
   "source": [
    "from sympy import SeqFormula, Symbol\n",
    "\n",
    "n = Symbol('n')\n",
    "s = SeqFormula(n**2, (n,0,5))\n",
    "s.formula\n",
    "\n"
   ]
  },
  {
   "cell_type": "markdown",
   "metadata": {},
   "source": []
  },
  {
   "cell_type": "code",
   "execution_count": 8,
   "metadata": {},
   "outputs": [
    {
     "data": {
      "text/latex": [
       "$\\displaystyle 9$"
      ],
      "text/plain": [
       "9"
      ]
     },
     "execution_count": 8,
     "metadata": {},
     "output_type": "execute_result"
    }
   ],
   "source": [
    "\n",
    "#for value at a perticular\n",
    "s.coeff(3)\n"
   ]
  },
  {
   "cell_type": "markdown",
   "metadata": {},
   "source": [
    "**supports slicing**"
   ]
  },
  {
   "cell_type": "code",
   "execution_count": 3,
   "metadata": {},
   "outputs": [
    {
     "data": {
      "text/plain": [
       "[0, 1, 4, 9, 16, 25]"
      ]
     },
     "execution_count": 3,
     "metadata": {},
     "output_type": "execute_result"
    }
   ],
   "source": [
    "s[:]"
   ]
  },
  {
   "cell_type": "code",
   "execution_count": 4,
   "metadata": {},
   "outputs": [
    {
     "data": {
      "text/plain": [
       "[1, 4, 9]"
      ]
     },
     "execution_count": 4,
     "metadata": {},
     "output_type": "execute_result"
    }
   ],
   "source": [
    "s[1:4]"
   ]
  },
  {
   "cell_type": "markdown",
   "metadata": {},
   "source": [
    "**Sequence elements are displayed using list() command**"
   ]
  },
  {
   "cell_type": "code",
   "execution_count": 5,
   "metadata": {},
   "outputs": [
    {
     "data": {
      "text/plain": [
       "[0, 1, 4, 9, 16, 25]"
      ]
     },
     "execution_count": 5,
     "metadata": {},
     "output_type": "execute_result"
    }
   ],
   "source": [
    "list(s)"
   ]
  },
  {
   "cell_type": "markdown",
   "metadata": {},
   "source": [
    "## lets discuss on few types of sequence in python\n",
    "\n",
    "- strings : a group of characters\n",
    "  \n",
    "  \n",
    "  to declare an empty string we may use the function str()"
   ]
  },
  {
   "cell_type": "code",
   "execution_count": 6,
   "metadata": {},
   "outputs": [
    {
     "data": {
      "text/plain": [
       "''"
      ]
     },
     "execution_count": 6,
     "metadata": {},
     "output_type": "execute_result"
    }
   ],
   "source": [
    "name = str()\n",
    "\n",
    "name"
   ]
  },
  {
   "cell_type": "code",
   "execution_count": 7,
   "metadata": {},
   "outputs": [
    {
     "data": {
      "text/plain": [
       "'ann'"
      ]
     },
     "execution_count": 7,
     "metadata": {},
     "output_type": "execute_result"
    }
   ],
   "source": [
    "name = str('ann')\n",
    "name"
   ]
  },
  {
   "cell_type": "markdown",
   "metadata": {},
   "source": [
    "- list: is an ordered group of items. to declare it, we use the square brackets."
   ]
  },
  {
   "cell_type": "code",
   "execution_count": 9,
   "metadata": {},
   "outputs": [
    {
     "data": {
      "text/plain": [
       "['milk', 'bread', 'eggs']"
      ]
     },
     "execution_count": 9,
     "metadata": {},
     "output_type": "execute_result"
    }
   ],
   "source": [
    "groceries = ['milk','bread','eggs']\n",
    "groceries"
   ]
  },
  {
   "cell_type": "code",
   "execution_count": 10,
   "metadata": {},
   "outputs": [
    {
     "data": {
      "text/plain": [
       "[1, '2', 3.0, False]"
      ]
     },
     "execution_count": 10,
     "metadata": {},
     "output_type": "execute_result"
    }
   ],
   "source": [
    "# a list can hold all kind of items\n",
    "mylist = [1,'2',3.0,False]\n",
    "mylist"
   ]
  },
  {
   "cell_type": "code",
   "execution_count": null,
   "metadata": {},
   "outputs": [],
   "source": [
    "#also, a list is mutable. This means we can change a value.\n",
    "mylist[0] = 0"
   ]
  },
  {
   "cell_type": "markdown",
   "metadata": {},
   "source": [
    "- tuples:a tuple is immutable group of items"
   ]
  },
  {
   "cell_type": "code",
   "execution_count": 12,
   "metadata": {},
   "outputs": [
    {
     "data": {
      "text/plain": [
       "(1, 2)"
      ]
     },
     "execution_count": 12,
     "metadata": {},
     "output_type": "execute_result"
    }
   ],
   "source": [
    "n = (1,2)\n",
    "n"
   ]
  },
  {
   "cell_type": "markdown",
   "metadata": {},
   "source": [
    "- range"
   ]
  },
  {
   "cell_type": "code",
   "execution_count": 2,
   "metadata": {},
   "outputs": [
    {
     "name": "stdout",
     "output_type": "stream",
     "text": [
      "0\n",
      "2\n",
      "4\n",
      "6\n",
      "8\n"
     ]
    }
   ],
   "source": [
    "# range(start, stop,step)\n",
    "\n",
    "for i in range(0, 10, 2):\n",
    "    print(i)\n"
   ]
  },
  {
   "cell_type": "code",
   "execution_count": 4,
   "metadata": {},
   "outputs": [
    {
     "name": "stdout",
     "output_type": "stream",
     "text": [
      "1\n",
      "3\n",
      "5\n",
      "7\n",
      "9\n",
      "11\n",
      "13\n",
      "15\n",
      "17\n",
      "19\n"
     ]
    }
   ],
   "source": [
    "# program to generate sequence 3,5,7,9....19\n",
    "\n",
    "for i in range(1, 20, 2):\n",
    "    print(i)\n"
   ]
  },
  {
   "cell_type": "markdown",
   "metadata": {},
   "source": [
    "# Sequence operations"
   ]
  },
  {
   "cell_type": "markdown",
   "metadata": {},
   "source": [
    "## concatenation"
   ]
  },
  {
   "cell_type": "code",
   "execution_count": 5,
   "metadata": {},
   "outputs": [
    {
     "data": {
      "text/plain": [
       "[1, 2, 3, 1, 2, 3]"
      ]
     },
     "execution_count": 5,
     "metadata": {},
     "output_type": "execute_result"
    }
   ],
   "source": [
    "[1, 2, 3] + [1, 2, 3]"
   ]
  },
  {
   "cell_type": "code",
   "execution_count": 6,
   "metadata": {},
   "outputs": [
    {
     "ename": "TypeError",
     "evalue": "can only concatenate tuple (not \"int\") to tuple",
     "output_type": "error",
     "traceback": [
      "\u001b[1;31m---------------------------------------------------------------------------\u001b[0m",
      "\u001b[1;31mTypeError\u001b[0m                                 Traceback (most recent call last)",
      "\u001b[1;32mc:\\Users\\joelv\\Desktop\\projects-2\\math\\8-06-22(math final).ipynb Cell 139\u001b[0m in \u001b[0;36m<cell line: 1>\u001b[1;34m()\u001b[0m\n\u001b[1;32m----> <a href='vscode-notebook-cell:/c%3A/Users/joelv/Desktop/projects-2/math/8-06-22%28math%20final%29.ipynb#Y262sZmlsZQ%3D%3D?line=0'>1</a>\u001b[0m (\u001b[39m1\u001b[39;49m,\u001b[39m2\u001b[39;49m,\u001b[39m3\u001b[39;49m) \u001b[39m+\u001b[39;49m (\u001b[39m2\u001b[39;49m)\n",
      "\u001b[1;31mTypeError\u001b[0m: can only concatenate tuple (not \"int\") to tuple"
     ]
    }
   ],
   "source": [
    "\n",
    "(1,2,3) + (2)"
   ]
  },
  {
   "cell_type": "code",
   "execution_count": 8,
   "metadata": {},
   "outputs": [
    {
     "data": {
      "text/plain": [
       "(9, 0, 7, 9)"
      ]
     },
     "execution_count": 8,
     "metadata": {},
     "output_type": "execute_result"
    }
   ],
   "source": [
    "(9,0,7)+(9,)"
   ]
  },
  {
   "cell_type": "markdown",
   "metadata": {},
   "source": [
    "## repeat"
   ]
  },
  {
   "cell_type": "code",
   "execution_count": 9,
   "metadata": {},
   "outputs": [
    {
     "data": {
      "text/plain": [
       "(1, 2, 3, 1, 2, 3, 1, 2, 3)"
      ]
     },
     "execution_count": 9,
     "metadata": {},
     "output_type": "execute_result"
    }
   ],
   "source": [
    "(1,2,3) *3"
   ]
  },
  {
   "cell_type": "code",
   "execution_count": 10,
   "metadata": {},
   "outputs": [
    {
     "data": {
      "text/plain": [
       "[1, 2, 3, 1, 2, 3, 1, 2, 3]"
      ]
     },
     "execution_count": 10,
     "metadata": {},
     "output_type": "execute_result"
    }
   ],
   "source": [
    "[1,2,3]*3"
   ]
  },
  {
   "cell_type": "code",
   "execution_count": 11,
   "metadata": {},
   "outputs": [
    {
     "data": {
      "text/plain": [
       "'bbb'"
      ]
     },
     "execution_count": 11,
     "metadata": {},
     "output_type": "execute_result"
    }
   ],
   "source": [
    "\"b\"*3"
   ]
  },
  {
   "cell_type": "markdown",
   "metadata": {},
   "source": [
    "## membership"
   ]
  },
  {
   "cell_type": "code",
   "execution_count": 12,
   "metadata": {},
   "outputs": [
    {
     "data": {
      "text/plain": [
       "True"
      ]
     },
     "execution_count": 12,
     "metadata": {},
     "output_type": "execute_result"
    }
   ],
   "source": [
    "'da' in 'daisy'"
   ]
  },
  {
   "cell_type": "code",
   "execution_count": 13,
   "metadata": {},
   "outputs": [
    {
     "data": {
      "text/plain": [
       "True"
      ]
     },
     "execution_count": 13,
     "metadata": {},
     "output_type": "execute_result"
    }
   ],
   "source": [
    "'z' in [1,2,3,'z']"
   ]
  },
  {
   "cell_type": "code",
   "execution_count": 14,
   "metadata": {},
   "outputs": [
    {
     "data": {
      "text/plain": [
       "True"
      ]
     },
     "execution_count": 14,
     "metadata": {},
     "output_type": "execute_result"
    }
   ],
   "source": [
    "1 in range(1,3)"
   ]
  },
  {
   "cell_type": "markdown",
   "metadata": {},
   "source": [
    "# sequence functions"
   ]
  },
  {
   "cell_type": "markdown",
   "metadata": {},
   "source": [
    "## len"
   ]
  },
  {
   "cell_type": "code",
   "execution_count": 15,
   "metadata": {},
   "outputs": [
    {
     "data": {
      "text/plain": [
       "3"
      ]
     },
     "execution_count": 15,
     "metadata": {},
     "output_type": "execute_result"
    }
   ],
   "source": [
    "d = 'bla'\n",
    "\n",
    "len(d)"
   ]
  },
  {
   "cell_type": "code",
   "execution_count": 16,
   "metadata": {},
   "outputs": [
    {
     "data": {
      "text/plain": [
       "7"
      ]
     },
     "execution_count": 16,
     "metadata": {},
     "output_type": "execute_result"
    }
   ],
   "source": [
    "d = [1,2,234,2,234,23,33]\n",
    "len(d)"
   ]
  },
  {
   "cell_type": "markdown",
   "metadata": {},
   "source": [
    "## max or min"
   ]
  },
  {
   "cell_type": "code",
   "execution_count": 17,
   "metadata": {},
   "outputs": [
    {
     "name": "stdout",
     "output_type": "stream",
     "text": [
      "45\n"
     ]
    }
   ],
   "source": [
    "print(max([12,3,45,1]))"
   ]
  },
  {
   "cell_type": "markdown",
   "metadata": {},
   "source": [
    "## index"
   ]
  },
  {
   "cell_type": "code",
   "execution_count": 18,
   "metadata": {},
   "outputs": [
    {
     "data": {
      "text/plain": [
       "1"
      ]
     },
     "execution_count": 18,
     "metadata": {},
     "output_type": "execute_result"
    }
   ],
   "source": [
    "\"joel\".index('o')"
   ]
  },
  {
   "cell_type": "markdown",
   "metadata": {},
   "source": [
    "## count"
   ]
  },
  {
   "cell_type": "code",
   "execution_count": 21,
   "metadata": {},
   "outputs": [
    {
     "data": {
      "text/plain": [
       "6"
      ]
     },
     "execution_count": 21,
     "metadata": {},
     "output_type": "execute_result"
    }
   ],
   "source": [
    "\"deeeeeez plolp\".count(\"e\")"
   ]
  },
  {
   "cell_type": "code",
   "execution_count": null,
   "metadata": {},
   "outputs": [],
   "source": []
  },
  {
   "cell_type": "markdown",
   "metadata": {},
   "source": []
  }
 ],
 "metadata": {
  "kernelspec": {
   "display_name": "Python 3 (ipykernel)",
   "language": "python",
   "name": "python3"
  },
  "language_info": {
   "codemirror_mode": {
    "name": "ipython",
    "version": 3
   },
   "file_extension": ".py",
   "mimetype": "text/x-python",
   "name": "python",
   "nbconvert_exporter": "python",
   "pygments_lexer": "ipython3",
   "version": "3.10.5"
  },
  "vscode": {
   "interpreter": {
    "hash": "546f13b69da2962342bc38bd9c14a62503869531149da76b165cebcf3f8efe14"
   }
  }
 },
 "nbformat": 4,
 "nbformat_minor": 2
}
